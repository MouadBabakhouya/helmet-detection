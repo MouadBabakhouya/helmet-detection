{
  "nbformat": 4,
  "nbformat_minor": 0,
  "metadata": {
    "colab": {
      "provenance": []
    },
    "kernelspec": {
      "name": "python3",
      "display_name": "Python 3"
    },
    "language_info": {
      "name": "python"
    }
  },
  "cells": [
    {
      "cell_type": "code",
      "execution_count": 1,
      "metadata": {
        "colab": {
          "base_uri": "https://localhost:8080/"
        },
        "collapsed": true,
        "id": "xaicxuQq6uMa",
        "outputId": "3c290a93-8fbe-4297-fa96-a904dd4b6ec1"
      },
      "outputs": [
        {
          "output_type": "stream",
          "name": "stdout",
          "text": [
            "Collecting ultralytics\n",
            "  Downloading ultralytics-8.3.174-py3-none-any.whl.metadata (37 kB)\n",
            "Requirement already satisfied: numpy>=1.23.0 in /usr/local/lib/python3.11/dist-packages (from ultralytics) (2.0.2)\n",
            "Requirement already satisfied: matplotlib>=3.3.0 in /usr/local/lib/python3.11/dist-packages (from ultralytics) (3.10.0)\n",
            "Requirement already satisfied: opencv-python>=4.6.0 in /usr/local/lib/python3.11/dist-packages (from ultralytics) (4.12.0.88)\n",
            "Requirement already satisfied: pillow>=7.1.2 in /usr/local/lib/python3.11/dist-packages (from ultralytics) (11.3.0)\n",
            "Requirement already satisfied: pyyaml>=5.3.1 in /usr/local/lib/python3.11/dist-packages (from ultralytics) (6.0.2)\n",
            "Requirement already satisfied: requests>=2.23.0 in /usr/local/lib/python3.11/dist-packages (from ultralytics) (2.32.3)\n",
            "Requirement already satisfied: scipy>=1.4.1 in /usr/local/lib/python3.11/dist-packages (from ultralytics) (1.16.0)\n",
            "Requirement already satisfied: torch>=1.8.0 in /usr/local/lib/python3.11/dist-packages (from ultralytics) (2.6.0+cu124)\n",
            "Requirement already satisfied: torchvision>=0.9.0 in /usr/local/lib/python3.11/dist-packages (from ultralytics) (0.21.0+cu124)\n",
            "Requirement already satisfied: tqdm>=4.64.0 in /usr/local/lib/python3.11/dist-packages (from ultralytics) (4.67.1)\n",
            "Requirement already satisfied: psutil in /usr/local/lib/python3.11/dist-packages (from ultralytics) (5.9.5)\n",
            "Requirement already satisfied: py-cpuinfo in /usr/local/lib/python3.11/dist-packages (from ultralytics) (9.0.0)\n",
            "Requirement already satisfied: pandas>=1.1.4 in /usr/local/lib/python3.11/dist-packages (from ultralytics) (2.2.2)\n",
            "Collecting ultralytics-thop>=2.0.0 (from ultralytics)\n",
            "  Downloading ultralytics_thop-2.0.15-py3-none-any.whl.metadata (14 kB)\n",
            "Requirement already satisfied: contourpy>=1.0.1 in /usr/local/lib/python3.11/dist-packages (from matplotlib>=3.3.0->ultralytics) (1.3.2)\n",
            "Requirement already satisfied: cycler>=0.10 in /usr/local/lib/python3.11/dist-packages (from matplotlib>=3.3.0->ultralytics) (0.12.1)\n",
            "Requirement already satisfied: fonttools>=4.22.0 in /usr/local/lib/python3.11/dist-packages (from matplotlib>=3.3.0->ultralytics) (4.59.0)\n",
            "Requirement already satisfied: kiwisolver>=1.3.1 in /usr/local/lib/python3.11/dist-packages (from matplotlib>=3.3.0->ultralytics) (1.4.8)\n",
            "Requirement already satisfied: packaging>=20.0 in /usr/local/lib/python3.11/dist-packages (from matplotlib>=3.3.0->ultralytics) (25.0)\n",
            "Requirement already satisfied: pyparsing>=2.3.1 in /usr/local/lib/python3.11/dist-packages (from matplotlib>=3.3.0->ultralytics) (3.2.3)\n",
            "Requirement already satisfied: python-dateutil>=2.7 in /usr/local/lib/python3.11/dist-packages (from matplotlib>=3.3.0->ultralytics) (2.9.0.post0)\n",
            "Requirement already satisfied: pytz>=2020.1 in /usr/local/lib/python3.11/dist-packages (from pandas>=1.1.4->ultralytics) (2025.2)\n",
            "Requirement already satisfied: tzdata>=2022.7 in /usr/local/lib/python3.11/dist-packages (from pandas>=1.1.4->ultralytics) (2025.2)\n",
            "Requirement already satisfied: charset-normalizer<4,>=2 in /usr/local/lib/python3.11/dist-packages (from requests>=2.23.0->ultralytics) (3.4.2)\n",
            "Requirement already satisfied: idna<4,>=2.5 in /usr/local/lib/python3.11/dist-packages (from requests>=2.23.0->ultralytics) (3.10)\n",
            "Requirement already satisfied: urllib3<3,>=1.21.1 in /usr/local/lib/python3.11/dist-packages (from requests>=2.23.0->ultralytics) (2.5.0)\n",
            "Requirement already satisfied: certifi>=2017.4.17 in /usr/local/lib/python3.11/dist-packages (from requests>=2.23.0->ultralytics) (2025.7.14)\n",
            "Requirement already satisfied: filelock in /usr/local/lib/python3.11/dist-packages (from torch>=1.8.0->ultralytics) (3.18.0)\n",
            "Requirement already satisfied: typing-extensions>=4.10.0 in /usr/local/lib/python3.11/dist-packages (from torch>=1.8.0->ultralytics) (4.14.1)\n",
            "Requirement already satisfied: networkx in /usr/local/lib/python3.11/dist-packages (from torch>=1.8.0->ultralytics) (3.5)\n",
            "Requirement already satisfied: jinja2 in /usr/local/lib/python3.11/dist-packages (from torch>=1.8.0->ultralytics) (3.1.6)\n",
            "Requirement already satisfied: fsspec in /usr/local/lib/python3.11/dist-packages (from torch>=1.8.0->ultralytics) (2025.3.0)\n",
            "Collecting nvidia-cuda-nvrtc-cu12==12.4.127 (from torch>=1.8.0->ultralytics)\n",
            "  Downloading nvidia_cuda_nvrtc_cu12-12.4.127-py3-none-manylinux2014_x86_64.whl.metadata (1.5 kB)\n",
            "Collecting nvidia-cuda-runtime-cu12==12.4.127 (from torch>=1.8.0->ultralytics)\n",
            "  Downloading nvidia_cuda_runtime_cu12-12.4.127-py3-none-manylinux2014_x86_64.whl.metadata (1.5 kB)\n",
            "Collecting nvidia-cuda-cupti-cu12==12.4.127 (from torch>=1.8.0->ultralytics)\n",
            "  Downloading nvidia_cuda_cupti_cu12-12.4.127-py3-none-manylinux2014_x86_64.whl.metadata (1.6 kB)\n",
            "Collecting nvidia-cudnn-cu12==9.1.0.70 (from torch>=1.8.0->ultralytics)\n",
            "  Downloading nvidia_cudnn_cu12-9.1.0.70-py3-none-manylinux2014_x86_64.whl.metadata (1.6 kB)\n",
            "Collecting nvidia-cublas-cu12==12.4.5.8 (from torch>=1.8.0->ultralytics)\n",
            "  Downloading nvidia_cublas_cu12-12.4.5.8-py3-none-manylinux2014_x86_64.whl.metadata (1.5 kB)\n",
            "Collecting nvidia-cufft-cu12==11.2.1.3 (from torch>=1.8.0->ultralytics)\n",
            "  Downloading nvidia_cufft_cu12-11.2.1.3-py3-none-manylinux2014_x86_64.whl.metadata (1.5 kB)\n",
            "Collecting nvidia-curand-cu12==10.3.5.147 (from torch>=1.8.0->ultralytics)\n",
            "  Downloading nvidia_curand_cu12-10.3.5.147-py3-none-manylinux2014_x86_64.whl.metadata (1.5 kB)\n",
            "Collecting nvidia-cusolver-cu12==11.6.1.9 (from torch>=1.8.0->ultralytics)\n",
            "  Downloading nvidia_cusolver_cu12-11.6.1.9-py3-none-manylinux2014_x86_64.whl.metadata (1.6 kB)\n",
            "Collecting nvidia-cusparse-cu12==12.3.1.170 (from torch>=1.8.0->ultralytics)\n",
            "  Downloading nvidia_cusparse_cu12-12.3.1.170-py3-none-manylinux2014_x86_64.whl.metadata (1.6 kB)\n",
            "Requirement already satisfied: nvidia-cusparselt-cu12==0.6.2 in /usr/local/lib/python3.11/dist-packages (from torch>=1.8.0->ultralytics) (0.6.2)\n",
            "Requirement already satisfied: nvidia-nccl-cu12==2.21.5 in /usr/local/lib/python3.11/dist-packages (from torch>=1.8.0->ultralytics) (2.21.5)\n",
            "Requirement already satisfied: nvidia-nvtx-cu12==12.4.127 in /usr/local/lib/python3.11/dist-packages (from torch>=1.8.0->ultralytics) (12.4.127)\n",
            "Collecting nvidia-nvjitlink-cu12==12.4.127 (from torch>=1.8.0->ultralytics)\n",
            "  Downloading nvidia_nvjitlink_cu12-12.4.127-py3-none-manylinux2014_x86_64.whl.metadata (1.5 kB)\n",
            "Requirement already satisfied: triton==3.2.0 in /usr/local/lib/python3.11/dist-packages (from torch>=1.8.0->ultralytics) (3.2.0)\n",
            "Requirement already satisfied: sympy==1.13.1 in /usr/local/lib/python3.11/dist-packages (from torch>=1.8.0->ultralytics) (1.13.1)\n",
            "Requirement already satisfied: mpmath<1.4,>=1.1.0 in /usr/local/lib/python3.11/dist-packages (from sympy==1.13.1->torch>=1.8.0->ultralytics) (1.3.0)\n",
            "Requirement already satisfied: six>=1.5 in /usr/local/lib/python3.11/dist-packages (from python-dateutil>=2.7->matplotlib>=3.3.0->ultralytics) (1.17.0)\n",
            "Requirement already satisfied: MarkupSafe>=2.0 in /usr/local/lib/python3.11/dist-packages (from jinja2->torch>=1.8.0->ultralytics) (3.0.2)\n",
            "Downloading ultralytics-8.3.174-py3-none-any.whl (1.0 MB)\n",
            "\u001b[2K   \u001b[90m━━━━━━━━━━━━━━━━━━━━━━━━━━━━━━━━━━━━━━━━\u001b[0m \u001b[32m1.0/1.0 MB\u001b[0m \u001b[31m18.4 MB/s\u001b[0m eta \u001b[36m0:00:00\u001b[0m\n",
            "\u001b[?25hDownloading nvidia_cublas_cu12-12.4.5.8-py3-none-manylinux2014_x86_64.whl (363.4 MB)\n",
            "\u001b[2K   \u001b[90m━━━━━━━━━━━━━━━━━━━━━━━━━━━━━━━━━━━━━━━━\u001b[0m \u001b[32m363.4/363.4 MB\u001b[0m \u001b[31m1.5 MB/s\u001b[0m eta \u001b[36m0:00:00\u001b[0m\n",
            "\u001b[?25hDownloading nvidia_cuda_cupti_cu12-12.4.127-py3-none-manylinux2014_x86_64.whl (13.8 MB)\n",
            "\u001b[2K   \u001b[90m━━━━━━━━━━━━━━━━━━━━━━━━━━━━━━━━━━━━━━━━\u001b[0m \u001b[32m13.8/13.8 MB\u001b[0m \u001b[31m76.7 MB/s\u001b[0m eta \u001b[36m0:00:00\u001b[0m\n",
            "\u001b[?25hDownloading nvidia_cuda_nvrtc_cu12-12.4.127-py3-none-manylinux2014_x86_64.whl (24.6 MB)\n",
            "\u001b[2K   \u001b[90m━━━━━━━━━━━━━━━━━━━━━━━━━━━━━━━━━━━━━━━━\u001b[0m \u001b[32m24.6/24.6 MB\u001b[0m \u001b[31m59.0 MB/s\u001b[0m eta \u001b[36m0:00:00\u001b[0m\n",
            "\u001b[?25hDownloading nvidia_cuda_runtime_cu12-12.4.127-py3-none-manylinux2014_x86_64.whl (883 kB)\n",
            "\u001b[2K   \u001b[90m━━━━━━━━━━━━━━━━━━━━━━━━━━━━━━━━━━━━━━━━\u001b[0m \u001b[32m883.7/883.7 kB\u001b[0m \u001b[31m39.8 MB/s\u001b[0m eta \u001b[36m0:00:00\u001b[0m\n",
            "\u001b[?25hDownloading nvidia_cudnn_cu12-9.1.0.70-py3-none-manylinux2014_x86_64.whl (664.8 MB)\n",
            "\u001b[2K   \u001b[90m━━━━━━━━━━━━━━━━━━━━━━━━━━━━━━━━━━━━━━━━\u001b[0m \u001b[32m664.8/664.8 MB\u001b[0m \u001b[31m2.7 MB/s\u001b[0m eta \u001b[36m0:00:00\u001b[0m\n",
            "\u001b[?25hDownloading nvidia_cufft_cu12-11.2.1.3-py3-none-manylinux2014_x86_64.whl (211.5 MB)\n",
            "\u001b[2K   \u001b[90m━━━━━━━━━━━━━━━━━━━━━━━━━━━━━━━━━━━━━━━━\u001b[0m \u001b[32m211.5/211.5 MB\u001b[0m \u001b[31m2.2 MB/s\u001b[0m eta \u001b[36m0:00:00\u001b[0m\n",
            "\u001b[?25hDownloading nvidia_curand_cu12-10.3.5.147-py3-none-manylinux2014_x86_64.whl (56.3 MB)\n",
            "\u001b[2K   \u001b[90m━━━━━━━━━━━━━━━━━━━━━━━━━━━━━━━━━━━━━━━━\u001b[0m \u001b[32m56.3/56.3 MB\u001b[0m \u001b[31m10.2 MB/s\u001b[0m eta \u001b[36m0:00:00\u001b[0m\n",
            "\u001b[?25hDownloading nvidia_cusolver_cu12-11.6.1.9-py3-none-manylinux2014_x86_64.whl (127.9 MB)\n",
            "\u001b[2K   \u001b[90m━━━━━━━━━━━━━━━━━━━━━━━━━━━━━━━━━━━━━━━━\u001b[0m \u001b[32m127.9/127.9 MB\u001b[0m \u001b[31m6.1 MB/s\u001b[0m eta \u001b[36m0:00:00\u001b[0m\n",
            "\u001b[?25hDownloading nvidia_cusparse_cu12-12.3.1.170-py3-none-manylinux2014_x86_64.whl (207.5 MB)\n",
            "\u001b[2K   \u001b[90m━━━━━━━━━━━━━━━━━━━━━━━━━━━━━━━━━━━━━━━━\u001b[0m \u001b[32m207.5/207.5 MB\u001b[0m \u001b[31m5.0 MB/s\u001b[0m eta \u001b[36m0:00:00\u001b[0m\n",
            "\u001b[?25hDownloading nvidia_nvjitlink_cu12-12.4.127-py3-none-manylinux2014_x86_64.whl (21.1 MB)\n",
            "\u001b[2K   \u001b[90m━━━━━━━━━━━━━━━━━━━━━━━━━━━━━━━━━━━━━━━━\u001b[0m \u001b[32m21.1/21.1 MB\u001b[0m \u001b[31m61.0 MB/s\u001b[0m eta \u001b[36m0:00:00\u001b[0m\n",
            "\u001b[?25hDownloading ultralytics_thop-2.0.15-py3-none-any.whl (28 kB)\n",
            "Installing collected packages: nvidia-nvjitlink-cu12, nvidia-curand-cu12, nvidia-cufft-cu12, nvidia-cuda-runtime-cu12, nvidia-cuda-nvrtc-cu12, nvidia-cuda-cupti-cu12, nvidia-cublas-cu12, nvidia-cusparse-cu12, nvidia-cudnn-cu12, nvidia-cusolver-cu12, ultralytics-thop, ultralytics\n",
            "  Attempting uninstall: nvidia-nvjitlink-cu12\n",
            "    Found existing installation: nvidia-nvjitlink-cu12 12.5.82\n",
            "    Uninstalling nvidia-nvjitlink-cu12-12.5.82:\n",
            "      Successfully uninstalled nvidia-nvjitlink-cu12-12.5.82\n",
            "  Attempting uninstall: nvidia-curand-cu12\n",
            "    Found existing installation: nvidia-curand-cu12 10.3.6.82\n",
            "    Uninstalling nvidia-curand-cu12-10.3.6.82:\n",
            "      Successfully uninstalled nvidia-curand-cu12-10.3.6.82\n",
            "  Attempting uninstall: nvidia-cufft-cu12\n",
            "    Found existing installation: nvidia-cufft-cu12 11.2.3.61\n",
            "    Uninstalling nvidia-cufft-cu12-11.2.3.61:\n",
            "      Successfully uninstalled nvidia-cufft-cu12-11.2.3.61\n",
            "  Attempting uninstall: nvidia-cuda-runtime-cu12\n",
            "    Found existing installation: nvidia-cuda-runtime-cu12 12.5.82\n",
            "    Uninstalling nvidia-cuda-runtime-cu12-12.5.82:\n",
            "      Successfully uninstalled nvidia-cuda-runtime-cu12-12.5.82\n",
            "  Attempting uninstall: nvidia-cuda-nvrtc-cu12\n",
            "    Found existing installation: nvidia-cuda-nvrtc-cu12 12.5.82\n",
            "    Uninstalling nvidia-cuda-nvrtc-cu12-12.5.82:\n",
            "      Successfully uninstalled nvidia-cuda-nvrtc-cu12-12.5.82\n",
            "  Attempting uninstall: nvidia-cuda-cupti-cu12\n",
            "    Found existing installation: nvidia-cuda-cupti-cu12 12.5.82\n",
            "    Uninstalling nvidia-cuda-cupti-cu12-12.5.82:\n",
            "      Successfully uninstalled nvidia-cuda-cupti-cu12-12.5.82\n",
            "  Attempting uninstall: nvidia-cublas-cu12\n",
            "    Found existing installation: nvidia-cublas-cu12 12.5.3.2\n",
            "    Uninstalling nvidia-cublas-cu12-12.5.3.2:\n",
            "      Successfully uninstalled nvidia-cublas-cu12-12.5.3.2\n",
            "  Attempting uninstall: nvidia-cusparse-cu12\n",
            "    Found existing installation: nvidia-cusparse-cu12 12.5.1.3\n",
            "    Uninstalling nvidia-cusparse-cu12-12.5.1.3:\n",
            "      Successfully uninstalled nvidia-cusparse-cu12-12.5.1.3\n",
            "  Attempting uninstall: nvidia-cudnn-cu12\n",
            "    Found existing installation: nvidia-cudnn-cu12 9.3.0.75\n",
            "    Uninstalling nvidia-cudnn-cu12-9.3.0.75:\n",
            "      Successfully uninstalled nvidia-cudnn-cu12-9.3.0.75\n",
            "  Attempting uninstall: nvidia-cusolver-cu12\n",
            "    Found existing installation: nvidia-cusolver-cu12 11.6.3.83\n",
            "    Uninstalling nvidia-cusolver-cu12-11.6.3.83:\n",
            "      Successfully uninstalled nvidia-cusolver-cu12-11.6.3.83\n",
            "Successfully installed nvidia-cublas-cu12-12.4.5.8 nvidia-cuda-cupti-cu12-12.4.127 nvidia-cuda-nvrtc-cu12-12.4.127 nvidia-cuda-runtime-cu12-12.4.127 nvidia-cudnn-cu12-9.1.0.70 nvidia-cufft-cu12-11.2.1.3 nvidia-curand-cu12-10.3.5.147 nvidia-cusolver-cu12-11.6.1.9 nvidia-cusparse-cu12-12.3.1.170 nvidia-nvjitlink-cu12-12.4.127 ultralytics-8.3.174 ultralytics-thop-2.0.15\n"
          ]
        }
      ],
      "source": [
        "!pip install ultralytics"
      ]
    },
    {
      "cell_type": "code",
      "source": [
        "from ultralytics import YOLO\n",
        "from google.colab import files\n",
        "import os"
      ],
      "metadata": {
        "colab": {
          "base_uri": "https://localhost:8080/"
        },
        "id": "HqNi1__o7wWP",
        "outputId": "2d2911ca-fdc2-4ef0-c3d0-179a05b58439"
      },
      "execution_count": 2,
      "outputs": [
        {
          "output_type": "stream",
          "name": "stdout",
          "text": [
            "Creating new Ultralytics Settings v0.0.6 file ✅ \n",
            "View Ultralytics Settings with 'yolo settings' or at '/root/.config/Ultralytics/settings.json'\n",
            "Update Settings with 'yolo settings key=value', i.e. 'yolo settings runs_dir=path/to/dir'. For help see https://docs.ultralytics.com/quickstart/#ultralytics-settings.\n"
          ]
        }
      ]
    },
    {
      "cell_type": "code",
      "source": [
        "# Upload the new Roboflow export (with 400 labeled images)\n",
        "uploaded = files.upload()"
      ],
      "metadata": {
        "colab": {
          "base_uri": "https://localhost:8080/",
          "height": 73
        },
        "id": "wxkeTM3X7zyt",
        "outputId": "c00e767b-73cb-4897-bcb6-c3268cc6da46"
      },
      "execution_count": 3,
      "outputs": [
        {
          "output_type": "display_data",
          "data": {
            "text/plain": [
              "<IPython.core.display.HTML object>"
            ],
            "text/html": [
              "\n",
              "     <input type=\"file\" id=\"files-ca6e8cc0-186e-4bf7-8a18-497ad27938e8\" name=\"files[]\" multiple disabled\n",
              "        style=\"border:none\" />\n",
              "     <output id=\"result-ca6e8cc0-186e-4bf7-8a18-497ad27938e8\">\n",
              "      Upload widget is only available when the cell has been executed in the\n",
              "      current browser session. Please rerun this cell to enable.\n",
              "      </output>\n",
              "      <script>// Copyright 2017 Google LLC\n",
              "//\n",
              "// Licensed under the Apache License, Version 2.0 (the \"License\");\n",
              "// you may not use this file except in compliance with the License.\n",
              "// You may obtain a copy of the License at\n",
              "//\n",
              "//      http://www.apache.org/licenses/LICENSE-2.0\n",
              "//\n",
              "// Unless required by applicable law or agreed to in writing, software\n",
              "// distributed under the License is distributed on an \"AS IS\" BASIS,\n",
              "// WITHOUT WARRANTIES OR CONDITIONS OF ANY KIND, either express or implied.\n",
              "// See the License for the specific language governing permissions and\n",
              "// limitations under the License.\n",
              "\n",
              "/**\n",
              " * @fileoverview Helpers for google.colab Python module.\n",
              " */\n",
              "(function(scope) {\n",
              "function span(text, styleAttributes = {}) {\n",
              "  const element = document.createElement('span');\n",
              "  element.textContent = text;\n",
              "  for (const key of Object.keys(styleAttributes)) {\n",
              "    element.style[key] = styleAttributes[key];\n",
              "  }\n",
              "  return element;\n",
              "}\n",
              "\n",
              "// Max number of bytes which will be uploaded at a time.\n",
              "const MAX_PAYLOAD_SIZE = 100 * 1024;\n",
              "\n",
              "function _uploadFiles(inputId, outputId) {\n",
              "  const steps = uploadFilesStep(inputId, outputId);\n",
              "  const outputElement = document.getElementById(outputId);\n",
              "  // Cache steps on the outputElement to make it available for the next call\n",
              "  // to uploadFilesContinue from Python.\n",
              "  outputElement.steps = steps;\n",
              "\n",
              "  return _uploadFilesContinue(outputId);\n",
              "}\n",
              "\n",
              "// This is roughly an async generator (not supported in the browser yet),\n",
              "// where there are multiple asynchronous steps and the Python side is going\n",
              "// to poll for completion of each step.\n",
              "// This uses a Promise to block the python side on completion of each step,\n",
              "// then passes the result of the previous step as the input to the next step.\n",
              "function _uploadFilesContinue(outputId) {\n",
              "  const outputElement = document.getElementById(outputId);\n",
              "  const steps = outputElement.steps;\n",
              "\n",
              "  const next = steps.next(outputElement.lastPromiseValue);\n",
              "  return Promise.resolve(next.value.promise).then((value) => {\n",
              "    // Cache the last promise value to make it available to the next\n",
              "    // step of the generator.\n",
              "    outputElement.lastPromiseValue = value;\n",
              "    return next.value.response;\n",
              "  });\n",
              "}\n",
              "\n",
              "/**\n",
              " * Generator function which is called between each async step of the upload\n",
              " * process.\n",
              " * @param {string} inputId Element ID of the input file picker element.\n",
              " * @param {string} outputId Element ID of the output display.\n",
              " * @return {!Iterable<!Object>} Iterable of next steps.\n",
              " */\n",
              "function* uploadFilesStep(inputId, outputId) {\n",
              "  const inputElement = document.getElementById(inputId);\n",
              "  inputElement.disabled = false;\n",
              "\n",
              "  const outputElement = document.getElementById(outputId);\n",
              "  outputElement.innerHTML = '';\n",
              "\n",
              "  const pickedPromise = new Promise((resolve) => {\n",
              "    inputElement.addEventListener('change', (e) => {\n",
              "      resolve(e.target.files);\n",
              "    });\n",
              "  });\n",
              "\n",
              "  const cancel = document.createElement('button');\n",
              "  inputElement.parentElement.appendChild(cancel);\n",
              "  cancel.textContent = 'Cancel upload';\n",
              "  const cancelPromise = new Promise((resolve) => {\n",
              "    cancel.onclick = () => {\n",
              "      resolve(null);\n",
              "    };\n",
              "  });\n",
              "\n",
              "  // Wait for the user to pick the files.\n",
              "  const files = yield {\n",
              "    promise: Promise.race([pickedPromise, cancelPromise]),\n",
              "    response: {\n",
              "      action: 'starting',\n",
              "    }\n",
              "  };\n",
              "\n",
              "  cancel.remove();\n",
              "\n",
              "  // Disable the input element since further picks are not allowed.\n",
              "  inputElement.disabled = true;\n",
              "\n",
              "  if (!files) {\n",
              "    return {\n",
              "      response: {\n",
              "        action: 'complete',\n",
              "      }\n",
              "    };\n",
              "  }\n",
              "\n",
              "  for (const file of files) {\n",
              "    const li = document.createElement('li');\n",
              "    li.append(span(file.name, {fontWeight: 'bold'}));\n",
              "    li.append(span(\n",
              "        `(${file.type || 'n/a'}) - ${file.size} bytes, ` +\n",
              "        `last modified: ${\n",
              "            file.lastModifiedDate ? file.lastModifiedDate.toLocaleDateString() :\n",
              "                                    'n/a'} - `));\n",
              "    const percent = span('0% done');\n",
              "    li.appendChild(percent);\n",
              "\n",
              "    outputElement.appendChild(li);\n",
              "\n",
              "    const fileDataPromise = new Promise((resolve) => {\n",
              "      const reader = new FileReader();\n",
              "      reader.onload = (e) => {\n",
              "        resolve(e.target.result);\n",
              "      };\n",
              "      reader.readAsArrayBuffer(file);\n",
              "    });\n",
              "    // Wait for the data to be ready.\n",
              "    let fileData = yield {\n",
              "      promise: fileDataPromise,\n",
              "      response: {\n",
              "        action: 'continue',\n",
              "      }\n",
              "    };\n",
              "\n",
              "    // Use a chunked sending to avoid message size limits. See b/62115660.\n",
              "    let position = 0;\n",
              "    do {\n",
              "      const length = Math.min(fileData.byteLength - position, MAX_PAYLOAD_SIZE);\n",
              "      const chunk = new Uint8Array(fileData, position, length);\n",
              "      position += length;\n",
              "\n",
              "      const base64 = btoa(String.fromCharCode.apply(null, chunk));\n",
              "      yield {\n",
              "        response: {\n",
              "          action: 'append',\n",
              "          file: file.name,\n",
              "          data: base64,\n",
              "        },\n",
              "      };\n",
              "\n",
              "      let percentDone = fileData.byteLength === 0 ?\n",
              "          100 :\n",
              "          Math.round((position / fileData.byteLength) * 100);\n",
              "      percent.textContent = `${percentDone}% done`;\n",
              "\n",
              "    } while (position < fileData.byteLength);\n",
              "  }\n",
              "\n",
              "  // All done.\n",
              "  yield {\n",
              "    response: {\n",
              "      action: 'complete',\n",
              "    }\n",
              "  };\n",
              "}\n",
              "\n",
              "scope.google = scope.google || {};\n",
              "scope.google.colab = scope.google.colab || {};\n",
              "scope.google.colab._files = {\n",
              "  _uploadFiles,\n",
              "  _uploadFilesContinue,\n",
              "};\n",
              "})(self);\n",
              "</script> "
            ]
          },
          "metadata": {}
        },
        {
          "output_type": "stream",
          "name": "stdout",
          "text": [
            "Saving Helmet Detection.v3i.yolov8.zip to Helmet Detection.v3i.yolov8.zip\n"
          ]
        }
      ]
    },
    {
      "cell_type": "code",
      "source": [
        "!unzip \"Helmet Detection.v3i.yolov8.zip\" -d helmet_dataset_v2"
      ],
      "metadata": {
        "colab": {
          "base_uri": "https://localhost:8080/"
        },
        "collapsed": true,
        "id": "U-J2bFiCNwZl",
        "outputId": "80743ad6-3401-4994-971a-73ca05f820bc"
      },
      "execution_count": 4,
      "outputs": [
        {
          "output_type": "stream",
          "name": "stdout",
          "text": [
            "Archive:  Helmet Detection.v3i.yolov8.zip\n",
            "  inflating: helmet_dataset_v2/README.dataset.txt  \n",
            "  inflating: helmet_dataset_v2/README.roboflow.txt  \n",
            "  inflating: helmet_dataset_v2/data.yaml  \n",
            "   creating: helmet_dataset_v2/test/\n",
            "   creating: helmet_dataset_v2/test/images/\n",
            " extracting: helmet_dataset_v2/test/images/101_jpg.rf.d4cb4dc2fe939431d1c5de1f60be7019.jpg  \n",
            " extracting: helmet_dataset_v2/test/images/111_jpg.rf.acddc5e7e26f2d761bf621e62f1511ad.jpg  \n",
            " extracting: helmet_dataset_v2/test/images/11_jpg.rf.9c866c2b4a586b90ded99dc27bacef0a.jpg  \n",
            " extracting: helmet_dataset_v2/test/images/130_jpeg.rf.7a15fc90fc1954bb87732c2086fd0888.jpg  \n",
            " extracting: helmet_dataset_v2/test/images/138_jpg.rf.0350b8a63321595495524f0b4e35cfa7.jpg  \n",
            " extracting: helmet_dataset_v2/test/images/153_jpg.rf.1cd89313b211ef74529915e3b06d3b96.jpg  \n",
            " extracting: helmet_dataset_v2/test/images/158_jpg.rf.9451df51ea30dd2ad5ed973146acb095.jpg  \n",
            " extracting: helmet_dataset_v2/test/images/164_jpg.rf.3c76a583391dcce215d07bb2d2dc6566.jpg  \n",
            " extracting: helmet_dataset_v2/test/images/171_jpg.rf.f056d027c8a1836878678d4798752faf.jpg  \n",
            " extracting: helmet_dataset_v2/test/images/173_jpg.rf.fd1f1c01b91a7f5a5b6bf9a5b5c5854a.jpg  \n",
            " extracting: helmet_dataset_v2/test/images/179_jpg.rf.87b91705578d08ec55d612b5eb86dfeb.jpg  \n",
            " extracting: helmet_dataset_v2/test/images/17_jpg.rf.1fa2eac55dc9ba78a73f9eee72308bb6.jpg  \n",
            " extracting: helmet_dataset_v2/test/images/183_jpg.rf.30ddd63e65cfd0368c837e99c4e8f48b.jpg  \n",
            " extracting: helmet_dataset_v2/test/images/194_jpg.rf.6fc81f1e9c20255c620740ee158b5328.jpg  \n",
            " extracting: helmet_dataset_v2/test/images/201_jpg.rf.95b813e16fd5f632ab229f3983edd8ce.jpg  \n",
            " extracting: helmet_dataset_v2/test/images/204_jpg.rf.f1eb3491581a9029b6979c93716b31fd.jpg  \n",
            " extracting: helmet_dataset_v2/test/images/218_jpg.rf.13b3fe35e6422b0aa92736eedb838a82.jpg  \n",
            " extracting: helmet_dataset_v2/test/images/246_jpg.rf.78010f898b54dcd6d71f2ea8e2f6ec6e.jpg  \n",
            " extracting: helmet_dataset_v2/test/images/256_jpg.rf.db483559760ca279fd425e0d05c2792b.jpg  \n",
            " extracting: helmet_dataset_v2/test/images/274_jpeg.rf.0497c18cf8d4664d0d1560079a6250ce.jpg  \n",
            " extracting: helmet_dataset_v2/test/images/276_jpeg.rf.a98128f16c216d7c9eec1d07908b04ca.jpg  \n",
            " extracting: helmet_dataset_v2/test/images/278_jpeg.rf.18be2d44a9ded98022636439029ed06e.jpg  \n",
            " extracting: helmet_dataset_v2/test/images/282_jpeg.rf.080c435b9a41f6ef4185d61e7620f8a7.jpg  \n",
            " extracting: helmet_dataset_v2/test/images/297_jpg.rf.75187d07eb6f78632d59d0387b1a4e14.jpg  \n",
            " extracting: helmet_dataset_v2/test/images/301_jpg.rf.95916a0c58cc1b6b42e5d78cdd8f9fe9.jpg  \n",
            " extracting: helmet_dataset_v2/test/images/309_jpg.rf.042e3d5fdd5ae8a6361d71005af36d43.jpg  \n",
            " extracting: helmet_dataset_v2/test/images/30_jpg.rf.c6a3e648db2e79676ec76903817487e4.jpg  \n",
            " extracting: helmet_dataset_v2/test/images/314_jpg.rf.4958c316f17393b1fa3c257d0ab4f812.jpg  \n",
            " extracting: helmet_dataset_v2/test/images/323_jpeg.rf.c8a4590875e3c30adb0283c5e7c3a124.jpg  \n",
            " extracting: helmet_dataset_v2/test/images/326_jpg.rf.52fc459cef266eaedc0ec54e83adc1d8.jpg  \n",
            " extracting: helmet_dataset_v2/test/images/327_jpg.rf.1818c687b171771422f7349d8a51f1eb.jpg  \n",
            " extracting: helmet_dataset_v2/test/images/337_jpg.rf.7f62ac00063bac1183639735e763390a.jpg  \n",
            " extracting: helmet_dataset_v2/test/images/339_jpg.rf.7e359a73a8b2e108533e40cdf5d340ae.jpg  \n",
            " extracting: helmet_dataset_v2/test/images/345_jpg.rf.1f623fb67c6b94f0f8b873ab1704f07f.jpg  \n",
            " extracting: helmet_dataset_v2/test/images/53_jpg.rf.dbd043de01c5cb6c1ec527b4b44bf872.jpg  \n",
            " extracting: helmet_dataset_v2/test/images/54_png.rf.796e78aa7a9fcc463768b776834af4fa.jpg  \n",
            " extracting: helmet_dataset_v2/test/images/55_jpg.rf.ac60b5736c1611564df0b309ec57a0b7.jpg  \n",
            " extracting: helmet_dataset_v2/test/images/57_jpg.rf.9f7844d212eb5327b859511e59bbf7cf.jpg  \n",
            " extracting: helmet_dataset_v2/test/images/92_jpg.rf.6a0654d37038cfbb5e955c35152285f5.jpg  \n",
            " extracting: helmet_dataset_v2/test/images/96_jpg.rf.7daefd628d3fb90b4cd484907b0f2708.jpg  \n",
            "   creating: helmet_dataset_v2/test/labels/\n",
            "  inflating: helmet_dataset_v2/test/labels/101_jpg.rf.d4cb4dc2fe939431d1c5de1f60be7019.txt  \n",
            "  inflating: helmet_dataset_v2/test/labels/111_jpg.rf.acddc5e7e26f2d761bf621e62f1511ad.txt  \n",
            "  inflating: helmet_dataset_v2/test/labels/11_jpg.rf.9c866c2b4a586b90ded99dc27bacef0a.txt  \n",
            "  inflating: helmet_dataset_v2/test/labels/130_jpeg.rf.7a15fc90fc1954bb87732c2086fd0888.txt  \n",
            " extracting: helmet_dataset_v2/test/labels/138_jpg.rf.0350b8a63321595495524f0b4e35cfa7.txt  \n",
            "  inflating: helmet_dataset_v2/test/labels/153_jpg.rf.1cd89313b211ef74529915e3b06d3b96.txt  \n",
            "  inflating: helmet_dataset_v2/test/labels/158_jpg.rf.9451df51ea30dd2ad5ed973146acb095.txt  \n",
            "  inflating: helmet_dataset_v2/test/labels/164_jpg.rf.3c76a583391dcce215d07bb2d2dc6566.txt  \n",
            "  inflating: helmet_dataset_v2/test/labels/171_jpg.rf.f056d027c8a1836878678d4798752faf.txt  \n",
            "  inflating: helmet_dataset_v2/test/labels/173_jpg.rf.fd1f1c01b91a7f5a5b6bf9a5b5c5854a.txt  \n",
            "  inflating: helmet_dataset_v2/test/labels/179_jpg.rf.87b91705578d08ec55d612b5eb86dfeb.txt  \n",
            "  inflating: helmet_dataset_v2/test/labels/17_jpg.rf.1fa2eac55dc9ba78a73f9eee72308bb6.txt  \n",
            "  inflating: helmet_dataset_v2/test/labels/183_jpg.rf.30ddd63e65cfd0368c837e99c4e8f48b.txt  \n",
            "  inflating: helmet_dataset_v2/test/labels/194_jpg.rf.6fc81f1e9c20255c620740ee158b5328.txt  \n",
            "  inflating: helmet_dataset_v2/test/labels/201_jpg.rf.95b813e16fd5f632ab229f3983edd8ce.txt  \n",
            "  inflating: helmet_dataset_v2/test/labels/204_jpg.rf.f1eb3491581a9029b6979c93716b31fd.txt  \n",
            "  inflating: helmet_dataset_v2/test/labels/218_jpg.rf.13b3fe35e6422b0aa92736eedb838a82.txt  \n",
            "  inflating: helmet_dataset_v2/test/labels/246_jpg.rf.78010f898b54dcd6d71f2ea8e2f6ec6e.txt  \n",
            "  inflating: helmet_dataset_v2/test/labels/256_jpg.rf.db483559760ca279fd425e0d05c2792b.txt  \n",
            "  inflating: helmet_dataset_v2/test/labels/274_jpeg.rf.0497c18cf8d4664d0d1560079a6250ce.txt  \n",
            "  inflating: helmet_dataset_v2/test/labels/276_jpeg.rf.a98128f16c216d7c9eec1d07908b04ca.txt  \n",
            "  inflating: helmet_dataset_v2/test/labels/278_jpeg.rf.18be2d44a9ded98022636439029ed06e.txt  \n",
            "  inflating: helmet_dataset_v2/test/labels/282_jpeg.rf.080c435b9a41f6ef4185d61e7620f8a7.txt  \n",
            "  inflating: helmet_dataset_v2/test/labels/297_jpg.rf.75187d07eb6f78632d59d0387b1a4e14.txt  \n",
            "  inflating: helmet_dataset_v2/test/labels/301_jpg.rf.95916a0c58cc1b6b42e5d78cdd8f9fe9.txt  \n",
            "  inflating: helmet_dataset_v2/test/labels/309_jpg.rf.042e3d5fdd5ae8a6361d71005af36d43.txt  \n",
            "  inflating: helmet_dataset_v2/test/labels/30_jpg.rf.c6a3e648db2e79676ec76903817487e4.txt  \n",
            "  inflating: helmet_dataset_v2/test/labels/314_jpg.rf.4958c316f17393b1fa3c257d0ab4f812.txt  \n",
            "  inflating: helmet_dataset_v2/test/labels/323_jpeg.rf.c8a4590875e3c30adb0283c5e7c3a124.txt  \n",
            "  inflating: helmet_dataset_v2/test/labels/326_jpg.rf.52fc459cef266eaedc0ec54e83adc1d8.txt  \n",
            "  inflating: helmet_dataset_v2/test/labels/327_jpg.rf.1818c687b171771422f7349d8a51f1eb.txt  \n",
            "  inflating: helmet_dataset_v2/test/labels/337_jpg.rf.7f62ac00063bac1183639735e763390a.txt  \n",
            "  inflating: helmet_dataset_v2/test/labels/339_jpg.rf.7e359a73a8b2e108533e40cdf5d340ae.txt  \n",
            "  inflating: helmet_dataset_v2/test/labels/345_jpg.rf.1f623fb67c6b94f0f8b873ab1704f07f.txt  \n",
            "  inflating: helmet_dataset_v2/test/labels/53_jpg.rf.dbd043de01c5cb6c1ec527b4b44bf872.txt  \n",
            "  inflating: helmet_dataset_v2/test/labels/54_png.rf.796e78aa7a9fcc463768b776834af4fa.txt  \n",
            "  inflating: helmet_dataset_v2/test/labels/55_jpg.rf.ac60b5736c1611564df0b309ec57a0b7.txt  \n",
            "  inflating: helmet_dataset_v2/test/labels/57_jpg.rf.9f7844d212eb5327b859511e59bbf7cf.txt  \n",
            "  inflating: helmet_dataset_v2/test/labels/92_jpg.rf.6a0654d37038cfbb5e955c35152285f5.txt  \n",
            "  inflating: helmet_dataset_v2/test/labels/96_jpg.rf.7daefd628d3fb90b4cd484907b0f2708.txt  \n",
            "   creating: helmet_dataset_v2/train/\n",
            "   creating: helmet_dataset_v2/train/images/\n",
            " extracting: helmet_dataset_v2/train/images/100_jpg.rf.036f2c10066fbe1876e4e22e56fc355a.jpg  \n",
            " extracting: helmet_dataset_v2/train/images/104_jpg.rf.2cd5d39a523c49f7eb8d0b4819f22b65.jpg  \n",
            " extracting: helmet_dataset_v2/train/images/105_jpg.rf.37bdfc579efd876e5d0a932344bc01c3.jpg  \n",
            " extracting: helmet_dataset_v2/train/images/106_jpg.rf.b65d6638067594c28b759bbcec4b292a.jpg  \n",
            " extracting: helmet_dataset_v2/train/images/107_jpg.rf.1835b1415cef383639d2b3b37b7101af.jpg  \n",
            " extracting: helmet_dataset_v2/train/images/108_jpg.rf.bfe3c25efa6ffd041bbd1d04fa9667bc.jpg  \n",
            " extracting: helmet_dataset_v2/train/images/109_jpg.rf.f5703e41528bbd625f67ec61e5f68380.jpg  \n",
            " extracting: helmet_dataset_v2/train/images/10_jpg.rf.2b8bad5c9139ebbb6b9fed8ee9099e22.jpg  \n",
            " extracting: helmet_dataset_v2/train/images/110_jpeg.rf.0191c7f27fdc3a93b50abc994e7524f5.jpg  \n",
            " extracting: helmet_dataset_v2/train/images/113_jpg.rf.c965e9294689202abd6ee09cab06dd2f.jpg  \n",
            " extracting: helmet_dataset_v2/train/images/114_png.rf.882e2d897ce1d1910ed79d599c223ae6.jpg  \n",
            " extracting: helmet_dataset_v2/train/images/115_jpg.rf.8603abd73dc79835610e827ec739d99c.jpg  \n",
            " extracting: helmet_dataset_v2/train/images/116_png.rf.71c884ace83bc881077440fc18f685f8.jpg  \n",
            " extracting: helmet_dataset_v2/train/images/119_jpg.rf.57ad7c39e0e466ad579572a93ed21c8b.jpg  \n",
            " extracting: helmet_dataset_v2/train/images/120_jpg.rf.29fea2bd29da5fb5944959ef084da830.jpg  \n",
            " extracting: helmet_dataset_v2/train/images/121_jpg.rf.6120a2739de495a7424d7d033db2fdd7.jpg  \n",
            " extracting: helmet_dataset_v2/train/images/122_jpg.rf.252d44151114ab420c30ce967eab91c3.jpg  \n",
            " extracting: helmet_dataset_v2/train/images/123_jpeg.rf.6bdca0d0ce1a7dff3bd7fa7fec11d0a5.jpg  \n",
            " extracting: helmet_dataset_v2/train/images/124_jpg.rf.ad28443b19df04ace5a5fdb75e798090.jpg  \n",
            " extracting: helmet_dataset_v2/train/images/125_jpg.rf.3fb474a6bb7637ede0e22429c78a6db3.jpg  \n",
            " extracting: helmet_dataset_v2/train/images/126_jpg.rf.1ec44b118a61b0807208c348da57849a.jpg  \n",
            " extracting: helmet_dataset_v2/train/images/127_jpg.rf.967ef72ffb36e99e0721f4b53a47c464.jpg  \n",
            " extracting: helmet_dataset_v2/train/images/128_jpg.rf.a99fc43243d09713539766085425bf1b.jpg  \n",
            " extracting: helmet_dataset_v2/train/images/12_jpg.rf.91cd22e9810ec85e9dcfb0e845882f2b.jpg  \n",
            " extracting: helmet_dataset_v2/train/images/131_jpg.rf.70194cfde7079f6ec94e39f444a4e77b.jpg  \n",
            " extracting: helmet_dataset_v2/train/images/132_jpg.rf.4f26fd1dbee9a2d6c08db32ca279eb83.jpg  \n",
            " extracting: helmet_dataset_v2/train/images/133_png.rf.a9886966929e4df12ea3f01beed7b6cd.jpg  \n",
            " extracting: helmet_dataset_v2/train/images/134_jpg.rf.10afa60590862304427ded3310f10f4e.jpg  \n",
            " extracting: helmet_dataset_v2/train/images/135_jpg.rf.103fde94877d8ec8df5edb60ecd2a419.jpg  \n",
            " extracting: helmet_dataset_v2/train/images/137_jpg.rf.7f39d0024e8eb196a1c0301bcc4b971c.jpg  \n",
            " extracting: helmet_dataset_v2/train/images/139_jpg.rf.17ebdd86d0a685d90f1fa28dc3d8a2bd.jpg  \n",
            " extracting: helmet_dataset_v2/train/images/13_jpg.rf.fe10881d7a35cc88cd01d9e9d79a180c.jpg  \n",
            " extracting: helmet_dataset_v2/train/images/141_jpg.rf.7d8e8d3e6fcf6166dc5d110c7d0a481f.jpg  \n",
            " extracting: helmet_dataset_v2/train/images/142_jpg.rf.05cc115364a188d159dddb200ff69760.jpg  \n",
            " extracting: helmet_dataset_v2/train/images/144_jpg.rf.181b4c4312659bb94d4b78d5e4884008.jpg  \n",
            " extracting: helmet_dataset_v2/train/images/145_jpg.rf.3d1b7a9763f2fe47e1ab6ecd2ad84143.jpg  \n",
            " extracting: helmet_dataset_v2/train/images/146_jpg.rf.ea88ea257dd71b47ddd022d9ce5f791a.jpg  \n",
            " extracting: helmet_dataset_v2/train/images/147_jpg.rf.3d5b7eac499a2ae3bac193f64eae5557.jpg  \n",
            " extracting: helmet_dataset_v2/train/images/148_jpg.rf.c61cf8c89340dca2c70a8467f2b738e4.jpg  \n",
            " extracting: helmet_dataset_v2/train/images/149_jpg.rf.eea07cd6ec93518a6ca258ca6a0b7810.jpg  \n",
            " extracting: helmet_dataset_v2/train/images/14_jpg.rf.e0af812e720a5e611238d2b0d9eb8c65.jpg  \n",
            " extracting: helmet_dataset_v2/train/images/150_jpg.rf.8cad9f11489d1254c6e75a82c0132b36.jpg  \n",
            " extracting: helmet_dataset_v2/train/images/151_jpg.rf.be41439a75bf50d784d3c71984b3e64c.jpg  \n",
            " extracting: helmet_dataset_v2/train/images/154_jpg.rf.75f05a335e88ca2f0313b940a2d39770.jpg  \n",
            " extracting: helmet_dataset_v2/train/images/155_jpg.rf.c4d97d17409e4bd118d2949ca86e2cb5.jpg  \n",
            " extracting: helmet_dataset_v2/train/images/156_jpg.rf.f500f42eb1abc50aca863109945b5704.jpg  \n",
            " extracting: helmet_dataset_v2/train/images/157_jpg.rf.6d1913d98a70ee788190f96c36680157.jpg  \n",
            " extracting: helmet_dataset_v2/train/images/159_jpg.rf.37fac233f1df9f52353d988c114ae52e.jpg  \n",
            " extracting: helmet_dataset_v2/train/images/160_jpg.rf.0a054f7049bceeb9e36c43017b161f3b.jpg  \n",
            " extracting: helmet_dataset_v2/train/images/161_jpg.rf.7ed707e65aa0fc037b3bbeb927625a2d.jpg  \n",
            " extracting: helmet_dataset_v2/train/images/162_jpg.rf.e5fe404fb43eadd3e65310dd34b889c4.jpg  \n",
            " extracting: helmet_dataset_v2/train/images/163_jpg.rf.fe516b8fdb5f7fde9e2048b042b9ba36.jpg  \n",
            " extracting: helmet_dataset_v2/train/images/165_jpg.rf.0622c0395e618a6473d57b15f320172b.jpg  \n",
            " extracting: helmet_dataset_v2/train/images/166_jpg.rf.848b03dcdc61278b8fe12ca8f376d666.jpg  \n",
            " extracting: helmet_dataset_v2/train/images/167_jpg.rf.9bf44819e74d39dfd17495251cbb1a6d.jpg  \n",
            " extracting: helmet_dataset_v2/train/images/168_jpg.rf.ca12f13556e51d383645e6143e67ac9d.jpg  \n",
            " extracting: helmet_dataset_v2/train/images/169_jpg.rf.18d8267651877cdbd871b82f3cb707b4.jpg  \n",
            " extracting: helmet_dataset_v2/train/images/16_jpg.rf.7aa80203fd328a9bfd779040c1bb3f11.jpg  \n",
            " extracting: helmet_dataset_v2/train/images/170_jpg.rf.6896851d3cda6b411edd83a05edbf11f.jpg  \n",
            " extracting: helmet_dataset_v2/train/images/172_jpg.rf.886a55c84bbc7af0befd9d1c5f95f270.jpg  \n",
            " extracting: helmet_dataset_v2/train/images/174_jpg.rf.3e665ba91d54db6a5770495d6016ffad.jpg  \n",
            " extracting: helmet_dataset_v2/train/images/175_jpg.rf.a8fefcc4e28a75d5c2839e4cf3217b09.jpg  \n",
            " extracting: helmet_dataset_v2/train/images/178_jpg.rf.a62d21bff3f25239edc0bbc64e0fb147.jpg  \n",
            " extracting: helmet_dataset_v2/train/images/180_jpg.rf.22343439fa84d91537d9426ec6de9d31.jpg  \n",
            " extracting: helmet_dataset_v2/train/images/181_jpg.rf.8ee8bd51f1a41a14f46057b77cf4701a.jpg  \n",
            " extracting: helmet_dataset_v2/train/images/182_jpg.rf.add19bc5adb7f995d773aec5b2611a6d.jpg  \n",
            " extracting: helmet_dataset_v2/train/images/185_jpg.rf.beb87d88bfb39afd92157add63ae3f4d.jpg  \n",
            " extracting: helmet_dataset_v2/train/images/187_jpg.rf.a1e8b1550736960efe7298a87f28693e.jpg  \n",
            " extracting: helmet_dataset_v2/train/images/188_jpg.rf.a5caa646c133f538357551d53318c7ba.jpg  \n",
            " extracting: helmet_dataset_v2/train/images/189_jpg.rf.f63b980f68d1fc3428e0b5f26d5f06cb.jpg  \n",
            " extracting: helmet_dataset_v2/train/images/190_jpg.rf.705ea432952affd64a8fbbc26e90a057.jpg  \n",
            " extracting: helmet_dataset_v2/train/images/192_jpg.rf.331dd45e629ff6a0591700fea36b33fa.jpg  \n",
            " extracting: helmet_dataset_v2/train/images/193_jpg.rf.5a46a74596af57b823e99c31a9bb360c.jpg  \n",
            " extracting: helmet_dataset_v2/train/images/195_jpg.rf.5f667db7675610f7f357349c572e24cd.jpg  \n",
            " extracting: helmet_dataset_v2/train/images/196_jpg.rf.2c246e51ad0ea07bf7bf1fc949a20b0e.jpg  \n",
            " extracting: helmet_dataset_v2/train/images/197_jpg.rf.116466db892d2b4ba9adfbd7ece277a3.jpg  \n",
            " extracting: helmet_dataset_v2/train/images/198_jpg.rf.d06d409059d9cd8190ce770d44767eff.jpg  \n",
            " extracting: helmet_dataset_v2/train/images/199_jpg.rf.519fdd93374f1b9c8808be38b6197a4d.jpg  \n",
            " extracting: helmet_dataset_v2/train/images/19_jpg.rf.b20fe0ecbe3c7011434edc105fea75b8.jpg  \n",
            " extracting: helmet_dataset_v2/train/images/1_jpg.rf.35eea722db4a6aacdd43109303cefd80.jpg  \n",
            " extracting: helmet_dataset_v2/train/images/200_jpg.rf.739b7d4fd566092776ec297c303e8266.jpg  \n",
            " extracting: helmet_dataset_v2/train/images/202_jpg.rf.29b6e5c90c100cef13e1709a7937c41d.jpg  \n",
            " extracting: helmet_dataset_v2/train/images/203_jpeg.rf.d7ae922c95138bb5195172a6b9b5c654.jpg  \n",
            " extracting: helmet_dataset_v2/train/images/205_jpg.rf.197b06bb3e3352cef3e10a621256d344.jpg  \n",
            " extracting: helmet_dataset_v2/train/images/206_jpg.rf.deaf9d312c86150880812b85fe479d34.jpg  \n",
            " extracting: helmet_dataset_v2/train/images/207_jpg.rf.532e30760ead96e284a688c8180ae7d4.jpg  \n",
            " extracting: helmet_dataset_v2/train/images/208_jpg.rf.2e6e7ef0e31c2f25bd33a9bf0d22fb99.jpg  \n",
            " extracting: helmet_dataset_v2/train/images/209_jpg.rf.57c65c7aa767f8acaffc74b15d39026b.jpg  \n",
            " extracting: helmet_dataset_v2/train/images/20_jpg.rf.9b7cd0f776285bb4cbb33ad2593aa736.jpg  \n",
            " extracting: helmet_dataset_v2/train/images/210_jpg.rf.f255eb41e73a5162e7c718bfcc845a0a.jpg  \n",
            " extracting: helmet_dataset_v2/train/images/211_jpg.rf.b5773bcee2bdc4b3e56a2a456d4b4010.jpg  \n",
            " extracting: helmet_dataset_v2/train/images/212_jpg.rf.0e0758e18ad520d80341148cccfcbe37.jpg  \n",
            " extracting: helmet_dataset_v2/train/images/213_jpg.rf.db153a0110f6e65ba948278d9def76e0.jpg  \n",
            " extracting: helmet_dataset_v2/train/images/214_jpg.rf.ada3bd9c1078765d76516f8463d3db6d.jpg  \n",
            " extracting: helmet_dataset_v2/train/images/215_jpg.rf.897f4372b53c76c77542d38bcfe025d6.jpg  \n",
            " extracting: helmet_dataset_v2/train/images/216_jpg.rf.4fb31f159e53d1b36e2635f46a56e95f.jpg  \n",
            " extracting: helmet_dataset_v2/train/images/217_jpg.rf.0c2b50f63846501760468a8ab841271b.jpg  \n",
            " extracting: helmet_dataset_v2/train/images/219_jpg.rf.07b054021a297f768a007df9a4a40736.jpg  \n",
            " extracting: helmet_dataset_v2/train/images/21_jpg.rf.2e8c5f5e6177f951c598d619e0d7c9bd.jpg  \n",
            " extracting: helmet_dataset_v2/train/images/224_jpeg.rf.e8428a17add33854dc0b2137fb83cc8b.jpg  \n",
            " extracting: helmet_dataset_v2/train/images/225_jpg.rf.2cf15806d6de734264e42fe9c484b82f.jpg  \n",
            " extracting: helmet_dataset_v2/train/images/226_jpeg.rf.315c6bf8a3088744772513bb7c8ed2f6.jpg  \n",
            " extracting: helmet_dataset_v2/train/images/227_jpg.rf.4c3496abfb705aeb6514ab8df5b20fe3.jpg  \n",
            " extracting: helmet_dataset_v2/train/images/228_jpg.rf.05276c407358d0aac72ffe56cc5ed6af.jpg  \n",
            " extracting: helmet_dataset_v2/train/images/229_jpeg.rf.753315470c71f89c58bcc1d9557bd2ae.jpg  \n",
            " extracting: helmet_dataset_v2/train/images/22_jpg.rf.ccac04b9ec6372437d7c24c0a3958710.jpg  \n",
            " extracting: helmet_dataset_v2/train/images/230_jpeg.rf.d96f108d8ba4ca609793d56aacbf1320.jpg  \n",
            " extracting: helmet_dataset_v2/train/images/232_jpeg.rf.41059df74a06701fc81cd1c236dac93d.jpg  \n",
            " extracting: helmet_dataset_v2/train/images/233_jpg.rf.72eaff755536986370b3ae5f74d66c26.jpg  \n",
            " extracting: helmet_dataset_v2/train/images/235_jpeg.rf.ce86c1f9643cc08c453034e2801fc699.jpg  \n",
            " extracting: helmet_dataset_v2/train/images/236_jpg.rf.fc7e5d1ee6357241249e6d08e00600c3.jpg  \n",
            " extracting: helmet_dataset_v2/train/images/237_jpeg.rf.ca232bf918de5a1d2ba56b0e3fe2312b.jpg  \n",
            " extracting: helmet_dataset_v2/train/images/239_jpg.rf.3f475834b76a80fc9207e36b26867d25.jpg  \n",
            " extracting: helmet_dataset_v2/train/images/23_jpg.rf.20c4fcdaaeb9579299c0d11b05a150e7.jpg  \n",
            " extracting: helmet_dataset_v2/train/images/240_jpeg.rf.6bac609e6f3d24bc73bc361c8ff8cc99.jpg  \n",
            " extracting: helmet_dataset_v2/train/images/241_jpeg.rf.bd4333c1cc38cb7bb7cae14d565014c0.jpg  \n",
            " extracting: helmet_dataset_v2/train/images/242_jpg.rf.2a72c9f9130016625361bfae7dca58af.jpg  \n",
            " extracting: helmet_dataset_v2/train/images/243_jpeg.rf.3bad78b766efd9d48a5646324138ab5c.jpg  \n",
            " extracting: helmet_dataset_v2/train/images/244_jpeg.rf.e19273b1a03d75e5f453fcf9fed1bbb9.jpg  \n",
            " extracting: helmet_dataset_v2/train/images/247_jpg.rf.767e3c982971d5756711c2612907ba61.jpg  \n",
            " extracting: helmet_dataset_v2/train/images/248_jpeg.rf.11161b65db4970c5ab2bfb4a6f211c09.jpg  \n",
            " extracting: helmet_dataset_v2/train/images/249_jpeg.rf.f72313a39dda0e313dca3f3e8126a2fb.jpg  \n",
            " extracting: helmet_dataset_v2/train/images/24_jpg.rf.b97ada9407cf60cee95d9e85104b3766.jpg  \n",
            " extracting: helmet_dataset_v2/train/images/251_jpg.rf.5cf7729920d5d0549847f07b07218d92.jpg  \n",
            " extracting: helmet_dataset_v2/train/images/252_jpeg.rf.36480d788e0794b3a93dedc112cec834.jpg  \n",
            " extracting: helmet_dataset_v2/train/images/253_jpg.rf.6f7a0e1c6c64045a38996a8626984a93.jpg  \n",
            " extracting: helmet_dataset_v2/train/images/254_jpeg.rf.5e66beb63b71152b4f25a9d1f5a48115.jpg  \n",
            " extracting: helmet_dataset_v2/train/images/255_jpg.rf.59aeea080044f4a7ffe8e3bde60ec74e.jpg  \n",
            " extracting: helmet_dataset_v2/train/images/257_jpeg.rf.80988478602c48ccc50395206765eb1f.jpg  \n",
            " extracting: helmet_dataset_v2/train/images/258_jpg.rf.af29148ee185a29acf0f20fbd3939b50.jpg  \n",
            " extracting: helmet_dataset_v2/train/images/259_jpeg.rf.7ff8a5d2a2aec4be29e507a11f3d4f1b.jpg  \n",
            " extracting: helmet_dataset_v2/train/images/25_jpg.rf.664377a096558e8fb4ce7030fff861e7.jpg  \n",
            " extracting: helmet_dataset_v2/train/images/260_jpg.rf.07e0e1bd8c7a65a345262f448b823d2c.jpg  \n",
            " extracting: helmet_dataset_v2/train/images/261_jpeg.rf.2d6dd9f79729c33e83a5c5a2f33142d2.jpg  \n",
            " extracting: helmet_dataset_v2/train/images/263_jpg.rf.eee02c42155f617651833c33530ac79c.jpg  \n",
            " extracting: helmet_dataset_v2/train/images/264_jpeg.rf.645d329465d6412f58b4807ff947346a.jpg  \n",
            " extracting: helmet_dataset_v2/train/images/265_jpeg.rf.54ad4ff33a26cd971a19feb3492097fa.jpg  \n",
            " extracting: helmet_dataset_v2/train/images/268_jpeg.rf.80617069d220fbe61d2fcee517e638a7.jpg  \n",
            " extracting: helmet_dataset_v2/train/images/269_jpg.rf.5da74b73403251bcf7ec9468a6782b39.jpg  \n",
            " extracting: helmet_dataset_v2/train/images/26_jpg.rf.8a1d4e6b1947a5b0a4f42666460d3a72.jpg  \n",
            " extracting: helmet_dataset_v2/train/images/270_jpg.rf.578799afdbe3a62fea522372ee1d2114.jpg  \n",
            " extracting: helmet_dataset_v2/train/images/271_jpg.rf.04e33be893a0ee4c0efa97910970d10b.jpg  \n",
            " extracting: helmet_dataset_v2/train/images/273_jpg.rf.f9ff1d7a1e5173a4d614ff6d2171c476.jpg  \n",
            " extracting: helmet_dataset_v2/train/images/275_jpg.rf.258bb09fe77317da38c07f34addf1074.jpg  \n",
            " extracting: helmet_dataset_v2/train/images/277_jpeg.rf.931eefc85b495c80d89b68baf36e4a49.jpg  \n",
            " extracting: helmet_dataset_v2/train/images/27_jpg.rf.d2452a4ea3282fcae8d1f654c44099c1.jpg  \n",
            " extracting: helmet_dataset_v2/train/images/284_jpeg.rf.93a44214363ed6b9bfe5d432906bb966.jpg  \n",
            " extracting: helmet_dataset_v2/train/images/285_jpg.rf.8a762c95fe8fd58bcf75ca40a6ba8073.jpg  \n",
            " extracting: helmet_dataset_v2/train/images/287_jpg.rf.9a46c900509688785c89ffdaef2d6b00.jpg  \n",
            " extracting: helmet_dataset_v2/train/images/288_jpg.rf.7bd3ddc742f4d555ac601881e2c29d42.jpg  \n",
            " extracting: helmet_dataset_v2/train/images/290_jpeg.rf.9ad6ecdbae232df3f05ff3ba7049a5f7.jpg  \n",
            " extracting: helmet_dataset_v2/train/images/291_jpg.rf.79df8562d3347a0a10559e6f2dba67f6.jpg  \n",
            " extracting: helmet_dataset_v2/train/images/292_jpeg.rf.cfc5db6b6cba70a129faf357702d70c2.jpg  \n",
            " extracting: helmet_dataset_v2/train/images/293_jpeg.rf.9f12245a7b1e895abd6b7cd984ab6156.jpg  \n",
            " extracting: helmet_dataset_v2/train/images/294_jpeg.rf.b2bc8fab3788c31b89eecb99b5f7a3f7.jpg  \n",
            " extracting: helmet_dataset_v2/train/images/295_jpeg.rf.1e38f476b98c1f94115d25e561cdd6a8.jpg  \n",
            " extracting: helmet_dataset_v2/train/images/296_jpeg.rf.0148e839a11d8a5b8eaae12dc2693293.jpg  \n",
            " extracting: helmet_dataset_v2/train/images/298_jpg.rf.dfe5a0e98b98841680bac60a484d0f21.jpg  \n",
            " extracting: helmet_dataset_v2/train/images/299_jpg.rf.e5994ad51b325fa6e73029150253ee3a.jpg  \n",
            " extracting: helmet_dataset_v2/train/images/29_jpg.rf.55c8341eecd6092475c9a4fcdee5aa12.jpg  \n",
            " extracting: helmet_dataset_v2/train/images/2_jpg.rf.0576a8f4e21ac4e4e19687c1d0de671a.jpg  \n",
            " extracting: helmet_dataset_v2/train/images/300_jpeg.rf.95614a92bf5cab0ca836d21f63daccd4.jpg  \n",
            " extracting: helmet_dataset_v2/train/images/302_jpg.rf.24fad9ae22afe619282fecd01223ca36.jpg  \n",
            " extracting: helmet_dataset_v2/train/images/304_jpg.rf.720eede110745c841929592e3348c846.jpg  \n",
            " extracting: helmet_dataset_v2/train/images/305_jpg.rf.987dea49f79b4a55268036f7cbbbb366.jpg  \n",
            " extracting: helmet_dataset_v2/train/images/307_jpg.rf.4c8eecffeb7cb13dad8f58ed48d4652d.jpg  \n",
            " extracting: helmet_dataset_v2/train/images/308_jpg.rf.c6e07b8ad11530a10a768a65978d5c8f.jpg  \n",
            " extracting: helmet_dataset_v2/train/images/310_jpg.rf.bf749b1b7c780da902347005ebb153ce.jpg  \n",
            " extracting: helmet_dataset_v2/train/images/311_png.rf.8faf3025b7b9992441f64c7929248ce0.jpg  \n",
            " extracting: helmet_dataset_v2/train/images/312_png.rf.f19c439835f2ccc6b47a27d8d8fb62ad.jpg  \n",
            " extracting: helmet_dataset_v2/train/images/313_jpg.rf.ed32f8cd68ec1199288a1898cb91965c.jpg  \n",
            " extracting: helmet_dataset_v2/train/images/315_jpg.rf.51fd351d60f1c3c719cd12a3a277ab9e.jpg  \n",
            " extracting: helmet_dataset_v2/train/images/318_jpeg.rf.10c329ee30fbdfab6604e7a72aae7cca.jpg  \n",
            " extracting: helmet_dataset_v2/train/images/319_jpg.rf.d0303a26f26b6757277c1c8f7be264c0.jpg  \n",
            " extracting: helmet_dataset_v2/train/images/31_jpg.rf.c51741325bd824dda857a6fdf25b3813.jpg  \n",
            " extracting: helmet_dataset_v2/train/images/320_jpg.rf.59bc6d250aca62df2a3f87e702fa90ff.jpg  \n",
            " extracting: helmet_dataset_v2/train/images/321_jpg.rf.abdd131797a2207fcfc126b8bf8055cd.jpg  \n",
            " extracting: helmet_dataset_v2/train/images/322_jpg.rf.606e6d4bb4eb56e22f51e93709baac0c.jpg  \n",
            " extracting: helmet_dataset_v2/train/images/324_jpg.rf.626e34e2aab553005cf4d3c50b7f13af.jpg  \n",
            " extracting: helmet_dataset_v2/train/images/325_jpeg.rf.ed528b07bdef00f2ae33fae95fb85920.jpg  \n",
            " extracting: helmet_dataset_v2/train/images/328_jpg.rf.e240abbeaf43099e43fd42c78674f93c.jpg  \n",
            " extracting: helmet_dataset_v2/train/images/329_jpg.rf.aeb2b3ba9e5fe52be78a310b1a49dcc2.jpg  \n",
            " extracting: helmet_dataset_v2/train/images/32_jpg.rf.e21c96d7459c94d2ed84f6c9a3ce93da.jpg  \n",
            " extracting: helmet_dataset_v2/train/images/330_jpg.rf.253dbefad9a0780b1fb5198d36ad3685.jpg  \n",
            " extracting: helmet_dataset_v2/train/images/332_jpg.rf.903641822705addb1353d623ff8ecd10.jpg  \n",
            " extracting: helmet_dataset_v2/train/images/333_jpg.rf.569d4c017211f6a63a1050ba21b95984.jpg  \n",
            " extracting: helmet_dataset_v2/train/images/334_jpg.rf.33f839e5198f1dc8c9c2775f891f3e43.jpg  \n",
            " extracting: helmet_dataset_v2/train/images/336_jpg.rf.2e29df1a89ed72744093d7d8d69612ba.jpg  \n",
            " extracting: helmet_dataset_v2/train/images/33_jpg.rf.d92cf56c119fe54c6abee6c4ecf39adb.jpg  \n",
            " extracting: helmet_dataset_v2/train/images/340_jpg.rf.96146c67aef0bfb9a01fa98b0e692efe.jpg  \n",
            " extracting: helmet_dataset_v2/train/images/341_jpg.rf.a0cf1cfbe70575df5929f29287bbc3ee.jpg  \n",
            " extracting: helmet_dataset_v2/train/images/343_jpg.rf.67328d971ac6225eb5095e99c550fb14.jpg  \n",
            " extracting: helmet_dataset_v2/train/images/346_jpg.rf.defa49cf59c4e739b10f8947a3e1fcd8.jpg  \n",
            " extracting: helmet_dataset_v2/train/images/347_jpg.rf.84f2db4aaec1a44dcf8584c9d6c9c080.jpg  \n",
            " extracting: helmet_dataset_v2/train/images/348_jpg.rf.b8b31e75d7477243cedd235e1073cd47.jpg  \n",
            " extracting: helmet_dataset_v2/train/images/349_jpg.rf.aeffe3fd5716f57145e437e913f80ae3.jpg  \n",
            " extracting: helmet_dataset_v2/train/images/351_jpg.rf.4ac33214fd6cae3ae6c6430f3de91362.jpg  \n",
            " extracting: helmet_dataset_v2/train/images/352_jpg.rf.d1d2ac7466e72f68e21153280965b226.jpg  \n",
            " extracting: helmet_dataset_v2/train/images/353_jpg.rf.11bf71fa0e43212dc1d0d923b3d6a572.jpg  \n",
            " extracting: helmet_dataset_v2/train/images/355_jpg.rf.6bdab42fce12485a3e8683b3e1b09f74.jpg  \n",
            " extracting: helmet_dataset_v2/train/images/358_jpg.rf.94300071b13412e6b4a1bfa8c9e67b59.jpg  \n",
            " extracting: helmet_dataset_v2/train/images/359_jpg.rf.e0691ed5380c0a7fe8827fa8bdcbaff8.jpg  \n",
            " extracting: helmet_dataset_v2/train/images/35_jpg.rf.74664a0c06f7c7195b7a263e3534bf2c.jpg  \n",
            " extracting: helmet_dataset_v2/train/images/360_jpg.rf.43c68bf70310faa867d211ba36828f3b.jpg  \n",
            " extracting: helmet_dataset_v2/train/images/362_jpg.rf.ce5b9a96e910c055148b86f679ceda85.jpg  \n",
            " extracting: helmet_dataset_v2/train/images/364_jpg.rf.73077a2ca23a9e5a4d4417ffff31e32b.jpg  \n",
            " extracting: helmet_dataset_v2/train/images/367_jpg.rf.55371e6991c11786cfaa94d0fc6df01b.jpg  \n",
            " extracting: helmet_dataset_v2/train/images/369_jpg.rf.e3e7e31acfde690bcca129589554f504.jpg  \n",
            " extracting: helmet_dataset_v2/train/images/370_jpg.rf.1c20efa420fa0acaed956a71bbf13faf.jpg  \n",
            " extracting: helmet_dataset_v2/train/images/371_jpg.rf.825ca89fbc8fc75a70d8cb769a9bde6b.jpg  \n",
            " extracting: helmet_dataset_v2/train/images/373_jpg.rf.1cdecf6bec21e561eb78b4aa26e7e3ac.jpg  \n",
            " extracting: helmet_dataset_v2/train/images/374_jpg.rf.ca1340b724617a9460efb50a7e505f36.jpg  \n",
            " extracting: helmet_dataset_v2/train/images/375_jpg.rf.84b1069a7992ea13e1cb9ca2203e89df.jpg  \n",
            " extracting: helmet_dataset_v2/train/images/377_jpg.rf.7c459a2e4f954790b348ab8f6ae75725.jpg  \n",
            " extracting: helmet_dataset_v2/train/images/378_jpg.rf.b2f40d7f44bfcaf6bfd1c4f680f5d332.jpg  \n",
            " extracting: helmet_dataset_v2/train/images/379_jpg.rf.e3b63607d849a7b647a35d1a1ae27297.jpg  \n",
            " extracting: helmet_dataset_v2/train/images/37_jpg.rf.e152a0e0870fb4b62896107fa37280c0.jpg  \n",
            " extracting: helmet_dataset_v2/train/images/380_jpg.rf.cd25a11c15c0a38c786c4d2e2b67c9bb.jpg  \n",
            " extracting: helmet_dataset_v2/train/images/381_jpg.rf.9421981559ec2e33ea23843d838c4ed2.jpg  \n",
            " extracting: helmet_dataset_v2/train/images/382_jpg.rf.f1cd8b77444454eaa7ac5f2cc7eee087.jpg  \n",
            " extracting: helmet_dataset_v2/train/images/383_jpg.rf.bc456c3a8fd7aa4163f5f55bad0ed2a2.jpg  \n",
            " extracting: helmet_dataset_v2/train/images/384_jpg.rf.995d235600d237ba42f9669a9327aecf.jpg  \n",
            " extracting: helmet_dataset_v2/train/images/385_jpg.rf.6fda3bb1ead0f545cd57a893cedcf364.jpg  \n",
            " extracting: helmet_dataset_v2/train/images/386_jpg.rf.b84551d0dbf18fad7304a2705dd698a7.jpg  \n",
            " extracting: helmet_dataset_v2/train/images/387_jpg.rf.26c94b78df0193feb01cb98629a5e9c7.jpg  \n",
            " extracting: helmet_dataset_v2/train/images/388_jpg.rf.b8935dbf5bd1a7205da098ce2ca750d7.jpg  \n",
            " extracting: helmet_dataset_v2/train/images/389_jpg.rf.f58b2104fe7a957947f7d38d525bd48b.jpg  \n",
            " extracting: helmet_dataset_v2/train/images/38_jpg.rf.7e1a974f2ba274754935faad219133e7.jpg  \n",
            " extracting: helmet_dataset_v2/train/images/390_jpeg.rf.a4cbe967b33a18c39e57b07c13a61831.jpg  \n",
            " extracting: helmet_dataset_v2/train/images/391_jpg.rf.a935559d726bacef1cdcbfec9e2d4d3b.jpg  \n",
            " extracting: helmet_dataset_v2/train/images/392_jpg.rf.942a446a416b54f873a4f93fa976a988.jpg  \n",
            " extracting: helmet_dataset_v2/train/images/394_jpg.rf.bca90c642d3233e21bcb75265157a552.jpg  \n",
            " extracting: helmet_dataset_v2/train/images/395_jpeg.rf.48c816bd0323603d92ed8f8a0c7367f1.jpg  \n",
            " extracting: helmet_dataset_v2/train/images/396_jpg.rf.a96dc173ea904f6066197e30c7eae70d.jpg  \n",
            " extracting: helmet_dataset_v2/train/images/397_jpg.rf.ee9157030b7d64fbbf8d6467ad692716.jpg  \n",
            " extracting: helmet_dataset_v2/train/images/398_jpg.rf.15888258df66d026044f2683f41f69a4.jpg  \n",
            " extracting: helmet_dataset_v2/train/images/399_jpg.rf.3f781fc5a4bcb25ae46c57024e95a7b5.jpg  \n",
            " extracting: helmet_dataset_v2/train/images/39_jpg.rf.48dfeb696872d475baa5dfbafcb55fb3.jpg  \n",
            " extracting: helmet_dataset_v2/train/images/3_jpg.rf.dbc90f651831af504c9b56cc3f54dfa0.jpg  \n",
            " extracting: helmet_dataset_v2/train/images/400_jpeg.rf.06d2c3f808d93787b6eac4e75b195721.jpg  \n",
            " extracting: helmet_dataset_v2/train/images/40_jpg.rf.04e24bbfdb9a09697cb5774c44c821b9.jpg  \n",
            " extracting: helmet_dataset_v2/train/images/41_png.rf.5c2bec390d30bea9a1fc1bc5b7187634.jpg  \n",
            " extracting: helmet_dataset_v2/train/images/42_jpg.rf.28d5a788f8c584046e879d7d6e2e0c00.jpg  \n",
            " extracting: helmet_dataset_v2/train/images/43_jpg.rf.362488fa310364cb7b18bbbfcacaedd4.jpg  \n",
            " extracting: helmet_dataset_v2/train/images/45_jpg.rf.ccacb9e1ac4bd1730947cd9010692cc6.jpg  \n",
            " extracting: helmet_dataset_v2/train/images/47_jpg.rf.78480b04aa644dbdc62fa921598dd24b.jpg  \n",
            " extracting: helmet_dataset_v2/train/images/4_jpg.rf.0fa6bf69476b75ff6c384a8036938a8c.jpg  \n",
            " extracting: helmet_dataset_v2/train/images/50_png.rf.d3e8f5e5f56fcc962ab39f4f4fb8f7d4.jpg  \n",
            " extracting: helmet_dataset_v2/train/images/52_jpg.rf.232a3c5a9ac84182007571a99f63b3fb.jpg  \n",
            " extracting: helmet_dataset_v2/train/images/56_jpg.rf.3c39b8fb4f292ee8227243745e140180.jpg  \n",
            " extracting: helmet_dataset_v2/train/images/59_jpg.rf.93c149c37ae08b059467b06ad602e87b.jpg  \n",
            " extracting: helmet_dataset_v2/train/images/61_jpg.rf.9c19c179c6b3f2c64cf8a3456243c1b0.jpg  \n",
            " extracting: helmet_dataset_v2/train/images/62_jpg.rf.41badbefff75e6ac5ba43bc53c517542.jpg  \n",
            " extracting: helmet_dataset_v2/train/images/63_jpg.rf.9540e2b6d28b98cd5ce7f3407416145c.jpg  \n",
            " extracting: helmet_dataset_v2/train/images/64_jpg.rf.3e1b282a79c21800b56431782e07565c.jpg  \n",
            " extracting: helmet_dataset_v2/train/images/65_jpg.rf.f39280465b219e972e937c1a680f7d8e.jpg  \n",
            " extracting: helmet_dataset_v2/train/images/67_jpg.rf.968ff9c995d5c99446ee5266572a43aa.jpg  \n",
            " extracting: helmet_dataset_v2/train/images/68_jpg.rf.56c0861335fedce0a43dc0c1c4b350ea.jpg  \n",
            " extracting: helmet_dataset_v2/train/images/69_jpg.rf.1d9974a6823c0555ea334a1de9ad38fe.jpg  \n",
            " extracting: helmet_dataset_v2/train/images/70_jpg.rf.8c99cec6f506d971458bd0a8890e7638.jpg  \n",
            " extracting: helmet_dataset_v2/train/images/73_jpg.rf.58068f3c562e84e49dacd87925847a66.jpg  \n",
            " extracting: helmet_dataset_v2/train/images/74_jpg.rf.f22f128e76c3cdfff4272d75baa8c71c.jpg  \n",
            " extracting: helmet_dataset_v2/train/images/75_jpg.rf.92ac5ae33208c0af97ed1f7ae25886a8.jpg  \n",
            " extracting: helmet_dataset_v2/train/images/76_jpg.rf.fd166b801993822ef1352eced595da7b.jpg  \n",
            " extracting: helmet_dataset_v2/train/images/77_jpg.rf.4e2a0faa97acc714c0373f2b63db5be3.jpg  \n",
            " extracting: helmet_dataset_v2/train/images/78_jpg.rf.3bee974a392a04eb206dac484cdbde70.jpg  \n",
            " extracting: helmet_dataset_v2/train/images/7_jpg.rf.4c86b8ccafaef555692744de367ba8fd.jpg  \n",
            " extracting: helmet_dataset_v2/train/images/81_jpg.rf.0914da29e15086f4cd3f68bb009cc301.jpg  \n",
            " extracting: helmet_dataset_v2/train/images/84_jpg.rf.46d399155ad39ec0a2966e131804d30f.jpg  \n",
            " extracting: helmet_dataset_v2/train/images/85_jpg.rf.37beba0d4ac69c11a02645c283f0c383.jpg  \n",
            " extracting: helmet_dataset_v2/train/images/86_jpg.rf.fc5c4b9e2c5a901345c05a98124b4508.jpg  \n",
            " extracting: helmet_dataset_v2/train/images/88_jpg.rf.da1ecec663942e357c9480d8e33c70d0.jpg  \n",
            " extracting: helmet_dataset_v2/train/images/8_jpg.rf.b9ac7d88283665094f7bca62d5f58c76.jpg  \n",
            " extracting: helmet_dataset_v2/train/images/90_jpg.rf.0419963636d9623e2b3aecf548b03c75.jpg  \n",
            " extracting: helmet_dataset_v2/train/images/91_jpg.rf.858b4862a37c06228e93d2979f6ffabe.jpg  \n",
            " extracting: helmet_dataset_v2/train/images/94_jpg.rf.0547b7d8925dc9fc00733836a94e7c2f.jpg  \n",
            " extracting: helmet_dataset_v2/train/images/97_jpg.rf.6c585cbf37973a4c7103b0d752005d46.jpg  \n",
            " extracting: helmet_dataset_v2/train/images/98_jpg.rf.20d43537e71d212acc658dee973f69f5.jpg  \n",
            " extracting: helmet_dataset_v2/train/images/99_jpg.rf.47598fca36afa4d63f06a4a0d5f88c2b.jpg  \n",
            " extracting: helmet_dataset_v2/train/images/9_jpg.rf.672254ff10c058ec30c2b5820713e6c0.jpg  \n",
            "   creating: helmet_dataset_v2/train/labels/\n",
            "  inflating: helmet_dataset_v2/train/labels/100_jpg.rf.036f2c10066fbe1876e4e22e56fc355a.txt  \n",
            "  inflating: helmet_dataset_v2/train/labels/104_jpg.rf.2cd5d39a523c49f7eb8d0b4819f22b65.txt  \n",
            "  inflating: helmet_dataset_v2/train/labels/105_jpg.rf.37bdfc579efd876e5d0a932344bc01c3.txt  \n",
            "  inflating: helmet_dataset_v2/train/labels/106_jpg.rf.b65d6638067594c28b759bbcec4b292a.txt  \n",
            "  inflating: helmet_dataset_v2/train/labels/107_jpg.rf.1835b1415cef383639d2b3b37b7101af.txt  \n",
            "  inflating: helmet_dataset_v2/train/labels/108_jpg.rf.bfe3c25efa6ffd041bbd1d04fa9667bc.txt  \n",
            "  inflating: helmet_dataset_v2/train/labels/109_jpg.rf.f5703e41528bbd625f67ec61e5f68380.txt  \n",
            "  inflating: helmet_dataset_v2/train/labels/10_jpg.rf.2b8bad5c9139ebbb6b9fed8ee9099e22.txt  \n",
            "  inflating: helmet_dataset_v2/train/labels/110_jpeg.rf.0191c7f27fdc3a93b50abc994e7524f5.txt  \n",
            "  inflating: helmet_dataset_v2/train/labels/113_jpg.rf.c965e9294689202abd6ee09cab06dd2f.txt  \n",
            " extracting: helmet_dataset_v2/train/labels/114_png.rf.882e2d897ce1d1910ed79d599c223ae6.txt  \n",
            "  inflating: helmet_dataset_v2/train/labels/115_jpg.rf.8603abd73dc79835610e827ec739d99c.txt  \n",
            "  inflating: helmet_dataset_v2/train/labels/116_png.rf.71c884ace83bc881077440fc18f685f8.txt  \n",
            "  inflating: helmet_dataset_v2/train/labels/119_jpg.rf.57ad7c39e0e466ad579572a93ed21c8b.txt  \n",
            "  inflating: helmet_dataset_v2/train/labels/120_jpg.rf.29fea2bd29da5fb5944959ef084da830.txt  \n",
            "  inflating: helmet_dataset_v2/train/labels/121_jpg.rf.6120a2739de495a7424d7d033db2fdd7.txt  \n",
            "  inflating: helmet_dataset_v2/train/labels/122_jpg.rf.252d44151114ab420c30ce967eab91c3.txt  \n",
            "  inflating: helmet_dataset_v2/train/labels/123_jpeg.rf.6bdca0d0ce1a7dff3bd7fa7fec11d0a5.txt  \n",
            "  inflating: helmet_dataset_v2/train/labels/124_jpg.rf.ad28443b19df04ace5a5fdb75e798090.txt  \n",
            "  inflating: helmet_dataset_v2/train/labels/125_jpg.rf.3fb474a6bb7637ede0e22429c78a6db3.txt  \n",
            "  inflating: helmet_dataset_v2/train/labels/126_jpg.rf.1ec44b118a61b0807208c348da57849a.txt  \n",
            "  inflating: helmet_dataset_v2/train/labels/127_jpg.rf.967ef72ffb36e99e0721f4b53a47c464.txt  \n",
            "  inflating: helmet_dataset_v2/train/labels/128_jpg.rf.a99fc43243d09713539766085425bf1b.txt  \n",
            "  inflating: helmet_dataset_v2/train/labels/12_jpg.rf.91cd22e9810ec85e9dcfb0e845882f2b.txt  \n",
            "  inflating: helmet_dataset_v2/train/labels/131_jpg.rf.70194cfde7079f6ec94e39f444a4e77b.txt  \n",
            "  inflating: helmet_dataset_v2/train/labels/132_jpg.rf.4f26fd1dbee9a2d6c08db32ca279eb83.txt  \n",
            "  inflating: helmet_dataset_v2/train/labels/133_png.rf.a9886966929e4df12ea3f01beed7b6cd.txt  \n",
            "  inflating: helmet_dataset_v2/train/labels/134_jpg.rf.10afa60590862304427ded3310f10f4e.txt  \n",
            "  inflating: helmet_dataset_v2/train/labels/135_jpg.rf.103fde94877d8ec8df5edb60ecd2a419.txt  \n",
            "  inflating: helmet_dataset_v2/train/labels/137_jpg.rf.7f39d0024e8eb196a1c0301bcc4b971c.txt  \n",
            "  inflating: helmet_dataset_v2/train/labels/139_jpg.rf.17ebdd86d0a685d90f1fa28dc3d8a2bd.txt  \n",
            "  inflating: helmet_dataset_v2/train/labels/13_jpg.rf.fe10881d7a35cc88cd01d9e9d79a180c.txt  \n",
            "  inflating: helmet_dataset_v2/train/labels/141_jpg.rf.7d8e8d3e6fcf6166dc5d110c7d0a481f.txt  \n",
            "  inflating: helmet_dataset_v2/train/labels/142_jpg.rf.05cc115364a188d159dddb200ff69760.txt  \n",
            "  inflating: helmet_dataset_v2/train/labels/144_jpg.rf.181b4c4312659bb94d4b78d5e4884008.txt  \n",
            "  inflating: helmet_dataset_v2/train/labels/145_jpg.rf.3d1b7a9763f2fe47e1ab6ecd2ad84143.txt  \n",
            "  inflating: helmet_dataset_v2/train/labels/146_jpg.rf.ea88ea257dd71b47ddd022d9ce5f791a.txt  \n",
            "  inflating: helmet_dataset_v2/train/labels/147_jpg.rf.3d5b7eac499a2ae3bac193f64eae5557.txt  \n",
            "  inflating: helmet_dataset_v2/train/labels/148_jpg.rf.c61cf8c89340dca2c70a8467f2b738e4.txt  \n",
            "  inflating: helmet_dataset_v2/train/labels/149_jpg.rf.eea07cd6ec93518a6ca258ca6a0b7810.txt  \n",
            "  inflating: helmet_dataset_v2/train/labels/14_jpg.rf.e0af812e720a5e611238d2b0d9eb8c65.txt  \n",
            "  inflating: helmet_dataset_v2/train/labels/150_jpg.rf.8cad9f11489d1254c6e75a82c0132b36.txt  \n",
            "  inflating: helmet_dataset_v2/train/labels/151_jpg.rf.be41439a75bf50d784d3c71984b3e64c.txt  \n",
            "  inflating: helmet_dataset_v2/train/labels/154_jpg.rf.75f05a335e88ca2f0313b940a2d39770.txt  \n",
            "  inflating: helmet_dataset_v2/train/labels/155_jpg.rf.c4d97d17409e4bd118d2949ca86e2cb5.txt  \n",
            "  inflating: helmet_dataset_v2/train/labels/156_jpg.rf.f500f42eb1abc50aca863109945b5704.txt  \n",
            "  inflating: helmet_dataset_v2/train/labels/157_jpg.rf.6d1913d98a70ee788190f96c36680157.txt  \n",
            "  inflating: helmet_dataset_v2/train/labels/159_jpg.rf.37fac233f1df9f52353d988c114ae52e.txt  \n",
            "  inflating: helmet_dataset_v2/train/labels/160_jpg.rf.0a054f7049bceeb9e36c43017b161f3b.txt  \n",
            "  inflating: helmet_dataset_v2/train/labels/161_jpg.rf.7ed707e65aa0fc037b3bbeb927625a2d.txt  \n",
            "  inflating: helmet_dataset_v2/train/labels/162_jpg.rf.e5fe404fb43eadd3e65310dd34b889c4.txt  \n",
            "  inflating: helmet_dataset_v2/train/labels/163_jpg.rf.fe516b8fdb5f7fde9e2048b042b9ba36.txt  \n",
            "  inflating: helmet_dataset_v2/train/labels/165_jpg.rf.0622c0395e618a6473d57b15f320172b.txt  \n",
            "  inflating: helmet_dataset_v2/train/labels/166_jpg.rf.848b03dcdc61278b8fe12ca8f376d666.txt  \n",
            "  inflating: helmet_dataset_v2/train/labels/167_jpg.rf.9bf44819e74d39dfd17495251cbb1a6d.txt  \n",
            "  inflating: helmet_dataset_v2/train/labels/168_jpg.rf.ca12f13556e51d383645e6143e67ac9d.txt  \n",
            "  inflating: helmet_dataset_v2/train/labels/169_jpg.rf.18d8267651877cdbd871b82f3cb707b4.txt  \n",
            "  inflating: helmet_dataset_v2/train/labels/16_jpg.rf.7aa80203fd328a9bfd779040c1bb3f11.txt  \n",
            "  inflating: helmet_dataset_v2/train/labels/170_jpg.rf.6896851d3cda6b411edd83a05edbf11f.txt  \n",
            "  inflating: helmet_dataset_v2/train/labels/172_jpg.rf.886a55c84bbc7af0befd9d1c5f95f270.txt  \n",
            "  inflating: helmet_dataset_v2/train/labels/174_jpg.rf.3e665ba91d54db6a5770495d6016ffad.txt  \n",
            "  inflating: helmet_dataset_v2/train/labels/175_jpg.rf.a8fefcc4e28a75d5c2839e4cf3217b09.txt  \n",
            "  inflating: helmet_dataset_v2/train/labels/178_jpg.rf.a62d21bff3f25239edc0bbc64e0fb147.txt  \n",
            "  inflating: helmet_dataset_v2/train/labels/180_jpg.rf.22343439fa84d91537d9426ec6de9d31.txt  \n",
            "  inflating: helmet_dataset_v2/train/labels/181_jpg.rf.8ee8bd51f1a41a14f46057b77cf4701a.txt  \n",
            "  inflating: helmet_dataset_v2/train/labels/182_jpg.rf.add19bc5adb7f995d773aec5b2611a6d.txt  \n",
            "  inflating: helmet_dataset_v2/train/labels/185_jpg.rf.beb87d88bfb39afd92157add63ae3f4d.txt  \n",
            "  inflating: helmet_dataset_v2/train/labels/187_jpg.rf.a1e8b1550736960efe7298a87f28693e.txt  \n",
            "  inflating: helmet_dataset_v2/train/labels/188_jpg.rf.a5caa646c133f538357551d53318c7ba.txt  \n",
            "  inflating: helmet_dataset_v2/train/labels/189_jpg.rf.f63b980f68d1fc3428e0b5f26d5f06cb.txt  \n",
            "  inflating: helmet_dataset_v2/train/labels/190_jpg.rf.705ea432952affd64a8fbbc26e90a057.txt  \n",
            "  inflating: helmet_dataset_v2/train/labels/192_jpg.rf.331dd45e629ff6a0591700fea36b33fa.txt  \n",
            "  inflating: helmet_dataset_v2/train/labels/193_jpg.rf.5a46a74596af57b823e99c31a9bb360c.txt  \n",
            "  inflating: helmet_dataset_v2/train/labels/195_jpg.rf.5f667db7675610f7f357349c572e24cd.txt  \n",
            " extracting: helmet_dataset_v2/train/labels/196_jpg.rf.2c246e51ad0ea07bf7bf1fc949a20b0e.txt  \n",
            "  inflating: helmet_dataset_v2/train/labels/197_jpg.rf.116466db892d2b4ba9adfbd7ece277a3.txt  \n",
            "  inflating: helmet_dataset_v2/train/labels/198_jpg.rf.d06d409059d9cd8190ce770d44767eff.txt  \n",
            "  inflating: helmet_dataset_v2/train/labels/199_jpg.rf.519fdd93374f1b9c8808be38b6197a4d.txt  \n",
            "  inflating: helmet_dataset_v2/train/labels/19_jpg.rf.b20fe0ecbe3c7011434edc105fea75b8.txt  \n",
            "  inflating: helmet_dataset_v2/train/labels/1_jpg.rf.35eea722db4a6aacdd43109303cefd80.txt  \n",
            "  inflating: helmet_dataset_v2/train/labels/200_jpg.rf.739b7d4fd566092776ec297c303e8266.txt  \n",
            "  inflating: helmet_dataset_v2/train/labels/202_jpg.rf.29b6e5c90c100cef13e1709a7937c41d.txt  \n",
            "  inflating: helmet_dataset_v2/train/labels/203_jpeg.rf.d7ae922c95138bb5195172a6b9b5c654.txt  \n",
            "  inflating: helmet_dataset_v2/train/labels/205_jpg.rf.197b06bb3e3352cef3e10a621256d344.txt  \n",
            "  inflating: helmet_dataset_v2/train/labels/206_jpg.rf.deaf9d312c86150880812b85fe479d34.txt  \n",
            "  inflating: helmet_dataset_v2/train/labels/207_jpg.rf.532e30760ead96e284a688c8180ae7d4.txt  \n",
            "  inflating: helmet_dataset_v2/train/labels/208_jpg.rf.2e6e7ef0e31c2f25bd33a9bf0d22fb99.txt  \n",
            "  inflating: helmet_dataset_v2/train/labels/209_jpg.rf.57c65c7aa767f8acaffc74b15d39026b.txt  \n",
            "  inflating: helmet_dataset_v2/train/labels/20_jpg.rf.9b7cd0f776285bb4cbb33ad2593aa736.txt  \n",
            "  inflating: helmet_dataset_v2/train/labels/210_jpg.rf.f255eb41e73a5162e7c718bfcc845a0a.txt  \n",
            "  inflating: helmet_dataset_v2/train/labels/211_jpg.rf.b5773bcee2bdc4b3e56a2a456d4b4010.txt  \n",
            "  inflating: helmet_dataset_v2/train/labels/212_jpg.rf.0e0758e18ad520d80341148cccfcbe37.txt  \n",
            "  inflating: helmet_dataset_v2/train/labels/213_jpg.rf.db153a0110f6e65ba948278d9def76e0.txt  \n",
            "  inflating: helmet_dataset_v2/train/labels/214_jpg.rf.ada3bd9c1078765d76516f8463d3db6d.txt  \n",
            "  inflating: helmet_dataset_v2/train/labels/215_jpg.rf.897f4372b53c76c77542d38bcfe025d6.txt  \n",
            "  inflating: helmet_dataset_v2/train/labels/216_jpg.rf.4fb31f159e53d1b36e2635f46a56e95f.txt  \n",
            "  inflating: helmet_dataset_v2/train/labels/217_jpg.rf.0c2b50f63846501760468a8ab841271b.txt  \n",
            "  inflating: helmet_dataset_v2/train/labels/219_jpg.rf.07b054021a297f768a007df9a4a40736.txt  \n",
            "  inflating: helmet_dataset_v2/train/labels/21_jpg.rf.2e8c5f5e6177f951c598d619e0d7c9bd.txt  \n",
            "  inflating: helmet_dataset_v2/train/labels/224_jpeg.rf.e8428a17add33854dc0b2137fb83cc8b.txt  \n",
            " extracting: helmet_dataset_v2/train/labels/225_jpg.rf.2cf15806d6de734264e42fe9c484b82f.txt  \n",
            "  inflating: helmet_dataset_v2/train/labels/226_jpeg.rf.315c6bf8a3088744772513bb7c8ed2f6.txt  \n",
            "  inflating: helmet_dataset_v2/train/labels/227_jpg.rf.4c3496abfb705aeb6514ab8df5b20fe3.txt  \n",
            "  inflating: helmet_dataset_v2/train/labels/228_jpg.rf.05276c407358d0aac72ffe56cc5ed6af.txt  \n",
            "  inflating: helmet_dataset_v2/train/labels/229_jpeg.rf.753315470c71f89c58bcc1d9557bd2ae.txt  \n",
            " extracting: helmet_dataset_v2/train/labels/22_jpg.rf.ccac04b9ec6372437d7c24c0a3958710.txt  \n",
            "  inflating: helmet_dataset_v2/train/labels/230_jpeg.rf.d96f108d8ba4ca609793d56aacbf1320.txt  \n",
            "  inflating: helmet_dataset_v2/train/labels/232_jpeg.rf.41059df74a06701fc81cd1c236dac93d.txt  \n",
            "  inflating: helmet_dataset_v2/train/labels/233_jpg.rf.72eaff755536986370b3ae5f74d66c26.txt  \n",
            "  inflating: helmet_dataset_v2/train/labels/235_jpeg.rf.ce86c1f9643cc08c453034e2801fc699.txt  \n",
            " extracting: helmet_dataset_v2/train/labels/236_jpg.rf.fc7e5d1ee6357241249e6d08e00600c3.txt  \n",
            "  inflating: helmet_dataset_v2/train/labels/237_jpeg.rf.ca232bf918de5a1d2ba56b0e3fe2312b.txt  \n",
            "  inflating: helmet_dataset_v2/train/labels/239_jpg.rf.3f475834b76a80fc9207e36b26867d25.txt  \n",
            "  inflating: helmet_dataset_v2/train/labels/23_jpg.rf.20c4fcdaaeb9579299c0d11b05a150e7.txt  \n",
            "  inflating: helmet_dataset_v2/train/labels/240_jpeg.rf.6bac609e6f3d24bc73bc361c8ff8cc99.txt  \n",
            "  inflating: helmet_dataset_v2/train/labels/241_jpeg.rf.bd4333c1cc38cb7bb7cae14d565014c0.txt  \n",
            "  inflating: helmet_dataset_v2/train/labels/242_jpg.rf.2a72c9f9130016625361bfae7dca58af.txt  \n",
            "  inflating: helmet_dataset_v2/train/labels/243_jpeg.rf.3bad78b766efd9d48a5646324138ab5c.txt  \n",
            "  inflating: helmet_dataset_v2/train/labels/244_jpeg.rf.e19273b1a03d75e5f453fcf9fed1bbb9.txt  \n",
            "  inflating: helmet_dataset_v2/train/labels/247_jpg.rf.767e3c982971d5756711c2612907ba61.txt  \n",
            "  inflating: helmet_dataset_v2/train/labels/248_jpeg.rf.11161b65db4970c5ab2bfb4a6f211c09.txt  \n",
            "  inflating: helmet_dataset_v2/train/labels/249_jpeg.rf.f72313a39dda0e313dca3f3e8126a2fb.txt  \n",
            "  inflating: helmet_dataset_v2/train/labels/24_jpg.rf.b97ada9407cf60cee95d9e85104b3766.txt  \n",
            " extracting: helmet_dataset_v2/train/labels/251_jpg.rf.5cf7729920d5d0549847f07b07218d92.txt  \n",
            "  inflating: helmet_dataset_v2/train/labels/252_jpeg.rf.36480d788e0794b3a93dedc112cec834.txt  \n",
            "  inflating: helmet_dataset_v2/train/labels/253_jpg.rf.6f7a0e1c6c64045a38996a8626984a93.txt  \n",
            "  inflating: helmet_dataset_v2/train/labels/254_jpeg.rf.5e66beb63b71152b4f25a9d1f5a48115.txt  \n",
            "  inflating: helmet_dataset_v2/train/labels/255_jpg.rf.59aeea080044f4a7ffe8e3bde60ec74e.txt  \n",
            "  inflating: helmet_dataset_v2/train/labels/257_jpeg.rf.80988478602c48ccc50395206765eb1f.txt  \n",
            "  inflating: helmet_dataset_v2/train/labels/258_jpg.rf.af29148ee185a29acf0f20fbd3939b50.txt  \n",
            "  inflating: helmet_dataset_v2/train/labels/259_jpeg.rf.7ff8a5d2a2aec4be29e507a11f3d4f1b.txt  \n",
            "  inflating: helmet_dataset_v2/train/labels/25_jpg.rf.664377a096558e8fb4ce7030fff861e7.txt  \n",
            "  inflating: helmet_dataset_v2/train/labels/260_jpg.rf.07e0e1bd8c7a65a345262f448b823d2c.txt  \n",
            "  inflating: helmet_dataset_v2/train/labels/261_jpeg.rf.2d6dd9f79729c33e83a5c5a2f33142d2.txt  \n",
            "  inflating: helmet_dataset_v2/train/labels/263_jpg.rf.eee02c42155f617651833c33530ac79c.txt  \n",
            "  inflating: helmet_dataset_v2/train/labels/264_jpeg.rf.645d329465d6412f58b4807ff947346a.txt  \n",
            "  inflating: helmet_dataset_v2/train/labels/265_jpeg.rf.54ad4ff33a26cd971a19feb3492097fa.txt  \n",
            "  inflating: helmet_dataset_v2/train/labels/268_jpeg.rf.80617069d220fbe61d2fcee517e638a7.txt  \n",
            "  inflating: helmet_dataset_v2/train/labels/269_jpg.rf.5da74b73403251bcf7ec9468a6782b39.txt  \n",
            "  inflating: helmet_dataset_v2/train/labels/26_jpg.rf.8a1d4e6b1947a5b0a4f42666460d3a72.txt  \n",
            "  inflating: helmet_dataset_v2/train/labels/270_jpg.rf.578799afdbe3a62fea522372ee1d2114.txt  \n",
            "  inflating: helmet_dataset_v2/train/labels/271_jpg.rf.04e33be893a0ee4c0efa97910970d10b.txt  \n",
            "  inflating: helmet_dataset_v2/train/labels/273_jpg.rf.f9ff1d7a1e5173a4d614ff6d2171c476.txt  \n",
            " extracting: helmet_dataset_v2/train/labels/275_jpg.rf.258bb09fe77317da38c07f34addf1074.txt  \n",
            "  inflating: helmet_dataset_v2/train/labels/277_jpeg.rf.931eefc85b495c80d89b68baf36e4a49.txt  \n",
            "  inflating: helmet_dataset_v2/train/labels/27_jpg.rf.d2452a4ea3282fcae8d1f654c44099c1.txt  \n",
            "  inflating: helmet_dataset_v2/train/labels/284_jpeg.rf.93a44214363ed6b9bfe5d432906bb966.txt  \n",
            "  inflating: helmet_dataset_v2/train/labels/285_jpg.rf.8a762c95fe8fd58bcf75ca40a6ba8073.txt  \n",
            "  inflating: helmet_dataset_v2/train/labels/287_jpg.rf.9a46c900509688785c89ffdaef2d6b00.txt  \n",
            "  inflating: helmet_dataset_v2/train/labels/288_jpg.rf.7bd3ddc742f4d555ac601881e2c29d42.txt  \n",
            "  inflating: helmet_dataset_v2/train/labels/290_jpeg.rf.9ad6ecdbae232df3f05ff3ba7049a5f7.txt  \n",
            "  inflating: helmet_dataset_v2/train/labels/291_jpg.rf.79df8562d3347a0a10559e6f2dba67f6.txt  \n",
            "  inflating: helmet_dataset_v2/train/labels/292_jpeg.rf.cfc5db6b6cba70a129faf357702d70c2.txt  \n",
            "  inflating: helmet_dataset_v2/train/labels/293_jpeg.rf.9f12245a7b1e895abd6b7cd984ab6156.txt  \n",
            "  inflating: helmet_dataset_v2/train/labels/294_jpeg.rf.b2bc8fab3788c31b89eecb99b5f7a3f7.txt  \n",
            "  inflating: helmet_dataset_v2/train/labels/295_jpeg.rf.1e38f476b98c1f94115d25e561cdd6a8.txt  \n",
            "  inflating: helmet_dataset_v2/train/labels/296_jpeg.rf.0148e839a11d8a5b8eaae12dc2693293.txt  \n",
            "  inflating: helmet_dataset_v2/train/labels/298_jpg.rf.dfe5a0e98b98841680bac60a484d0f21.txt  \n",
            "  inflating: helmet_dataset_v2/train/labels/299_jpg.rf.e5994ad51b325fa6e73029150253ee3a.txt  \n",
            "  inflating: helmet_dataset_v2/train/labels/29_jpg.rf.55c8341eecd6092475c9a4fcdee5aa12.txt  \n",
            "  inflating: helmet_dataset_v2/train/labels/2_jpg.rf.0576a8f4e21ac4e4e19687c1d0de671a.txt  \n",
            "  inflating: helmet_dataset_v2/train/labels/300_jpeg.rf.95614a92bf5cab0ca836d21f63daccd4.txt  \n",
            "  inflating: helmet_dataset_v2/train/labels/302_jpg.rf.24fad9ae22afe619282fecd01223ca36.txt  \n",
            "  inflating: helmet_dataset_v2/train/labels/304_jpg.rf.720eede110745c841929592e3348c846.txt  \n",
            "  inflating: helmet_dataset_v2/train/labels/305_jpg.rf.987dea49f79b4a55268036f7cbbbb366.txt  \n",
            "  inflating: helmet_dataset_v2/train/labels/307_jpg.rf.4c8eecffeb7cb13dad8f58ed48d4652d.txt  \n",
            "  inflating: helmet_dataset_v2/train/labels/308_jpg.rf.c6e07b8ad11530a10a768a65978d5c8f.txt  \n",
            "  inflating: helmet_dataset_v2/train/labels/310_jpg.rf.bf749b1b7c780da902347005ebb153ce.txt  \n",
            "  inflating: helmet_dataset_v2/train/labels/311_png.rf.8faf3025b7b9992441f64c7929248ce0.txt  \n",
            "  inflating: helmet_dataset_v2/train/labels/312_png.rf.f19c439835f2ccc6b47a27d8d8fb62ad.txt  \n",
            "  inflating: helmet_dataset_v2/train/labels/313_jpg.rf.ed32f8cd68ec1199288a1898cb91965c.txt  \n",
            "  inflating: helmet_dataset_v2/train/labels/315_jpg.rf.51fd351d60f1c3c719cd12a3a277ab9e.txt  \n",
            "  inflating: helmet_dataset_v2/train/labels/318_jpeg.rf.10c329ee30fbdfab6604e7a72aae7cca.txt  \n",
            "  inflating: helmet_dataset_v2/train/labels/319_jpg.rf.d0303a26f26b6757277c1c8f7be264c0.txt  \n",
            "  inflating: helmet_dataset_v2/train/labels/31_jpg.rf.c51741325bd824dda857a6fdf25b3813.txt  \n",
            "  inflating: helmet_dataset_v2/train/labels/320_jpg.rf.59bc6d250aca62df2a3f87e702fa90ff.txt  \n",
            "  inflating: helmet_dataset_v2/train/labels/321_jpg.rf.abdd131797a2207fcfc126b8bf8055cd.txt  \n",
            "  inflating: helmet_dataset_v2/train/labels/322_jpg.rf.606e6d4bb4eb56e22f51e93709baac0c.txt  \n",
            "  inflating: helmet_dataset_v2/train/labels/324_jpg.rf.626e34e2aab553005cf4d3c50b7f13af.txt  \n",
            "  inflating: helmet_dataset_v2/train/labels/325_jpeg.rf.ed528b07bdef00f2ae33fae95fb85920.txt  \n",
            "  inflating: helmet_dataset_v2/train/labels/328_jpg.rf.e240abbeaf43099e43fd42c78674f93c.txt  \n",
            "  inflating: helmet_dataset_v2/train/labels/329_jpg.rf.aeb2b3ba9e5fe52be78a310b1a49dcc2.txt  \n",
            "  inflating: helmet_dataset_v2/train/labels/32_jpg.rf.e21c96d7459c94d2ed84f6c9a3ce93da.txt  \n",
            "  inflating: helmet_dataset_v2/train/labels/330_jpg.rf.253dbefad9a0780b1fb5198d36ad3685.txt  \n",
            "  inflating: helmet_dataset_v2/train/labels/332_jpg.rf.903641822705addb1353d623ff8ecd10.txt  \n",
            "  inflating: helmet_dataset_v2/train/labels/333_jpg.rf.569d4c017211f6a63a1050ba21b95984.txt  \n",
            "  inflating: helmet_dataset_v2/train/labels/334_jpg.rf.33f839e5198f1dc8c9c2775f891f3e43.txt  \n",
            " extracting: helmet_dataset_v2/train/labels/336_jpg.rf.2e29df1a89ed72744093d7d8d69612ba.txt  \n",
            "  inflating: helmet_dataset_v2/train/labels/33_jpg.rf.d92cf56c119fe54c6abee6c4ecf39adb.txt  \n",
            "  inflating: helmet_dataset_v2/train/labels/340_jpg.rf.96146c67aef0bfb9a01fa98b0e692efe.txt  \n",
            "  inflating: helmet_dataset_v2/train/labels/341_jpg.rf.a0cf1cfbe70575df5929f29287bbc3ee.txt  \n",
            "  inflating: helmet_dataset_v2/train/labels/343_jpg.rf.67328d971ac6225eb5095e99c550fb14.txt  \n",
            "  inflating: helmet_dataset_v2/train/labels/346_jpg.rf.defa49cf59c4e739b10f8947a3e1fcd8.txt  \n",
            "  inflating: helmet_dataset_v2/train/labels/347_jpg.rf.84f2db4aaec1a44dcf8584c9d6c9c080.txt  \n",
            "  inflating: helmet_dataset_v2/train/labels/348_jpg.rf.b8b31e75d7477243cedd235e1073cd47.txt  \n",
            "  inflating: helmet_dataset_v2/train/labels/349_jpg.rf.aeffe3fd5716f57145e437e913f80ae3.txt  \n",
            "  inflating: helmet_dataset_v2/train/labels/351_jpg.rf.4ac33214fd6cae3ae6c6430f3de91362.txt  \n",
            "  inflating: helmet_dataset_v2/train/labels/352_jpg.rf.d1d2ac7466e72f68e21153280965b226.txt  \n",
            " extracting: helmet_dataset_v2/train/labels/353_jpg.rf.11bf71fa0e43212dc1d0d923b3d6a572.txt  \n",
            "  inflating: helmet_dataset_v2/train/labels/355_jpg.rf.6bdab42fce12485a3e8683b3e1b09f74.txt  \n",
            "  inflating: helmet_dataset_v2/train/labels/358_jpg.rf.94300071b13412e6b4a1bfa8c9e67b59.txt  \n",
            "  inflating: helmet_dataset_v2/train/labels/359_jpg.rf.e0691ed5380c0a7fe8827fa8bdcbaff8.txt  \n",
            "  inflating: helmet_dataset_v2/train/labels/35_jpg.rf.74664a0c06f7c7195b7a263e3534bf2c.txt  \n",
            "  inflating: helmet_dataset_v2/train/labels/360_jpg.rf.43c68bf70310faa867d211ba36828f3b.txt  \n",
            "  inflating: helmet_dataset_v2/train/labels/362_jpg.rf.ce5b9a96e910c055148b86f679ceda85.txt  \n",
            "  inflating: helmet_dataset_v2/train/labels/364_jpg.rf.73077a2ca23a9e5a4d4417ffff31e32b.txt  \n",
            "  inflating: helmet_dataset_v2/train/labels/367_jpg.rf.55371e6991c11786cfaa94d0fc6df01b.txt  \n",
            "  inflating: helmet_dataset_v2/train/labels/369_jpg.rf.e3e7e31acfde690bcca129589554f504.txt  \n",
            "  inflating: helmet_dataset_v2/train/labels/370_jpg.rf.1c20efa420fa0acaed956a71bbf13faf.txt  \n",
            "  inflating: helmet_dataset_v2/train/labels/371_jpg.rf.825ca89fbc8fc75a70d8cb769a9bde6b.txt  \n",
            "  inflating: helmet_dataset_v2/train/labels/373_jpg.rf.1cdecf6bec21e561eb78b4aa26e7e3ac.txt  \n",
            "  inflating: helmet_dataset_v2/train/labels/374_jpg.rf.ca1340b724617a9460efb50a7e505f36.txt  \n",
            "  inflating: helmet_dataset_v2/train/labels/375_jpg.rf.84b1069a7992ea13e1cb9ca2203e89df.txt  \n",
            "  inflating: helmet_dataset_v2/train/labels/377_jpg.rf.7c459a2e4f954790b348ab8f6ae75725.txt  \n",
            "  inflating: helmet_dataset_v2/train/labels/378_jpg.rf.b2f40d7f44bfcaf6bfd1c4f680f5d332.txt  \n",
            " extracting: helmet_dataset_v2/train/labels/379_jpg.rf.e3b63607d849a7b647a35d1a1ae27297.txt  \n",
            "  inflating: helmet_dataset_v2/train/labels/37_jpg.rf.e152a0e0870fb4b62896107fa37280c0.txt  \n",
            "  inflating: helmet_dataset_v2/train/labels/380_jpg.rf.cd25a11c15c0a38c786c4d2e2b67c9bb.txt  \n",
            "  inflating: helmet_dataset_v2/train/labels/381_jpg.rf.9421981559ec2e33ea23843d838c4ed2.txt  \n",
            "  inflating: helmet_dataset_v2/train/labels/382_jpg.rf.f1cd8b77444454eaa7ac5f2cc7eee087.txt  \n",
            "  inflating: helmet_dataset_v2/train/labels/383_jpg.rf.bc456c3a8fd7aa4163f5f55bad0ed2a2.txt  \n",
            "  inflating: helmet_dataset_v2/train/labels/384_jpg.rf.995d235600d237ba42f9669a9327aecf.txt  \n",
            "  inflating: helmet_dataset_v2/train/labels/385_jpg.rf.6fda3bb1ead0f545cd57a893cedcf364.txt  \n",
            "  inflating: helmet_dataset_v2/train/labels/386_jpg.rf.b84551d0dbf18fad7304a2705dd698a7.txt  \n",
            "  inflating: helmet_dataset_v2/train/labels/387_jpg.rf.26c94b78df0193feb01cb98629a5e9c7.txt  \n",
            "  inflating: helmet_dataset_v2/train/labels/388_jpg.rf.b8935dbf5bd1a7205da098ce2ca750d7.txt  \n",
            "  inflating: helmet_dataset_v2/train/labels/389_jpg.rf.f58b2104fe7a957947f7d38d525bd48b.txt  \n",
            "  inflating: helmet_dataset_v2/train/labels/38_jpg.rf.7e1a974f2ba274754935faad219133e7.txt  \n",
            "  inflating: helmet_dataset_v2/train/labels/390_jpeg.rf.a4cbe967b33a18c39e57b07c13a61831.txt  \n",
            "  inflating: helmet_dataset_v2/train/labels/391_jpg.rf.a935559d726bacef1cdcbfec9e2d4d3b.txt  \n",
            "  inflating: helmet_dataset_v2/train/labels/392_jpg.rf.942a446a416b54f873a4f93fa976a988.txt  \n",
            "  inflating: helmet_dataset_v2/train/labels/394_jpg.rf.bca90c642d3233e21bcb75265157a552.txt  \n",
            "  inflating: helmet_dataset_v2/train/labels/395_jpeg.rf.48c816bd0323603d92ed8f8a0c7367f1.txt  \n",
            "  inflating: helmet_dataset_v2/train/labels/396_jpg.rf.a96dc173ea904f6066197e30c7eae70d.txt  \n",
            "  inflating: helmet_dataset_v2/train/labels/397_jpg.rf.ee9157030b7d64fbbf8d6467ad692716.txt  \n",
            "  inflating: helmet_dataset_v2/train/labels/398_jpg.rf.15888258df66d026044f2683f41f69a4.txt  \n",
            "  inflating: helmet_dataset_v2/train/labels/399_jpg.rf.3f781fc5a4bcb25ae46c57024e95a7b5.txt  \n",
            "  inflating: helmet_dataset_v2/train/labels/39_jpg.rf.48dfeb696872d475baa5dfbafcb55fb3.txt  \n",
            "  inflating: helmet_dataset_v2/train/labels/3_jpg.rf.dbc90f651831af504c9b56cc3f54dfa0.txt  \n",
            "  inflating: helmet_dataset_v2/train/labels/400_jpeg.rf.06d2c3f808d93787b6eac4e75b195721.txt  \n",
            "  inflating: helmet_dataset_v2/train/labels/40_jpg.rf.04e24bbfdb9a09697cb5774c44c821b9.txt  \n",
            "  inflating: helmet_dataset_v2/train/labels/41_png.rf.5c2bec390d30bea9a1fc1bc5b7187634.txt  \n",
            "  inflating: helmet_dataset_v2/train/labels/42_jpg.rf.28d5a788f8c584046e879d7d6e2e0c00.txt  \n",
            "  inflating: helmet_dataset_v2/train/labels/43_jpg.rf.362488fa310364cb7b18bbbfcacaedd4.txt  \n",
            "  inflating: helmet_dataset_v2/train/labels/45_jpg.rf.ccacb9e1ac4bd1730947cd9010692cc6.txt  \n",
            "  inflating: helmet_dataset_v2/train/labels/47_jpg.rf.78480b04aa644dbdc62fa921598dd24b.txt  \n",
            "  inflating: helmet_dataset_v2/train/labels/4_jpg.rf.0fa6bf69476b75ff6c384a8036938a8c.txt  \n",
            "  inflating: helmet_dataset_v2/train/labels/50_png.rf.d3e8f5e5f56fcc962ab39f4f4fb8f7d4.txt  \n",
            "  inflating: helmet_dataset_v2/train/labels/52_jpg.rf.232a3c5a9ac84182007571a99f63b3fb.txt  \n",
            "  inflating: helmet_dataset_v2/train/labels/56_jpg.rf.3c39b8fb4f292ee8227243745e140180.txt  \n",
            "  inflating: helmet_dataset_v2/train/labels/59_jpg.rf.93c149c37ae08b059467b06ad602e87b.txt  \n",
            "  inflating: helmet_dataset_v2/train/labels/61_jpg.rf.9c19c179c6b3f2c64cf8a3456243c1b0.txt  \n",
            "  inflating: helmet_dataset_v2/train/labels/62_jpg.rf.41badbefff75e6ac5ba43bc53c517542.txt  \n",
            "  inflating: helmet_dataset_v2/train/labels/63_jpg.rf.9540e2b6d28b98cd5ce7f3407416145c.txt  \n",
            "  inflating: helmet_dataset_v2/train/labels/64_jpg.rf.3e1b282a79c21800b56431782e07565c.txt  \n",
            "  inflating: helmet_dataset_v2/train/labels/65_jpg.rf.f39280465b219e972e937c1a680f7d8e.txt  \n",
            "  inflating: helmet_dataset_v2/train/labels/67_jpg.rf.968ff9c995d5c99446ee5266572a43aa.txt  \n",
            "  inflating: helmet_dataset_v2/train/labels/68_jpg.rf.56c0861335fedce0a43dc0c1c4b350ea.txt  \n",
            "  inflating: helmet_dataset_v2/train/labels/69_jpg.rf.1d9974a6823c0555ea334a1de9ad38fe.txt  \n",
            "  inflating: helmet_dataset_v2/train/labels/70_jpg.rf.8c99cec6f506d971458bd0a8890e7638.txt  \n",
            "  inflating: helmet_dataset_v2/train/labels/73_jpg.rf.58068f3c562e84e49dacd87925847a66.txt  \n",
            "  inflating: helmet_dataset_v2/train/labels/74_jpg.rf.f22f128e76c3cdfff4272d75baa8c71c.txt  \n",
            "  inflating: helmet_dataset_v2/train/labels/75_jpg.rf.92ac5ae33208c0af97ed1f7ae25886a8.txt  \n",
            "  inflating: helmet_dataset_v2/train/labels/76_jpg.rf.fd166b801993822ef1352eced595da7b.txt  \n",
            "  inflating: helmet_dataset_v2/train/labels/77_jpg.rf.4e2a0faa97acc714c0373f2b63db5be3.txt  \n",
            "  inflating: helmet_dataset_v2/train/labels/78_jpg.rf.3bee974a392a04eb206dac484cdbde70.txt  \n",
            "  inflating: helmet_dataset_v2/train/labels/7_jpg.rf.4c86b8ccafaef555692744de367ba8fd.txt  \n",
            "  inflating: helmet_dataset_v2/train/labels/81_jpg.rf.0914da29e15086f4cd3f68bb009cc301.txt  \n",
            " extracting: helmet_dataset_v2/train/labels/84_jpg.rf.46d399155ad39ec0a2966e131804d30f.txt  \n",
            "  inflating: helmet_dataset_v2/train/labels/85_jpg.rf.37beba0d4ac69c11a02645c283f0c383.txt  \n",
            "  inflating: helmet_dataset_v2/train/labels/86_jpg.rf.fc5c4b9e2c5a901345c05a98124b4508.txt  \n",
            "  inflating: helmet_dataset_v2/train/labels/88_jpg.rf.da1ecec663942e357c9480d8e33c70d0.txt  \n",
            "  inflating: helmet_dataset_v2/train/labels/8_jpg.rf.b9ac7d88283665094f7bca62d5f58c76.txt  \n",
            "  inflating: helmet_dataset_v2/train/labels/90_jpg.rf.0419963636d9623e2b3aecf548b03c75.txt  \n",
            "  inflating: helmet_dataset_v2/train/labels/91_jpg.rf.858b4862a37c06228e93d2979f6ffabe.txt  \n",
            "  inflating: helmet_dataset_v2/train/labels/94_jpg.rf.0547b7d8925dc9fc00733836a94e7c2f.txt  \n",
            "  inflating: helmet_dataset_v2/train/labels/97_jpg.rf.6c585cbf37973a4c7103b0d752005d46.txt  \n",
            "  inflating: helmet_dataset_v2/train/labels/98_jpg.rf.20d43537e71d212acc658dee973f69f5.txt  \n",
            "  inflating: helmet_dataset_v2/train/labels/99_jpg.rf.47598fca36afa4d63f06a4a0d5f88c2b.txt  \n",
            "  inflating: helmet_dataset_v2/train/labels/9_jpg.rf.672254ff10c058ec30c2b5820713e6c0.txt  \n",
            "   creating: helmet_dataset_v2/valid/\n",
            "   creating: helmet_dataset_v2/valid/images/\n",
            " extracting: helmet_dataset_v2/valid/images/102_jpg.rf.b05d9fab19baae9973335e94f50cc617.jpg  \n",
            " extracting: helmet_dataset_v2/valid/images/103_jpeg.rf.e425308f96ead0e5787de81bf0a82678.jpg  \n",
            " extracting: helmet_dataset_v2/valid/images/112_jpg.rf.309a5048c938296b219b046219e1f235.jpg  \n",
            " extracting: helmet_dataset_v2/valid/images/117_jpg.rf.966327bce6839b97da93bb06edd1e555.jpg  \n",
            " extracting: helmet_dataset_v2/valid/images/118_jpg.rf.d992a6373ca761ad4217c4a788f5d958.jpg  \n",
            " extracting: helmet_dataset_v2/valid/images/129_jpg.rf.2036d1fb0d286601c6206e2ba92ab057.jpg  \n",
            " extracting: helmet_dataset_v2/valid/images/136_jpg.rf.487ddd7e96ce51b8cc95e15d900bad10.jpg  \n",
            " extracting: helmet_dataset_v2/valid/images/140_jpg.rf.0895e75f257827f3129f64cd7ddf4ec3.jpg  \n",
            " extracting: helmet_dataset_v2/valid/images/143_jpg.rf.bc3efdb2df97cb3dcc3ef0b19f8aa424.jpg  \n",
            " extracting: helmet_dataset_v2/valid/images/152_jpg.rf.a5e62e93c6bda6d6d2c9d921f7cdc5c7.jpg  \n",
            " extracting: helmet_dataset_v2/valid/images/15_jpg.rf.8b29feacd68a4d1f67b19b3ab972e98c.jpg  \n",
            " extracting: helmet_dataset_v2/valid/images/176_jpg.rf.3ed0402fc51040857732cc3999b2e4e0.jpg  \n",
            " extracting: helmet_dataset_v2/valid/images/177_jpg.rf.39d3984de2009c8f40455eeed842cf94.jpg  \n",
            " extracting: helmet_dataset_v2/valid/images/184_jpg.rf.be1dbaee496204654b0d96e17b96afed.jpg  \n",
            " extracting: helmet_dataset_v2/valid/images/186_jpg.rf.3dd7a7811a2da53d37a7653d1ed926cf.jpg  \n",
            " extracting: helmet_dataset_v2/valid/images/18_png.rf.00ad513ca0214299f9565084c7cb6d84.jpg  \n",
            " extracting: helmet_dataset_v2/valid/images/191_jpg.rf.63a4d8d89d12648623dec55b1fb29777.jpg  \n",
            " extracting: helmet_dataset_v2/valid/images/220_jpg.rf.13f3464abe7769dd967c2da16a1cd138.jpg  \n",
            " extracting: helmet_dataset_v2/valid/images/221_jpg.rf.d6c2ffb4015566cadd2c870db42c3d11.jpg  \n",
            " extracting: helmet_dataset_v2/valid/images/222_jpg.rf.ac554437b38392bdd98df372bba03682.jpg  \n",
            " extracting: helmet_dataset_v2/valid/images/223_jpg.rf.69562c8254126316e5e38621a46d3839.jpg  \n",
            " extracting: helmet_dataset_v2/valid/images/231_jpeg.rf.c47853be4de3ede795726459d7bdcf0b.jpg  \n",
            " extracting: helmet_dataset_v2/valid/images/234_jpeg.rf.a7081b037c96a41e857eb9caaf4723ca.jpg  \n",
            " extracting: helmet_dataset_v2/valid/images/238_jpeg.rf.11bd10e2b0ce94a1a784854ee07b2ce2.jpg  \n",
            " extracting: helmet_dataset_v2/valid/images/245_jpeg.rf.306cd91e95670492ace177ea9eb88492.jpg  \n",
            " extracting: helmet_dataset_v2/valid/images/250_jpeg.rf.57a24706cdfecf7be22b07c9a227ac67.jpg  \n",
            " extracting: helmet_dataset_v2/valid/images/262_jpeg.rf.cf3a9474d77b1017f60fbfc31f4b6a52.jpg  \n",
            " extracting: helmet_dataset_v2/valid/images/266_jpeg.rf.5fb2543a215efaf6f07d65306349db73.jpg  \n",
            " extracting: helmet_dataset_v2/valid/images/267_jpeg.rf.327f65ac7ef49bcaa361b57327b16b9e.jpg  \n",
            " extracting: helmet_dataset_v2/valid/images/272_jpeg.rf.d391b2c2a36d9e939d0a087b252e4eab.jpg  \n",
            " extracting: helmet_dataset_v2/valid/images/279_jpeg.rf.a04888a1b0ce3612f3f0a00b6633ed0c.jpg  \n",
            " extracting: helmet_dataset_v2/valid/images/280_jpg.rf.0686f595e46b70caa99e1a81e7a9a3dd.jpg  \n",
            " extracting: helmet_dataset_v2/valid/images/281_jpg.rf.245ded430039a0561937997fa4142f5b.jpg  \n",
            " extracting: helmet_dataset_v2/valid/images/283_jpeg.rf.2f4124a65736a70f0b82a7114e887777.jpg  \n",
            " extracting: helmet_dataset_v2/valid/images/286_jpg.rf.a0924e9ff19885746f86d740282b309b.jpg  \n",
            " extracting: helmet_dataset_v2/valid/images/289_jpeg.rf.1d71cb1a6340b38d63dcf4c5a150e1c3.jpg  \n",
            " extracting: helmet_dataset_v2/valid/images/28_jpg.rf.819e1b9970e3e2f0342e8e36f04eeb4c.jpg  \n",
            " extracting: helmet_dataset_v2/valid/images/303_jpg.rf.95da6284df9833c2e64d7c16114de944.jpg  \n",
            " extracting: helmet_dataset_v2/valid/images/306_jpg.rf.9ba922c74dd486130cc21edc029bee1c.jpg  \n",
            " extracting: helmet_dataset_v2/valid/images/316_jpg.rf.b832ad5aeabba81a6dbbc6793a42d172.jpg  \n",
            " extracting: helmet_dataset_v2/valid/images/317_jpg.rf.23d11ce6ad7c911010e059c6771890eb.jpg  \n",
            " extracting: helmet_dataset_v2/valid/images/331_png.rf.6a7bf463ee80e1f064459877ce2981f4.jpg  \n",
            " extracting: helmet_dataset_v2/valid/images/335_jpg.rf.ef4e8c5f02cf6fd5959ea50f93fb6b99.jpg  \n",
            " extracting: helmet_dataset_v2/valid/images/338_jpeg.rf.d14f10b44d3191527439abf25eedd421.jpg  \n",
            " extracting: helmet_dataset_v2/valid/images/342_jpg.rf.7387f1c7ea81da3fb331c39ef46c3ad6.jpg  \n",
            " extracting: helmet_dataset_v2/valid/images/344_jpg.rf.c3a4c29f4da2a59b294f5cba9c7cfbe2.jpg  \n",
            " extracting: helmet_dataset_v2/valid/images/34_jpg.rf.c5b211676c18bf581b167b65a3f00884.jpg  \n",
            " extracting: helmet_dataset_v2/valid/images/350_jpg.rf.e63692fad7f3547cdbdc31d9aca21b12.jpg  \n",
            " extracting: helmet_dataset_v2/valid/images/354_jpg.rf.1e0ae0ea77a5c98a78069a0d12b64bc4.jpg  \n",
            " extracting: helmet_dataset_v2/valid/images/356_jpg.rf.a3996cbab7c5eb660068966e9ec892f9.jpg  \n",
            " extracting: helmet_dataset_v2/valid/images/357_jpg.rf.118edce0d43c619bca3bb9f23b0fea22.jpg  \n",
            " extracting: helmet_dataset_v2/valid/images/361_jpeg.rf.1e071ce0afac32d4b2fd4edc750e7ddd.jpg  \n",
            " extracting: helmet_dataset_v2/valid/images/363_jpg.rf.d7759527034197ca718222ec83f7486e.jpg  \n",
            " extracting: helmet_dataset_v2/valid/images/365_jpg.rf.616c6c95addc2b05b887c6fcc785d422.jpg  \n",
            " extracting: helmet_dataset_v2/valid/images/366_jpg.rf.65e618e27b59113fc0a3b39fb23d37f1.jpg  \n",
            " extracting: helmet_dataset_v2/valid/images/368_jpeg.rf.f8578e17235978a66e9bc9cb05e0003b.jpg  \n",
            " extracting: helmet_dataset_v2/valid/images/36_jpg.rf.5c28f91dfe8a2def790f93518a2a674b.jpg  \n",
            " extracting: helmet_dataset_v2/valid/images/372_jpg.rf.87d021be222560a929ad2a48356fff68.jpg  \n",
            " extracting: helmet_dataset_v2/valid/images/376_jpg.rf.57617e55775d682da2f2a59e83395231.jpg  \n",
            " extracting: helmet_dataset_v2/valid/images/393_jpg.rf.b4de30b46056f1829ef96ce0215bae9c.jpg  \n",
            " extracting: helmet_dataset_v2/valid/images/44_jpg.rf.c5bfefccbba58368d8b1005f9a525aad.jpg  \n",
            " extracting: helmet_dataset_v2/valid/images/46_jpg.rf.20675041c9832a1c43d39a52df0104f1.jpg  \n",
            " extracting: helmet_dataset_v2/valid/images/48_jpg.rf.34dcbff2a69e830cb175c19e7e3fbfaf.jpg  \n",
            " extracting: helmet_dataset_v2/valid/images/49_jpg.rf.90a85d2825b761b12dc0d336b4a2bac7.jpg  \n",
            " extracting: helmet_dataset_v2/valid/images/51_jpg.rf.c2426fadf99490ff32a02c2beba42ed0.jpg  \n",
            " extracting: helmet_dataset_v2/valid/images/58_jpg.rf.0399147c12431afd0d95188899b06a38.jpg  \n",
            " extracting: helmet_dataset_v2/valid/images/5_jpg.rf.120e145d2ff68c670acb4e8ad45725a5.jpg  \n",
            " extracting: helmet_dataset_v2/valid/images/60_jpg.rf.71f12b29463c94c7145fcda6bf593fcf.jpg  \n",
            " extracting: helmet_dataset_v2/valid/images/66_jpg.rf.b81ad75dcde16eaa1c52be4a3c896f16.jpg  \n",
            " extracting: helmet_dataset_v2/valid/images/6_jpg.rf.be6edf67454e53223a8cf764c73c0e6a.jpg  \n",
            " extracting: helmet_dataset_v2/valid/images/71_jpg.rf.b30c25bcc92714167a22d159fe6412d0.jpg  \n",
            " extracting: helmet_dataset_v2/valid/images/72_jpg.rf.d08a8aa70e158fb3a33616ef066a3a2c.jpg  \n",
            " extracting: helmet_dataset_v2/valid/images/79_jpg.rf.9badd3dcb645c522b8146e5e658c44c9.jpg  \n",
            " extracting: helmet_dataset_v2/valid/images/80_jpg.rf.3f2c5195f5bbdc75132a3c6100b0a4cc.jpg  \n",
            " extracting: helmet_dataset_v2/valid/images/82_jpg.rf.3cedc9df48f9a5e30746607263eb87fc.jpg  \n",
            " extracting: helmet_dataset_v2/valid/images/83_jpg.rf.43c924703092cbfaf5fb88845cdabb4a.jpg  \n",
            " extracting: helmet_dataset_v2/valid/images/87_jpg.rf.a89bd871144d1687eaa29d6abad25d3b.jpg  \n",
            " extracting: helmet_dataset_v2/valid/images/89_jpg.rf.cf958747934fb670061dcfaa98c59fb3.jpg  \n",
            " extracting: helmet_dataset_v2/valid/images/93_jpg.rf.0286bf734c2c3179a65c5a3810256417.jpg  \n",
            " extracting: helmet_dataset_v2/valid/images/95_jpg.rf.dca5a0ba4c63a4f8a00a97786bd058e9.jpg  \n",
            "   creating: helmet_dataset_v2/valid/labels/\n",
            "  inflating: helmet_dataset_v2/valid/labels/102_jpg.rf.b05d9fab19baae9973335e94f50cc617.txt  \n",
            "  inflating: helmet_dataset_v2/valid/labels/103_jpeg.rf.e425308f96ead0e5787de81bf0a82678.txt  \n",
            "  inflating: helmet_dataset_v2/valid/labels/112_jpg.rf.309a5048c938296b219b046219e1f235.txt  \n",
            "  inflating: helmet_dataset_v2/valid/labels/117_jpg.rf.966327bce6839b97da93bb06edd1e555.txt  \n",
            "  inflating: helmet_dataset_v2/valid/labels/118_jpg.rf.d992a6373ca761ad4217c4a788f5d958.txt  \n",
            "  inflating: helmet_dataset_v2/valid/labels/129_jpg.rf.2036d1fb0d286601c6206e2ba92ab057.txt  \n",
            "  inflating: helmet_dataset_v2/valid/labels/136_jpg.rf.487ddd7e96ce51b8cc95e15d900bad10.txt  \n",
            "  inflating: helmet_dataset_v2/valid/labels/140_jpg.rf.0895e75f257827f3129f64cd7ddf4ec3.txt  \n",
            "  inflating: helmet_dataset_v2/valid/labels/143_jpg.rf.bc3efdb2df97cb3dcc3ef0b19f8aa424.txt  \n",
            "  inflating: helmet_dataset_v2/valid/labels/152_jpg.rf.a5e62e93c6bda6d6d2c9d921f7cdc5c7.txt  \n",
            "  inflating: helmet_dataset_v2/valid/labels/15_jpg.rf.8b29feacd68a4d1f67b19b3ab972e98c.txt  \n",
            "  inflating: helmet_dataset_v2/valid/labels/176_jpg.rf.3ed0402fc51040857732cc3999b2e4e0.txt  \n",
            "  inflating: helmet_dataset_v2/valid/labels/177_jpg.rf.39d3984de2009c8f40455eeed842cf94.txt  \n",
            "  inflating: helmet_dataset_v2/valid/labels/184_jpg.rf.be1dbaee496204654b0d96e17b96afed.txt  \n",
            "  inflating: helmet_dataset_v2/valid/labels/186_jpg.rf.3dd7a7811a2da53d37a7653d1ed926cf.txt  \n",
            "  inflating: helmet_dataset_v2/valid/labels/18_png.rf.00ad513ca0214299f9565084c7cb6d84.txt  \n",
            "  inflating: helmet_dataset_v2/valid/labels/191_jpg.rf.63a4d8d89d12648623dec55b1fb29777.txt  \n",
            "  inflating: helmet_dataset_v2/valid/labels/220_jpg.rf.13f3464abe7769dd967c2da16a1cd138.txt  \n",
            "  inflating: helmet_dataset_v2/valid/labels/221_jpg.rf.d6c2ffb4015566cadd2c870db42c3d11.txt  \n",
            "  inflating: helmet_dataset_v2/valid/labels/222_jpg.rf.ac554437b38392bdd98df372bba03682.txt  \n",
            "  inflating: helmet_dataset_v2/valid/labels/223_jpg.rf.69562c8254126316e5e38621a46d3839.txt  \n",
            "  inflating: helmet_dataset_v2/valid/labels/231_jpeg.rf.c47853be4de3ede795726459d7bdcf0b.txt  \n",
            "  inflating: helmet_dataset_v2/valid/labels/234_jpeg.rf.a7081b037c96a41e857eb9caaf4723ca.txt  \n",
            "  inflating: helmet_dataset_v2/valid/labels/238_jpeg.rf.11bd10e2b0ce94a1a784854ee07b2ce2.txt  \n",
            "  inflating: helmet_dataset_v2/valid/labels/245_jpeg.rf.306cd91e95670492ace177ea9eb88492.txt  \n",
            "  inflating: helmet_dataset_v2/valid/labels/250_jpeg.rf.57a24706cdfecf7be22b07c9a227ac67.txt  \n",
            "  inflating: helmet_dataset_v2/valid/labels/262_jpeg.rf.cf3a9474d77b1017f60fbfc31f4b6a52.txt  \n",
            "  inflating: helmet_dataset_v2/valid/labels/266_jpeg.rf.5fb2543a215efaf6f07d65306349db73.txt  \n",
            "  inflating: helmet_dataset_v2/valid/labels/267_jpeg.rf.327f65ac7ef49bcaa361b57327b16b9e.txt  \n",
            "  inflating: helmet_dataset_v2/valid/labels/272_jpeg.rf.d391b2c2a36d9e939d0a087b252e4eab.txt  \n",
            "  inflating: helmet_dataset_v2/valid/labels/279_jpeg.rf.a04888a1b0ce3612f3f0a00b6633ed0c.txt  \n",
            "  inflating: helmet_dataset_v2/valid/labels/280_jpg.rf.0686f595e46b70caa99e1a81e7a9a3dd.txt  \n",
            "  inflating: helmet_dataset_v2/valid/labels/281_jpg.rf.245ded430039a0561937997fa4142f5b.txt  \n",
            "  inflating: helmet_dataset_v2/valid/labels/283_jpeg.rf.2f4124a65736a70f0b82a7114e887777.txt  \n",
            "  inflating: helmet_dataset_v2/valid/labels/286_jpg.rf.a0924e9ff19885746f86d740282b309b.txt  \n",
            "  inflating: helmet_dataset_v2/valid/labels/289_jpeg.rf.1d71cb1a6340b38d63dcf4c5a150e1c3.txt  \n",
            "  inflating: helmet_dataset_v2/valid/labels/28_jpg.rf.819e1b9970e3e2f0342e8e36f04eeb4c.txt  \n",
            "  inflating: helmet_dataset_v2/valid/labels/303_jpg.rf.95da6284df9833c2e64d7c16114de944.txt  \n",
            "  inflating: helmet_dataset_v2/valid/labels/306_jpg.rf.9ba922c74dd486130cc21edc029bee1c.txt  \n",
            "  inflating: helmet_dataset_v2/valid/labels/316_jpg.rf.b832ad5aeabba81a6dbbc6793a42d172.txt  \n",
            "  inflating: helmet_dataset_v2/valid/labels/317_jpg.rf.23d11ce6ad7c911010e059c6771890eb.txt  \n",
            "  inflating: helmet_dataset_v2/valid/labels/331_png.rf.6a7bf463ee80e1f064459877ce2981f4.txt  \n",
            "  inflating: helmet_dataset_v2/valid/labels/335_jpg.rf.ef4e8c5f02cf6fd5959ea50f93fb6b99.txt  \n",
            "  inflating: helmet_dataset_v2/valid/labels/338_jpeg.rf.d14f10b44d3191527439abf25eedd421.txt  \n",
            "  inflating: helmet_dataset_v2/valid/labels/342_jpg.rf.7387f1c7ea81da3fb331c39ef46c3ad6.txt  \n",
            "  inflating: helmet_dataset_v2/valid/labels/344_jpg.rf.c3a4c29f4da2a59b294f5cba9c7cfbe2.txt  \n",
            "  inflating: helmet_dataset_v2/valid/labels/34_jpg.rf.c5b211676c18bf581b167b65a3f00884.txt  \n",
            "  inflating: helmet_dataset_v2/valid/labels/350_jpg.rf.e63692fad7f3547cdbdc31d9aca21b12.txt  \n",
            "  inflating: helmet_dataset_v2/valid/labels/354_jpg.rf.1e0ae0ea77a5c98a78069a0d12b64bc4.txt  \n",
            "  inflating: helmet_dataset_v2/valid/labels/356_jpg.rf.a3996cbab7c5eb660068966e9ec892f9.txt  \n",
            "  inflating: helmet_dataset_v2/valid/labels/357_jpg.rf.118edce0d43c619bca3bb9f23b0fea22.txt  \n",
            "  inflating: helmet_dataset_v2/valid/labels/361_jpeg.rf.1e071ce0afac32d4b2fd4edc750e7ddd.txt  \n",
            "  inflating: helmet_dataset_v2/valid/labels/363_jpg.rf.d7759527034197ca718222ec83f7486e.txt  \n",
            "  inflating: helmet_dataset_v2/valid/labels/365_jpg.rf.616c6c95addc2b05b887c6fcc785d422.txt  \n",
            "  inflating: helmet_dataset_v2/valid/labels/366_jpg.rf.65e618e27b59113fc0a3b39fb23d37f1.txt  \n",
            "  inflating: helmet_dataset_v2/valid/labels/368_jpeg.rf.f8578e17235978a66e9bc9cb05e0003b.txt  \n",
            "  inflating: helmet_dataset_v2/valid/labels/36_jpg.rf.5c28f91dfe8a2def790f93518a2a674b.txt  \n",
            "  inflating: helmet_dataset_v2/valid/labels/372_jpg.rf.87d021be222560a929ad2a48356fff68.txt  \n",
            "  inflating: helmet_dataset_v2/valid/labels/376_jpg.rf.57617e55775d682da2f2a59e83395231.txt  \n",
            "  inflating: helmet_dataset_v2/valid/labels/393_jpg.rf.b4de30b46056f1829ef96ce0215bae9c.txt  \n",
            "  inflating: helmet_dataset_v2/valid/labels/44_jpg.rf.c5bfefccbba58368d8b1005f9a525aad.txt  \n",
            "  inflating: helmet_dataset_v2/valid/labels/46_jpg.rf.20675041c9832a1c43d39a52df0104f1.txt  \n",
            "  inflating: helmet_dataset_v2/valid/labels/48_jpg.rf.34dcbff2a69e830cb175c19e7e3fbfaf.txt  \n",
            "  inflating: helmet_dataset_v2/valid/labels/49_jpg.rf.90a85d2825b761b12dc0d336b4a2bac7.txt  \n",
            "  inflating: helmet_dataset_v2/valid/labels/51_jpg.rf.c2426fadf99490ff32a02c2beba42ed0.txt  \n",
            "  inflating: helmet_dataset_v2/valid/labels/58_jpg.rf.0399147c12431afd0d95188899b06a38.txt  \n",
            "  inflating: helmet_dataset_v2/valid/labels/5_jpg.rf.120e145d2ff68c670acb4e8ad45725a5.txt  \n",
            "  inflating: helmet_dataset_v2/valid/labels/60_jpg.rf.71f12b29463c94c7145fcda6bf593fcf.txt  \n",
            "  inflating: helmet_dataset_v2/valid/labels/66_jpg.rf.b81ad75dcde16eaa1c52be4a3c896f16.txt  \n",
            "  inflating: helmet_dataset_v2/valid/labels/6_jpg.rf.be6edf67454e53223a8cf764c73c0e6a.txt  \n",
            "  inflating: helmet_dataset_v2/valid/labels/71_jpg.rf.b30c25bcc92714167a22d159fe6412d0.txt  \n",
            "  inflating: helmet_dataset_v2/valid/labels/72_jpg.rf.d08a8aa70e158fb3a33616ef066a3a2c.txt  \n",
            "  inflating: helmet_dataset_v2/valid/labels/79_jpg.rf.9badd3dcb645c522b8146e5e658c44c9.txt  \n",
            "  inflating: helmet_dataset_v2/valid/labels/80_jpg.rf.3f2c5195f5bbdc75132a3c6100b0a4cc.txt  \n",
            "  inflating: helmet_dataset_v2/valid/labels/82_jpg.rf.3cedc9df48f9a5e30746607263eb87fc.txt  \n",
            "  inflating: helmet_dataset_v2/valid/labels/83_jpg.rf.43c924703092cbfaf5fb88845cdabb4a.txt  \n",
            "  inflating: helmet_dataset_v2/valid/labels/87_jpg.rf.a89bd871144d1687eaa29d6abad25d3b.txt  \n",
            "  inflating: helmet_dataset_v2/valid/labels/89_jpg.rf.cf958747934fb670061dcfaa98c59fb3.txt  \n",
            "  inflating: helmet_dataset_v2/valid/labels/93_jpg.rf.0286bf734c2c3179a65c5a3810256417.txt  \n",
            "  inflating: helmet_dataset_v2/valid/labels/95_jpg.rf.dca5a0ba4c63a4f8a00a97786bd058e9.txt  \n"
          ]
        }
      ]
    },
    {
      "cell_type": "code",
      "source": [
        "!ls helmet_dataset_v2"
      ],
      "metadata": {
        "colab": {
          "base_uri": "https://localhost:8080/"
        },
        "id": "U-v_7l3kOD5D",
        "outputId": "d788ba1f-aee6-4a4c-add4-5fd895fc34ca"
      },
      "execution_count": 5,
      "outputs": [
        {
          "output_type": "stream",
          "name": "stdout",
          "text": [
            "data.yaml  README.dataset.txt  README.roboflow.txt  test  train  valid\n"
          ]
        }
      ]
    },
    {
      "cell_type": "code",
      "source": [
        "model = YOLO('yolov8n.pt')  # or yolov8s.pt for better accuracy\n",
        "\n",
        "model.train(\n",
        "    data='helmet_dataset_v2/data.yaml',\n",
        "    epochs=50,\n",
        "    imgsz=640,\n",
        "    batch=16,\n",
        "    project='helmet_detect_v2',\n",
        "    name='helmet_2class'\n",
        ")"
      ],
      "metadata": {
        "colab": {
          "base_uri": "https://localhost:8080/"
        },
        "id": "eFh3OCJ4ODrr",
        "outputId": "9d786c21-092f-46cf-95c3-04ca82598ec5"
      },
      "execution_count": 6,
      "outputs": [
        {
          "output_type": "stream",
          "name": "stderr",
          "text": [
            "Downloading https://github.com/ultralytics/assets/releases/download/v8.3.0/yolov8n.pt to 'yolov8n.pt': 100%|██████████| 6.25M/6.25M [00:00<00:00, 48.8MB/s]\n"
          ]
        },
        {
          "output_type": "stream",
          "name": "stdout",
          "text": [
            "Ultralytics 8.3.174 🚀 Python-3.11.13 torch-2.6.0+cu124 CPU (Intel Xeon 2.20GHz)\n",
            "\u001b[34m\u001b[1mengine/trainer: \u001b[0magnostic_nms=False, amp=True, augment=False, auto_augment=randaugment, batch=16, bgr=0.0, box=7.5, cache=False, cfg=None, classes=None, close_mosaic=10, cls=0.5, conf=None, copy_paste=0.0, copy_paste_mode=flip, cos_lr=False, cutmix=0.0, data=helmet_dataset_v2/data.yaml, degrees=0.0, deterministic=True, device=cpu, dfl=1.5, dnn=False, dropout=0.0, dynamic=False, embed=None, epochs=50, erasing=0.4, exist_ok=False, fliplr=0.5, flipud=0.0, format=torchscript, fraction=1.0, freeze=None, half=False, hsv_h=0.015, hsv_s=0.7, hsv_v=0.4, imgsz=640, int8=False, iou=0.7, keras=False, kobj=1.0, line_width=None, lr0=0.01, lrf=0.01, mask_ratio=4, max_det=300, mixup=0.0, mode=train, model=yolov8n.pt, momentum=0.937, mosaic=1.0, multi_scale=False, name=helmet_2class, nbs=64, nms=False, opset=None, optimize=False, optimizer=auto, overlap_mask=True, patience=100, perspective=0.0, plots=True, pose=12.0, pretrained=True, profile=False, project=helmet_detect_v2, rect=False, resume=False, retina_masks=False, save=True, save_conf=False, save_crop=False, save_dir=helmet_detect_v2/helmet_2class, save_frames=False, save_json=False, save_period=-1, save_txt=False, scale=0.5, seed=0, shear=0.0, show=False, show_boxes=True, show_conf=True, show_labels=True, simplify=True, single_cls=False, source=None, split=val, stream_buffer=False, task=detect, time=None, tracker=botsort.yaml, translate=0.1, val=True, verbose=True, vid_stride=1, visualize=False, warmup_bias_lr=0.1, warmup_epochs=3.0, warmup_momentum=0.8, weight_decay=0.0005, workers=8, workspace=None\n"
          ]
        },
        {
          "output_type": "stream",
          "name": "stderr",
          "text": [
            "Downloading https://ultralytics.com/assets/Arial.ttf to '/root/.config/Ultralytics/Arial.ttf': 100%|██████████| 755k/755k [00:00<00:00, 14.7MB/s]"
          ]
        },
        {
          "output_type": "stream",
          "name": "stdout",
          "text": [
            "Overriding model.yaml nc=80 with nc=2\n",
            "\n",
            "                   from  n    params  module                                       arguments                     \n",
            "  0                  -1  1       464  ultralytics.nn.modules.conv.Conv             [3, 16, 3, 2]                 \n",
            "  1                  -1  1      4672  ultralytics.nn.modules.conv.Conv             [16, 32, 3, 2]                \n",
            "  2                  -1  1      7360  ultralytics.nn.modules.block.C2f             [32, 32, 1, True]             \n",
            "  3                  -1  1     18560  ultralytics.nn.modules.conv.Conv             [32, 64, 3, 2]                \n",
            "  4                  -1  2     49664  ultralytics.nn.modules.block.C2f             [64, 64, 2, True]             \n",
            "  5                  -1  1     73984  ultralytics.nn.modules.conv.Conv             [64, 128, 3, 2]               \n",
            "  6                  -1  2    197632  ultralytics.nn.modules.block.C2f             [128, 128, 2, True]           \n",
            "  7                  -1  1    295424  ultralytics.nn.modules.conv.Conv             [128, 256, 3, 2]              \n",
            "  8                  -1  1    460288  ultralytics.nn.modules.block.C2f             [256, 256, 1, True]           \n",
            "  9                  -1  1    164608  ultralytics.nn.modules.block.SPPF            [256, 256, 5]                 \n",
            " 10                  -1  1         0  torch.nn.modules.upsampling.Upsample         [None, 2, 'nearest']          \n",
            " 11             [-1, 6]  1         0  ultralytics.nn.modules.conv.Concat           [1]                           \n",
            " 12                  -1  1    148224  ultralytics.nn.modules.block.C2f             [384, 128, 1]                 \n",
            " 13                  -1  1         0  torch.nn.modules.upsampling.Upsample         [None, 2, 'nearest']          \n",
            " 14             [-1, 4]  1         0  ultralytics.nn.modules.conv.Concat           [1]                           \n",
            " 15                  -1  1     37248  ultralytics.nn.modules.block.C2f             [192, 64, 1]                  \n",
            " 16                  -1  1     36992  ultralytics.nn.modules.conv.Conv             [64, 64, 3, 2]                \n",
            " 17            [-1, 12]  1         0  ultralytics.nn.modules.conv.Concat           [1]                           \n",
            " 18                  -1  1    123648  ultralytics.nn.modules.block.C2f             [192, 128, 1]                 \n",
            " 19                  -1  1    147712  ultralytics.nn.modules.conv.Conv             [128, 128, 3, 2]              \n",
            " 20             [-1, 9]  1         0  ultralytics.nn.modules.conv.Concat           [1]                           \n",
            " 21                  -1  1    493056  ultralytics.nn.modules.block.C2f             [384, 256, 1]                 \n"
          ]
        },
        {
          "output_type": "stream",
          "name": "stderr",
          "text": [
            "\n"
          ]
        },
        {
          "output_type": "stream",
          "name": "stdout",
          "text": [
            " 22        [15, 18, 21]  1    751702  ultralytics.nn.modules.head.Detect           [2, [64, 128, 256]]           \n",
            "Model summary: 129 layers, 3,011,238 parameters, 3,011,222 gradients, 8.2 GFLOPs\n",
            "\n",
            "Transferred 319/355 items from pretrained weights\n",
            "Freezing layer 'model.22.dfl.conv.weight'\n",
            "\u001b[34m\u001b[1mtrain: \u001b[0mFast image access ✅ (ping: 0.0±0.0 ms, read: 2486.9±499.1 MB/s, size: 1047.6 KB)\n"
          ]
        },
        {
          "output_type": "stream",
          "name": "stderr",
          "text": [
            "\u001b[34m\u001b[1mtrain: \u001b[0mScanning /content/helmet_dataset_v2/train/labels... 280 images, 5 backgrounds, 0 corrupt: 100%|██████████| 280/280 [00:00<00:00, 1162.79it/s]"
          ]
        },
        {
          "output_type": "stream",
          "name": "stdout",
          "text": [
            "\u001b[34m\u001b[1mtrain: \u001b[0mNew cache created: /content/helmet_dataset_v2/train/labels.cache\n"
          ]
        },
        {
          "output_type": "stream",
          "name": "stderr",
          "text": [
            "\n"
          ]
        },
        {
          "output_type": "stream",
          "name": "stdout",
          "text": [
            "\u001b[34m\u001b[1malbumentations: \u001b[0mBlur(p=0.01, blur_limit=(3, 7)), MedianBlur(p=0.01, blur_limit=(3, 7)), ToGray(p=0.01, method='weighted_average', num_output_channels=3), CLAHE(p=0.01, clip_limit=(1.0, 4.0), tile_grid_size=(8, 8))\n",
            "\u001b[34m\u001b[1mval: \u001b[0mFast image access ✅ (ping: 0.0±0.0 ms, read: 1668.8±834.8 MB/s, size: 372.6 KB)\n"
          ]
        },
        {
          "output_type": "stream",
          "name": "stderr",
          "text": [
            "\u001b[34m\u001b[1mval: \u001b[0mScanning /content/helmet_dataset_v2/valid/labels... 80 images, 0 backgrounds, 0 corrupt: 100%|██████████| 80/80 [00:00<00:00, 1743.70it/s]"
          ]
        },
        {
          "output_type": "stream",
          "name": "stdout",
          "text": [
            "\u001b[34m\u001b[1mval: \u001b[0mNew cache created: /content/helmet_dataset_v2/valid/labels.cache\n"
          ]
        },
        {
          "output_type": "stream",
          "name": "stderr",
          "text": [
            "\n"
          ]
        },
        {
          "output_type": "stream",
          "name": "stdout",
          "text": [
            "Plotting labels to helmet_detect_v2/helmet_2class/labels.jpg... \n",
            "\u001b[34m\u001b[1moptimizer:\u001b[0m 'optimizer=auto' found, ignoring 'lr0=0.01' and 'momentum=0.937' and determining best 'optimizer', 'lr0' and 'momentum' automatically... \n",
            "\u001b[34m\u001b[1moptimizer:\u001b[0m AdamW(lr=0.001667, momentum=0.9) with parameter groups 57 weight(decay=0.0), 64 weight(decay=0.0005), 63 bias(decay=0.0)\n",
            "Image sizes 640 train, 640 val\n",
            "Using 0 dataloader workers\n",
            "Logging results to \u001b[1mhelmet_detect_v2/helmet_2class\u001b[0m\n",
            "Starting training for 50 epochs...\n",
            "\n",
            "      Epoch    GPU_mem   box_loss   cls_loss   dfl_loss  Instances       Size\n"
          ]
        },
        {
          "output_type": "stream",
          "name": "stderr",
          "text": [
            "       1/50         0G     0.9293      3.307      1.121         17        640: 100%|██████████| 18/18 [04:19<00:00, 14.41s/it]\n",
            "                 Class     Images  Instances      Box(P          R      mAP50  mAP50-95): 100%|██████████| 3/3 [00:25<00:00,  8.54s/it]"
          ]
        },
        {
          "output_type": "stream",
          "name": "stdout",
          "text": [
            "                   all         80         95    0.00389      0.977      0.322      0.255\n"
          ]
        },
        {
          "output_type": "stream",
          "name": "stderr",
          "text": [
            "\n"
          ]
        },
        {
          "output_type": "stream",
          "name": "stdout",
          "text": [
            "\n",
            "      Epoch    GPU_mem   box_loss   cls_loss   dfl_loss  Instances       Size\n"
          ]
        },
        {
          "output_type": "stream",
          "name": "stderr",
          "text": [
            "       2/50         0G     0.8146      1.958      1.003         14        640: 100%|██████████| 18/18 [04:03<00:00, 13.55s/it]\n",
            "                 Class     Images  Instances      Box(P          R      mAP50  mAP50-95): 100%|██████████| 3/3 [00:25<00:00,  8.63s/it]"
          ]
        },
        {
          "output_type": "stream",
          "name": "stdout",
          "text": [
            "                   all         80         95          1      0.041      0.428      0.331\n"
          ]
        },
        {
          "output_type": "stream",
          "name": "stderr",
          "text": [
            "\n"
          ]
        },
        {
          "output_type": "stream",
          "name": "stdout",
          "text": [
            "\n",
            "      Epoch    GPU_mem   box_loss   cls_loss   dfl_loss  Instances       Size\n"
          ]
        },
        {
          "output_type": "stream",
          "name": "stderr",
          "text": [
            "       3/50         0G     0.8622      1.757      1.021         20        640: 100%|██████████| 18/18 [04:07<00:00, 13.76s/it]\n",
            "                 Class     Images  Instances      Box(P          R      mAP50  mAP50-95): 100%|██████████| 3/3 [00:25<00:00,  8.36s/it]"
          ]
        },
        {
          "output_type": "stream",
          "name": "stdout",
          "text": [
            "                   all         80         95      0.879      0.314      0.658      0.503\n"
          ]
        },
        {
          "output_type": "stream",
          "name": "stderr",
          "text": [
            "\n"
          ]
        },
        {
          "output_type": "stream",
          "name": "stdout",
          "text": [
            "\n",
            "      Epoch    GPU_mem   box_loss   cls_loss   dfl_loss  Instances       Size\n"
          ]
        },
        {
          "output_type": "stream",
          "name": "stderr",
          "text": [
            "       4/50         0G     0.9028      1.637       1.05         20        640: 100%|██████████| 18/18 [04:03<00:00, 13.51s/it]\n",
            "                 Class     Images  Instances      Box(P          R      mAP50  mAP50-95): 100%|██████████| 3/3 [00:25<00:00,  8.41s/it]"
          ]
        },
        {
          "output_type": "stream",
          "name": "stdout",
          "text": [
            "                   all         80         95      0.786      0.469      0.721      0.516\n"
          ]
        },
        {
          "output_type": "stream",
          "name": "stderr",
          "text": [
            "\n"
          ]
        },
        {
          "output_type": "stream",
          "name": "stdout",
          "text": [
            "\n",
            "      Epoch    GPU_mem   box_loss   cls_loss   dfl_loss  Instances       Size\n"
          ]
        },
        {
          "output_type": "stream",
          "name": "stderr",
          "text": [
            "       5/50         0G      0.842      1.472      1.013         14        640: 100%|██████████| 18/18 [04:07<00:00, 13.73s/it]\n",
            "                 Class     Images  Instances      Box(P          R      mAP50  mAP50-95): 100%|██████████| 3/3 [00:25<00:00,  8.34s/it]"
          ]
        },
        {
          "output_type": "stream",
          "name": "stdout",
          "text": [
            "                   all         80         95       0.61      0.683      0.716      0.509\n"
          ]
        },
        {
          "output_type": "stream",
          "name": "stderr",
          "text": [
            "\n"
          ]
        },
        {
          "output_type": "stream",
          "name": "stdout",
          "text": [
            "\n",
            "      Epoch    GPU_mem   box_loss   cls_loss   dfl_loss  Instances       Size\n"
          ]
        },
        {
          "output_type": "stream",
          "name": "stderr",
          "text": [
            "       6/50         0G     0.9225      1.531      1.077         15        640: 100%|██████████| 18/18 [04:03<00:00, 13.55s/it]\n",
            "                 Class     Images  Instances      Box(P          R      mAP50  mAP50-95): 100%|██████████| 3/3 [00:24<00:00,  8.33s/it]"
          ]
        },
        {
          "output_type": "stream",
          "name": "stdout",
          "text": [
            "                   all         80         95      0.918      0.373      0.565      0.388\n"
          ]
        },
        {
          "output_type": "stream",
          "name": "stderr",
          "text": [
            "\n"
          ]
        },
        {
          "output_type": "stream",
          "name": "stdout",
          "text": [
            "\n",
            "      Epoch    GPU_mem   box_loss   cls_loss   dfl_loss  Instances       Size\n"
          ]
        },
        {
          "output_type": "stream",
          "name": "stderr",
          "text": [
            "       7/50         0G     0.8994      1.457      1.057         12        640: 100%|██████████| 18/18 [04:02<00:00, 13.47s/it]\n",
            "                 Class     Images  Instances      Box(P          R      mAP50  mAP50-95): 100%|██████████| 3/3 [00:24<00:00,  8.08s/it]"
          ]
        },
        {
          "output_type": "stream",
          "name": "stdout",
          "text": [
            "                   all         80         95      0.678       0.68       0.74      0.521\n"
          ]
        },
        {
          "output_type": "stream",
          "name": "stderr",
          "text": [
            "\n"
          ]
        },
        {
          "output_type": "stream",
          "name": "stdout",
          "text": [
            "\n",
            "      Epoch    GPU_mem   box_loss   cls_loss   dfl_loss  Instances       Size\n"
          ]
        },
        {
          "output_type": "stream",
          "name": "stderr",
          "text": [
            "       8/50         0G     0.8827      1.314      1.037         16        640: 100%|██████████| 18/18 [04:05<00:00, 13.62s/it]\n",
            "                 Class     Images  Instances      Box(P          R      mAP50  mAP50-95): 100%|██████████| 3/3 [00:24<00:00,  8.02s/it]"
          ]
        },
        {
          "output_type": "stream",
          "name": "stdout",
          "text": [
            "                   all         80         95      0.718      0.717       0.81      0.575\n"
          ]
        },
        {
          "output_type": "stream",
          "name": "stderr",
          "text": [
            "\n"
          ]
        },
        {
          "output_type": "stream",
          "name": "stdout",
          "text": [
            "\n",
            "      Epoch    GPU_mem   box_loss   cls_loss   dfl_loss  Instances       Size\n"
          ]
        },
        {
          "output_type": "stream",
          "name": "stderr",
          "text": [
            "       9/50         0G     0.8441      1.264       1.02         13        640: 100%|██████████| 18/18 [04:01<00:00, 13.41s/it]\n",
            "                 Class     Images  Instances      Box(P          R      mAP50  mAP50-95): 100%|██████████| 3/3 [00:23<00:00,  7.83s/it]"
          ]
        },
        {
          "output_type": "stream",
          "name": "stdout",
          "text": [
            "                   all         80         95      0.746      0.618      0.811      0.599\n"
          ]
        },
        {
          "output_type": "stream",
          "name": "stderr",
          "text": [
            "\n"
          ]
        },
        {
          "output_type": "stream",
          "name": "stdout",
          "text": [
            "\n",
            "      Epoch    GPU_mem   box_loss   cls_loss   dfl_loss  Instances       Size\n"
          ]
        },
        {
          "output_type": "stream",
          "name": "stderr",
          "text": [
            "      10/50         0G     0.8558      1.227      1.031         22        640: 100%|██████████| 18/18 [04:01<00:00, 13.43s/it]\n",
            "                 Class     Images  Instances      Box(P          R      mAP50  mAP50-95): 100%|██████████| 3/3 [00:23<00:00,  7.89s/it]"
          ]
        },
        {
          "output_type": "stream",
          "name": "stdout",
          "text": [
            "                   all         80         95      0.817      0.652        0.8      0.606\n"
          ]
        },
        {
          "output_type": "stream",
          "name": "stderr",
          "text": [
            "\n"
          ]
        },
        {
          "output_type": "stream",
          "name": "stdout",
          "text": [
            "\n",
            "      Epoch    GPU_mem   box_loss   cls_loss   dfl_loss  Instances       Size\n"
          ]
        },
        {
          "output_type": "stream",
          "name": "stderr",
          "text": [
            "      11/50         0G      0.824      1.137      1.018         27        640: 100%|██████████| 18/18 [04:02<00:00, 13.49s/it]\n",
            "                 Class     Images  Instances      Box(P          R      mAP50  mAP50-95): 100%|██████████| 3/3 [00:23<00:00,  7.91s/it]"
          ]
        },
        {
          "output_type": "stream",
          "name": "stdout",
          "text": [
            "                   all         80         95      0.877      0.692      0.846      0.661\n"
          ]
        },
        {
          "output_type": "stream",
          "name": "stderr",
          "text": [
            "\n"
          ]
        },
        {
          "output_type": "stream",
          "name": "stdout",
          "text": [
            "\n",
            "      Epoch    GPU_mem   box_loss   cls_loss   dfl_loss  Instances       Size\n"
          ]
        },
        {
          "output_type": "stream",
          "name": "stderr",
          "text": [
            "      12/50         0G     0.7724      1.062      1.002         14        640: 100%|██████████| 18/18 [04:00<00:00, 13.35s/it]\n",
            "                 Class     Images  Instances      Box(P          R      mAP50  mAP50-95): 100%|██████████| 3/3 [00:24<00:00,  8.18s/it]"
          ]
        },
        {
          "output_type": "stream",
          "name": "stdout",
          "text": [
            "                   all         80         95      0.803      0.779      0.848      0.676\n"
          ]
        },
        {
          "output_type": "stream",
          "name": "stderr",
          "text": [
            "\n"
          ]
        },
        {
          "output_type": "stream",
          "name": "stdout",
          "text": [
            "\n",
            "      Epoch    GPU_mem   box_loss   cls_loss   dfl_loss  Instances       Size\n"
          ]
        },
        {
          "output_type": "stream",
          "name": "stderr",
          "text": [
            "      13/50         0G     0.8097      1.025     0.9983         16        640: 100%|██████████| 18/18 [03:57<00:00, 13.21s/it]\n",
            "                 Class     Images  Instances      Box(P          R      mAP50  mAP50-95): 100%|██████████| 3/3 [00:23<00:00,  7.83s/it]"
          ]
        },
        {
          "output_type": "stream",
          "name": "stdout",
          "text": [
            "                   all         80         95      0.898       0.75      0.844      0.661\n"
          ]
        },
        {
          "output_type": "stream",
          "name": "stderr",
          "text": [
            "\n"
          ]
        },
        {
          "output_type": "stream",
          "name": "stdout",
          "text": [
            "\n",
            "      Epoch    GPU_mem   box_loss   cls_loss   dfl_loss  Instances       Size\n"
          ]
        },
        {
          "output_type": "stream",
          "name": "stderr",
          "text": [
            "      14/50         0G     0.7473      1.004     0.9758         18        640: 100%|██████████| 18/18 [03:59<00:00, 13.29s/it]\n",
            "                 Class     Images  Instances      Box(P          R      mAP50  mAP50-95): 100%|██████████| 3/3 [00:23<00:00,  7.90s/it]"
          ]
        },
        {
          "output_type": "stream",
          "name": "stdout",
          "text": [
            "                   all         80         95      0.921       0.76      0.862      0.676\n"
          ]
        },
        {
          "output_type": "stream",
          "name": "stderr",
          "text": [
            "\n"
          ]
        },
        {
          "output_type": "stream",
          "name": "stdout",
          "text": [
            "\n",
            "      Epoch    GPU_mem   box_loss   cls_loss   dfl_loss  Instances       Size\n"
          ]
        },
        {
          "output_type": "stream",
          "name": "stderr",
          "text": [
            "      15/50         0G     0.7484     0.9522     0.9886         13        640: 100%|██████████| 18/18 [03:58<00:00, 13.22s/it]\n",
            "                 Class     Images  Instances      Box(P          R      mAP50  mAP50-95): 100%|██████████| 3/3 [00:24<00:00,  8.19s/it]"
          ]
        },
        {
          "output_type": "stream",
          "name": "stdout",
          "text": [
            "                   all         80         95      0.915      0.804      0.859      0.674\n"
          ]
        },
        {
          "output_type": "stream",
          "name": "stderr",
          "text": [
            "\n"
          ]
        },
        {
          "output_type": "stream",
          "name": "stdout",
          "text": [
            "\n",
            "      Epoch    GPU_mem   box_loss   cls_loss   dfl_loss  Instances       Size\n"
          ]
        },
        {
          "output_type": "stream",
          "name": "stderr",
          "text": [
            "      16/50         0G     0.7604     0.9046     0.9695         16        640: 100%|██████████| 18/18 [03:58<00:00, 13.26s/it]\n",
            "                 Class     Images  Instances      Box(P          R      mAP50  mAP50-95): 100%|██████████| 3/3 [00:23<00:00,  7.92s/it]"
          ]
        },
        {
          "output_type": "stream",
          "name": "stdout",
          "text": [
            "                   all         80         95      0.904      0.812      0.882      0.695\n"
          ]
        },
        {
          "output_type": "stream",
          "name": "stderr",
          "text": [
            "\n"
          ]
        },
        {
          "output_type": "stream",
          "name": "stdout",
          "text": [
            "\n",
            "      Epoch    GPU_mem   box_loss   cls_loss   dfl_loss  Instances       Size\n"
          ]
        },
        {
          "output_type": "stream",
          "name": "stderr",
          "text": [
            "      17/50         0G     0.7527     0.9212     0.9822         17        640: 100%|██████████| 18/18 [03:58<00:00, 13.24s/it]\n",
            "                 Class     Images  Instances      Box(P          R      mAP50  mAP50-95): 100%|██████████| 3/3 [00:23<00:00,  7.83s/it]"
          ]
        },
        {
          "output_type": "stream",
          "name": "stdout",
          "text": [
            "                   all         80         95      0.886      0.798      0.894        0.7\n"
          ]
        },
        {
          "output_type": "stream",
          "name": "stderr",
          "text": [
            "\n"
          ]
        },
        {
          "output_type": "stream",
          "name": "stdout",
          "text": [
            "\n",
            "      Epoch    GPU_mem   box_loss   cls_loss   dfl_loss  Instances       Size\n"
          ]
        },
        {
          "output_type": "stream",
          "name": "stderr",
          "text": [
            "      18/50         0G     0.7543     0.8826     0.9786         15        640: 100%|██████████| 18/18 [04:04<00:00, 13.58s/it]\n",
            "                 Class     Images  Instances      Box(P          R      mAP50  mAP50-95): 100%|██████████| 3/3 [00:24<00:00,  8.24s/it]"
          ]
        },
        {
          "output_type": "stream",
          "name": "stdout",
          "text": [
            "                   all         80         95      0.902      0.854      0.894      0.712\n"
          ]
        },
        {
          "output_type": "stream",
          "name": "stderr",
          "text": [
            "\n"
          ]
        },
        {
          "output_type": "stream",
          "name": "stdout",
          "text": [
            "\n",
            "      Epoch    GPU_mem   box_loss   cls_loss   dfl_loss  Instances       Size\n"
          ]
        },
        {
          "output_type": "stream",
          "name": "stderr",
          "text": [
            "      19/50         0G     0.6955     0.8064     0.9583         28        640: 100%|██████████| 18/18 [03:58<00:00, 13.23s/it]\n",
            "                 Class     Images  Instances      Box(P          R      mAP50  mAP50-95): 100%|██████████| 3/3 [00:23<00:00,  7.89s/it]"
          ]
        },
        {
          "output_type": "stream",
          "name": "stdout",
          "text": [
            "                   all         80         95       0.92      0.855      0.922      0.695\n"
          ]
        },
        {
          "output_type": "stream",
          "name": "stderr",
          "text": [
            "\n"
          ]
        },
        {
          "output_type": "stream",
          "name": "stdout",
          "text": [
            "\n",
            "      Epoch    GPU_mem   box_loss   cls_loss   dfl_loss  Instances       Size\n"
          ]
        },
        {
          "output_type": "stream",
          "name": "stderr",
          "text": [
            "      20/50         0G      0.688     0.8007     0.9711         17        640: 100%|██████████| 18/18 [03:56<00:00, 13.16s/it]\n",
            "                 Class     Images  Instances      Box(P          R      mAP50  mAP50-95): 100%|██████████| 3/3 [00:22<00:00,  7.47s/it]"
          ]
        },
        {
          "output_type": "stream",
          "name": "stdout",
          "text": [
            "                   all         80         95      0.908      0.919      0.934      0.732\n"
          ]
        },
        {
          "output_type": "stream",
          "name": "stderr",
          "text": [
            "\n"
          ]
        },
        {
          "output_type": "stream",
          "name": "stdout",
          "text": [
            "\n",
            "      Epoch    GPU_mem   box_loss   cls_loss   dfl_loss  Instances       Size\n"
          ]
        },
        {
          "output_type": "stream",
          "name": "stderr",
          "text": [
            "      21/50         0G     0.6842     0.7261     0.9375         15        640: 100%|██████████| 18/18 [03:54<00:00, 13.03s/it]\n",
            "                 Class     Images  Instances      Box(P          R      mAP50  mAP50-95): 100%|██████████| 3/3 [00:23<00:00,  7.90s/it]"
          ]
        },
        {
          "output_type": "stream",
          "name": "stdout",
          "text": [
            "                   all         80         95      0.899      0.907      0.931       0.73\n"
          ]
        },
        {
          "output_type": "stream",
          "name": "stderr",
          "text": [
            "\n"
          ]
        },
        {
          "output_type": "stream",
          "name": "stdout",
          "text": [
            "\n",
            "      Epoch    GPU_mem   box_loss   cls_loss   dfl_loss  Instances       Size\n"
          ]
        },
        {
          "output_type": "stream",
          "name": "stderr",
          "text": [
            "      22/50         0G      0.697     0.7455     0.9294         16        640: 100%|██████████| 18/18 [03:56<00:00, 13.13s/it]\n",
            "                 Class     Images  Instances      Box(P          R      mAP50  mAP50-95): 100%|██████████| 3/3 [00:24<00:00,  8.23s/it]"
          ]
        },
        {
          "output_type": "stream",
          "name": "stdout",
          "text": [
            "                   all         80         95      0.938      0.897      0.929      0.734\n"
          ]
        },
        {
          "output_type": "stream",
          "name": "stderr",
          "text": [
            "\n"
          ]
        },
        {
          "output_type": "stream",
          "name": "stdout",
          "text": [
            "\n",
            "      Epoch    GPU_mem   box_loss   cls_loss   dfl_loss  Instances       Size\n"
          ]
        },
        {
          "output_type": "stream",
          "name": "stderr",
          "text": [
            "      23/50         0G     0.6807     0.7285     0.9614         13        640: 100%|██████████| 18/18 [03:57<00:00, 13.20s/it]\n",
            "                 Class     Images  Instances      Box(P          R      mAP50  mAP50-95): 100%|██████████| 3/3 [00:23<00:00,  7.92s/it]"
          ]
        },
        {
          "output_type": "stream",
          "name": "stdout",
          "text": [
            "                   all         80         95      0.963      0.828      0.931      0.746\n"
          ]
        },
        {
          "output_type": "stream",
          "name": "stderr",
          "text": [
            "\n"
          ]
        },
        {
          "output_type": "stream",
          "name": "stdout",
          "text": [
            "\n",
            "      Epoch    GPU_mem   box_loss   cls_loss   dfl_loss  Instances       Size\n"
          ]
        },
        {
          "output_type": "stream",
          "name": "stderr",
          "text": [
            "      24/50         0G     0.6975     0.7405     0.9684         19        640: 100%|██████████| 18/18 [03:57<00:00, 13.18s/it]\n",
            "                 Class     Images  Instances      Box(P          R      mAP50  mAP50-95): 100%|██████████| 3/3 [00:24<00:00,  8.01s/it]"
          ]
        },
        {
          "output_type": "stream",
          "name": "stdout",
          "text": [
            "                   all         80         95      0.915      0.876       0.93      0.722\n"
          ]
        },
        {
          "output_type": "stream",
          "name": "stderr",
          "text": [
            "\n"
          ]
        },
        {
          "output_type": "stream",
          "name": "stdout",
          "text": [
            "\n",
            "      Epoch    GPU_mem   box_loss   cls_loss   dfl_loss  Instances       Size\n"
          ]
        },
        {
          "output_type": "stream",
          "name": "stderr",
          "text": [
            "      25/50         0G     0.6753     0.6957     0.9533         14        640: 100%|██████████| 18/18 [03:57<00:00, 13.19s/it]\n",
            "                 Class     Images  Instances      Box(P          R      mAP50  mAP50-95): 100%|██████████| 3/3 [00:23<00:00,  7.85s/it]"
          ]
        },
        {
          "output_type": "stream",
          "name": "stdout",
          "text": [
            "                   all         80         95      0.912      0.855      0.915      0.732\n"
          ]
        },
        {
          "output_type": "stream",
          "name": "stderr",
          "text": [
            "\n"
          ]
        },
        {
          "output_type": "stream",
          "name": "stdout",
          "text": [
            "\n",
            "      Epoch    GPU_mem   box_loss   cls_loss   dfl_loss  Instances       Size\n"
          ]
        },
        {
          "output_type": "stream",
          "name": "stderr",
          "text": [
            "      26/50         0G     0.6139     0.6651     0.9445         12        640: 100%|██████████| 18/18 [03:58<00:00, 13.22s/it]\n",
            "                 Class     Images  Instances      Box(P          R      mAP50  mAP50-95): 100%|██████████| 3/3 [00:24<00:00,  8.11s/it]"
          ]
        },
        {
          "output_type": "stream",
          "name": "stdout",
          "text": [
            "                   all         80         95      0.933      0.871      0.955      0.765\n"
          ]
        },
        {
          "output_type": "stream",
          "name": "stderr",
          "text": [
            "\n"
          ]
        },
        {
          "output_type": "stream",
          "name": "stdout",
          "text": [
            "\n",
            "      Epoch    GPU_mem   box_loss   cls_loss   dfl_loss  Instances       Size\n"
          ]
        },
        {
          "output_type": "stream",
          "name": "stderr",
          "text": [
            "      27/50         0G     0.6283     0.6352     0.9399         20        640: 100%|██████████| 18/18 [03:56<00:00, 13.14s/it]\n",
            "                 Class     Images  Instances      Box(P          R      mAP50  mAP50-95): 100%|██████████| 3/3 [00:23<00:00,  7.79s/it]"
          ]
        },
        {
          "output_type": "stream",
          "name": "stdout",
          "text": [
            "                   all         80         95      0.915      0.881      0.964      0.779\n"
          ]
        },
        {
          "output_type": "stream",
          "name": "stderr",
          "text": [
            "\n"
          ]
        },
        {
          "output_type": "stream",
          "name": "stdout",
          "text": [
            "\n",
            "      Epoch    GPU_mem   box_loss   cls_loss   dfl_loss  Instances       Size\n"
          ]
        },
        {
          "output_type": "stream",
          "name": "stderr",
          "text": [
            "      28/50         0G     0.6349     0.6347     0.9417         17        640: 100%|██████████| 18/18 [03:57<00:00, 13.22s/it]\n",
            "                 Class     Images  Instances      Box(P          R      mAP50  mAP50-95): 100%|██████████| 3/3 [00:24<00:00,  8.07s/it]"
          ]
        },
        {
          "output_type": "stream",
          "name": "stdout",
          "text": [
            "                   all         80         95      0.949       0.85      0.921      0.769\n"
          ]
        },
        {
          "output_type": "stream",
          "name": "stderr",
          "text": [
            "\n"
          ]
        },
        {
          "output_type": "stream",
          "name": "stdout",
          "text": [
            "\n",
            "      Epoch    GPU_mem   box_loss   cls_loss   dfl_loss  Instances       Size\n"
          ]
        },
        {
          "output_type": "stream",
          "name": "stderr",
          "text": [
            "      29/50         0G     0.6228     0.6239     0.9217         28        640: 100%|██████████| 18/18 [03:59<00:00, 13.31s/it]\n",
            "                 Class     Images  Instances      Box(P          R      mAP50  mAP50-95): 100%|██████████| 3/3 [00:24<00:00,  8.05s/it]"
          ]
        },
        {
          "output_type": "stream",
          "name": "stdout",
          "text": [
            "                   all         80         95      0.955      0.866      0.952      0.784\n"
          ]
        },
        {
          "output_type": "stream",
          "name": "stderr",
          "text": [
            "\n"
          ]
        },
        {
          "output_type": "stream",
          "name": "stdout",
          "text": [
            "\n",
            "      Epoch    GPU_mem   box_loss   cls_loss   dfl_loss  Instances       Size\n"
          ]
        },
        {
          "output_type": "stream",
          "name": "stderr",
          "text": [
            "      30/50         0G     0.5803      0.617     0.9222         18        640: 100%|██████████| 18/18 [03:55<00:00, 13.08s/it]\n",
            "                 Class     Images  Instances      Box(P          R      mAP50  mAP50-95): 100%|██████████| 3/3 [00:23<00:00,  7.82s/it]"
          ]
        },
        {
          "output_type": "stream",
          "name": "stdout",
          "text": [
            "                   all         80         95      0.977      0.902      0.965      0.798\n"
          ]
        },
        {
          "output_type": "stream",
          "name": "stderr",
          "text": [
            "\n"
          ]
        },
        {
          "output_type": "stream",
          "name": "stdout",
          "text": [
            "\n",
            "      Epoch    GPU_mem   box_loss   cls_loss   dfl_loss  Instances       Size\n"
          ]
        },
        {
          "output_type": "stream",
          "name": "stderr",
          "text": [
            "      31/50         0G     0.6006     0.6093     0.9357         23        640: 100%|██████████| 18/18 [03:57<00:00, 13.22s/it]\n",
            "                 Class     Images  Instances      Box(P          R      mAP50  mAP50-95): 100%|██████████| 3/3 [00:23<00:00,  7.78s/it]"
          ]
        },
        {
          "output_type": "stream",
          "name": "stdout",
          "text": [
            "                   all         80         95      0.962      0.805      0.953      0.764\n"
          ]
        },
        {
          "output_type": "stream",
          "name": "stderr",
          "text": [
            "\n"
          ]
        },
        {
          "output_type": "stream",
          "name": "stdout",
          "text": [
            "\n",
            "      Epoch    GPU_mem   box_loss   cls_loss   dfl_loss  Instances       Size\n"
          ]
        },
        {
          "output_type": "stream",
          "name": "stderr",
          "text": [
            "      32/50         0G     0.6113     0.5746     0.9341         22        640: 100%|██████████| 18/18 [04:01<00:00, 13.40s/it]\n",
            "                 Class     Images  Instances      Box(P          R      mAP50  mAP50-95): 100%|██████████| 3/3 [00:24<00:00,  8.32s/it]"
          ]
        },
        {
          "output_type": "stream",
          "name": "stdout",
          "text": [
            "                   all         80         95       0.92      0.808      0.938      0.755\n"
          ]
        },
        {
          "output_type": "stream",
          "name": "stderr",
          "text": [
            "\n"
          ]
        },
        {
          "output_type": "stream",
          "name": "stdout",
          "text": [
            "\n",
            "      Epoch    GPU_mem   box_loss   cls_loss   dfl_loss  Instances       Size\n"
          ]
        },
        {
          "output_type": "stream",
          "name": "stderr",
          "text": [
            "      33/50         0G     0.5524     0.5682     0.9059         13        640: 100%|██████████| 18/18 [03:57<00:00, 13.19s/it]\n",
            "                 Class     Images  Instances      Box(P          R      mAP50  mAP50-95): 100%|██████████| 3/3 [00:23<00:00,  7.88s/it]"
          ]
        },
        {
          "output_type": "stream",
          "name": "stdout",
          "text": [
            "                   all         80         95      0.917      0.924      0.954      0.779\n"
          ]
        },
        {
          "output_type": "stream",
          "name": "stderr",
          "text": [
            "\n"
          ]
        },
        {
          "output_type": "stream",
          "name": "stdout",
          "text": [
            "\n",
            "      Epoch    GPU_mem   box_loss   cls_loss   dfl_loss  Instances       Size\n"
          ]
        },
        {
          "output_type": "stream",
          "name": "stderr",
          "text": [
            "      34/50         0G     0.5695     0.5499     0.9011         15        640: 100%|██████████| 18/18 [04:01<00:00, 13.40s/it]\n",
            "                 Class     Images  Instances      Box(P          R      mAP50  mAP50-95): 100%|██████████| 3/3 [00:22<00:00,  7.65s/it]"
          ]
        },
        {
          "output_type": "stream",
          "name": "stdout",
          "text": [
            "                   all         80         95      0.971      0.841      0.937       0.78\n"
          ]
        },
        {
          "output_type": "stream",
          "name": "stderr",
          "text": [
            "\n"
          ]
        },
        {
          "output_type": "stream",
          "name": "stdout",
          "text": [
            "\n",
            "      Epoch    GPU_mem   box_loss   cls_loss   dfl_loss  Instances       Size\n"
          ]
        },
        {
          "output_type": "stream",
          "name": "stderr",
          "text": [
            "      35/50         0G     0.5652     0.5379     0.9072         18        640: 100%|██████████| 18/18 [03:59<00:00, 13.31s/it]\n",
            "                 Class     Images  Instances      Box(P          R      mAP50  mAP50-95): 100%|██████████| 3/3 [00:23<00:00,  7.86s/it]"
          ]
        },
        {
          "output_type": "stream",
          "name": "stdout",
          "text": [
            "                   all         80         95      0.918      0.917      0.949       0.79\n"
          ]
        },
        {
          "output_type": "stream",
          "name": "stderr",
          "text": [
            "\n"
          ]
        },
        {
          "output_type": "stream",
          "name": "stdout",
          "text": [
            "\n",
            "      Epoch    GPU_mem   box_loss   cls_loss   dfl_loss  Instances       Size\n"
          ]
        },
        {
          "output_type": "stream",
          "name": "stderr",
          "text": [
            "      36/50         0G     0.5458     0.5318     0.9226          9        640: 100%|██████████| 18/18 [03:58<00:00, 13.23s/it]\n",
            "                 Class     Images  Instances      Box(P          R      mAP50  mAP50-95): 100%|██████████| 3/3 [00:24<00:00,  8.09s/it]"
          ]
        },
        {
          "output_type": "stream",
          "name": "stdout",
          "text": [
            "                   all         80         95      0.946      0.904      0.956      0.801\n"
          ]
        },
        {
          "output_type": "stream",
          "name": "stderr",
          "text": [
            "\n"
          ]
        },
        {
          "output_type": "stream",
          "name": "stdout",
          "text": [
            "\n",
            "      Epoch    GPU_mem   box_loss   cls_loss   dfl_loss  Instances       Size\n"
          ]
        },
        {
          "output_type": "stream",
          "name": "stderr",
          "text": [
            "      37/50         0G     0.5338     0.5214      0.911         20        640: 100%|██████████| 18/18 [03:58<00:00, 13.28s/it]\n",
            "                 Class     Images  Instances      Box(P          R      mAP50  mAP50-95): 100%|██████████| 3/3 [00:24<00:00,  8.11s/it]"
          ]
        },
        {
          "output_type": "stream",
          "name": "stdout",
          "text": [
            "                   all         80         95      0.949      0.907      0.942      0.801\n"
          ]
        },
        {
          "output_type": "stream",
          "name": "stderr",
          "text": [
            "\n"
          ]
        },
        {
          "output_type": "stream",
          "name": "stdout",
          "text": [
            "\n",
            "      Epoch    GPU_mem   box_loss   cls_loss   dfl_loss  Instances       Size\n"
          ]
        },
        {
          "output_type": "stream",
          "name": "stderr",
          "text": [
            "      38/50         0G     0.5237     0.4954     0.8845         12        640: 100%|██████████| 18/18 [03:58<00:00, 13.26s/it]\n",
            "                 Class     Images  Instances      Box(P          R      mAP50  mAP50-95): 100%|██████████| 3/3 [00:23<00:00,  7.92s/it]"
          ]
        },
        {
          "output_type": "stream",
          "name": "stdout",
          "text": [
            "                   all         80         95      0.946      0.889      0.942      0.792\n"
          ]
        },
        {
          "output_type": "stream",
          "name": "stderr",
          "text": [
            "\n"
          ]
        },
        {
          "output_type": "stream",
          "name": "stdout",
          "text": [
            "\n",
            "      Epoch    GPU_mem   box_loss   cls_loss   dfl_loss  Instances       Size\n"
          ]
        },
        {
          "output_type": "stream",
          "name": "stderr",
          "text": [
            "      39/50         0G     0.5433     0.5008     0.9064         19        640: 100%|██████████| 18/18 [03:58<00:00, 13.22s/it]\n",
            "                 Class     Images  Instances      Box(P          R      mAP50  mAP50-95): 100%|██████████| 3/3 [00:23<00:00,  7.93s/it]"
          ]
        },
        {
          "output_type": "stream",
          "name": "stdout",
          "text": [
            "                   all         80         95       0.96      0.924      0.959      0.816\n"
          ]
        },
        {
          "output_type": "stream",
          "name": "stderr",
          "text": [
            "\n"
          ]
        },
        {
          "output_type": "stream",
          "name": "stdout",
          "text": [
            "\n",
            "      Epoch    GPU_mem   box_loss   cls_loss   dfl_loss  Instances       Size\n"
          ]
        },
        {
          "output_type": "stream",
          "name": "stderr",
          "text": [
            "      40/50         0G     0.5087     0.4683     0.8882         17        640: 100%|██████████| 18/18 [03:57<00:00, 13.21s/it]\n",
            "                 Class     Images  Instances      Box(P          R      mAP50  mAP50-95): 100%|██████████| 3/3 [00:24<00:00,  8.11s/it]"
          ]
        },
        {
          "output_type": "stream",
          "name": "stdout",
          "text": [
            "                   all         80         95      0.964      0.924      0.957      0.816\n"
          ]
        },
        {
          "output_type": "stream",
          "name": "stderr",
          "text": [
            "\n"
          ]
        },
        {
          "output_type": "stream",
          "name": "stdout",
          "text": [
            "Closing dataloader mosaic\n",
            "\u001b[34m\u001b[1malbumentations: \u001b[0mBlur(p=0.01, blur_limit=(3, 7)), MedianBlur(p=0.01, blur_limit=(3, 7)), ToGray(p=0.01, method='weighted_average', num_output_channels=3), CLAHE(p=0.01, clip_limit=(1.0, 4.0), tile_grid_size=(8, 8))\n",
            "\n",
            "      Epoch    GPU_mem   box_loss   cls_loss   dfl_loss  Instances       Size\n"
          ]
        },
        {
          "output_type": "stream",
          "name": "stderr",
          "text": [
            "      41/50         0G     0.4571     0.4599     0.8514          9        640: 100%|██████████| 18/18 [03:58<00:00, 13.27s/it]\n",
            "                 Class     Images  Instances      Box(P          R      mAP50  mAP50-95): 100%|██████████| 3/3 [00:21<00:00,  7.29s/it]"
          ]
        },
        {
          "output_type": "stream",
          "name": "stdout",
          "text": [
            "                   all         80         95      0.953      0.925      0.956      0.823\n"
          ]
        },
        {
          "output_type": "stream",
          "name": "stderr",
          "text": [
            "\n"
          ]
        },
        {
          "output_type": "stream",
          "name": "stdout",
          "text": [
            "\n",
            "      Epoch    GPU_mem   box_loss   cls_loss   dfl_loss  Instances       Size\n"
          ]
        },
        {
          "output_type": "stream",
          "name": "stderr",
          "text": [
            "      42/50         0G     0.4527     0.4591     0.8676          8        640: 100%|██████████| 18/18 [03:58<00:00, 13.27s/it]\n",
            "                 Class     Images  Instances      Box(P          R      mAP50  mAP50-95): 100%|██████████| 3/3 [00:23<00:00,  7.98s/it]"
          ]
        },
        {
          "output_type": "stream",
          "name": "stdout",
          "text": [
            "                   all         80         95      0.952      0.914      0.956      0.803\n"
          ]
        },
        {
          "output_type": "stream",
          "name": "stderr",
          "text": [
            "\n"
          ]
        },
        {
          "output_type": "stream",
          "name": "stdout",
          "text": [
            "\n",
            "      Epoch    GPU_mem   box_loss   cls_loss   dfl_loss  Instances       Size\n"
          ]
        },
        {
          "output_type": "stream",
          "name": "stderr",
          "text": [
            "      43/50         0G     0.4717     0.4614     0.8626          9        640: 100%|██████████| 18/18 [03:59<00:00, 13.30s/it]\n",
            "                 Class     Images  Instances      Box(P          R      mAP50  mAP50-95): 100%|██████████| 3/3 [00:23<00:00,  7.92s/it]"
          ]
        },
        {
          "output_type": "stream",
          "name": "stdout",
          "text": [
            "                   all         80         95      0.916      0.901      0.948      0.804\n"
          ]
        },
        {
          "output_type": "stream",
          "name": "stderr",
          "text": [
            "\n"
          ]
        },
        {
          "output_type": "stream",
          "name": "stdout",
          "text": [
            "\n",
            "      Epoch    GPU_mem   box_loss   cls_loss   dfl_loss  Instances       Size\n"
          ]
        },
        {
          "output_type": "stream",
          "name": "stderr",
          "text": [
            "      44/50         0G     0.4416     0.4352     0.8423          9        640: 100%|██████████| 18/18 [04:02<00:00, 13.47s/it]\n",
            "                 Class     Images  Instances      Box(P          R      mAP50  mAP50-95): 100%|██████████| 3/3 [00:24<00:00,  8.10s/it]"
          ]
        },
        {
          "output_type": "stream",
          "name": "stdout",
          "text": [
            "                   all         80         95      0.941      0.883      0.948      0.801\n"
          ]
        },
        {
          "output_type": "stream",
          "name": "stderr",
          "text": [
            "\n"
          ]
        },
        {
          "output_type": "stream",
          "name": "stdout",
          "text": [
            "\n",
            "      Epoch    GPU_mem   box_loss   cls_loss   dfl_loss  Instances       Size\n"
          ]
        },
        {
          "output_type": "stream",
          "name": "stderr",
          "text": [
            "      45/50         0G     0.4505      0.423     0.8524          7        640: 100%|██████████| 18/18 [03:58<00:00, 13.28s/it]\n",
            "                 Class     Images  Instances      Box(P          R      mAP50  mAP50-95): 100%|██████████| 3/3 [00:23<00:00,  7.97s/it]"
          ]
        },
        {
          "output_type": "stream",
          "name": "stdout",
          "text": [
            "                   all         80         95      0.966      0.895      0.952      0.806\n"
          ]
        },
        {
          "output_type": "stream",
          "name": "stderr",
          "text": [
            "\n"
          ]
        },
        {
          "output_type": "stream",
          "name": "stdout",
          "text": [
            "\n",
            "      Epoch    GPU_mem   box_loss   cls_loss   dfl_loss  Instances       Size\n"
          ]
        },
        {
          "output_type": "stream",
          "name": "stderr",
          "text": [
            "      46/50         0G     0.4336     0.4101     0.8427          7        640: 100%|██████████| 18/18 [03:58<00:00, 13.26s/it]\n",
            "                 Class     Images  Instances      Box(P          R      mAP50  mAP50-95): 100%|██████████| 3/3 [00:25<00:00,  8.36s/it]"
          ]
        },
        {
          "output_type": "stream",
          "name": "stdout",
          "text": [
            "                   all         80         95      0.951      0.908      0.955      0.812\n"
          ]
        },
        {
          "output_type": "stream",
          "name": "stderr",
          "text": [
            "\n"
          ]
        },
        {
          "output_type": "stream",
          "name": "stdout",
          "text": [
            "\n",
            "      Epoch    GPU_mem   box_loss   cls_loss   dfl_loss  Instances       Size\n"
          ]
        },
        {
          "output_type": "stream",
          "name": "stderr",
          "text": [
            "      47/50         0G     0.4178     0.3967     0.8359          8        640: 100%|██████████| 18/18 [03:56<00:00, 13.15s/it]\n",
            "                 Class     Images  Instances      Box(P          R      mAP50  mAP50-95): 100%|██████████| 3/3 [00:23<00:00,  7.85s/it]"
          ]
        },
        {
          "output_type": "stream",
          "name": "stdout",
          "text": [
            "                   all         80         95       0.94      0.927      0.955      0.813\n"
          ]
        },
        {
          "output_type": "stream",
          "name": "stderr",
          "text": [
            "\n"
          ]
        },
        {
          "output_type": "stream",
          "name": "stdout",
          "text": [
            "\n",
            "      Epoch    GPU_mem   box_loss   cls_loss   dfl_loss  Instances       Size\n"
          ]
        },
        {
          "output_type": "stream",
          "name": "stderr",
          "text": [
            "      48/50         0G     0.4098     0.3958      0.831          9        640: 100%|██████████| 18/18 [03:56<00:00, 13.16s/it]\n",
            "                 Class     Images  Instances      Box(P          R      mAP50  mAP50-95): 100%|██████████| 3/3 [00:23<00:00,  7.78s/it]"
          ]
        },
        {
          "output_type": "stream",
          "name": "stdout",
          "text": [
            "                   all         80         95      0.948      0.927      0.957      0.818\n"
          ]
        },
        {
          "output_type": "stream",
          "name": "stderr",
          "text": [
            "\n"
          ]
        },
        {
          "output_type": "stream",
          "name": "stdout",
          "text": [
            "\n",
            "      Epoch    GPU_mem   box_loss   cls_loss   dfl_loss  Instances       Size\n"
          ]
        },
        {
          "output_type": "stream",
          "name": "stderr",
          "text": [
            "      49/50         0G     0.3956     0.3856     0.8258          8        640: 100%|██████████| 18/18 [03:53<00:00, 12.99s/it]\n",
            "                 Class     Images  Instances      Box(P          R      mAP50  mAP50-95): 100%|██████████| 3/3 [00:23<00:00,  7.79s/it]"
          ]
        },
        {
          "output_type": "stream",
          "name": "stdout",
          "text": [
            "                   all         80         95      0.946      0.927      0.957      0.822\n"
          ]
        },
        {
          "output_type": "stream",
          "name": "stderr",
          "text": [
            "\n"
          ]
        },
        {
          "output_type": "stream",
          "name": "stdout",
          "text": [
            "\n",
            "      Epoch    GPU_mem   box_loss   cls_loss   dfl_loss  Instances       Size\n"
          ]
        },
        {
          "output_type": "stream",
          "name": "stderr",
          "text": [
            "      50/50         0G     0.4126     0.3868      0.834          8        640: 100%|██████████| 18/18 [03:54<00:00, 13.00s/it]\n",
            "                 Class     Images  Instances      Box(P          R      mAP50  mAP50-95): 100%|██████████| 3/3 [00:24<00:00,  8.00s/it]"
          ]
        },
        {
          "output_type": "stream",
          "name": "stdout",
          "text": [
            "                   all         80         95      0.936      0.927      0.957      0.817\n"
          ]
        },
        {
          "output_type": "stream",
          "name": "stderr",
          "text": [
            "\n"
          ]
        },
        {
          "output_type": "stream",
          "name": "stdout",
          "text": [
            "\n",
            "50 epochs completed in 3.668 hours.\n",
            "Optimizer stripped from helmet_detect_v2/helmet_2class/weights/last.pt, 6.2MB\n",
            "Optimizer stripped from helmet_detect_v2/helmet_2class/weights/best.pt, 6.2MB\n",
            "\n",
            "Validating helmet_detect_v2/helmet_2class/weights/best.pt...\n",
            "Ultralytics 8.3.174 🚀 Python-3.11.13 torch-2.6.0+cu124 CPU (Intel Xeon 2.20GHz)\n",
            "Model summary (fused): 72 layers, 3,006,038 parameters, 0 gradients, 8.1 GFLOPs\n"
          ]
        },
        {
          "output_type": "stream",
          "name": "stderr",
          "text": [
            "                 Class     Images  Instances      Box(P          R      mAP50  mAP50-95): 100%|██████████| 3/3 [00:22<00:00,  7.58s/it]\n"
          ]
        },
        {
          "output_type": "stream",
          "name": "stdout",
          "text": [
            "                   all         80         95      0.953      0.925      0.956      0.823\n",
            "                helmet         42         51      0.953      0.922      0.956      0.813\n",
            "             no_helmet         39         44      0.953      0.929      0.956      0.834\n",
            "Speed: 2.3ms preprocess, 249.9ms inference, 0.0ms loss, 0.6ms postprocess per image\n",
            "Results saved to \u001b[1mhelmet_detect_v2/helmet_2class\u001b[0m\n"
          ]
        },
        {
          "output_type": "execute_result",
          "data": {
            "text/plain": [
              "ultralytics.utils.metrics.DetMetrics object with attributes:\n",
              "\n",
              "ap_class_index: array([0, 1])\n",
              "box: ultralytics.utils.metrics.Metric object\n",
              "confusion_matrix: <ultralytics.utils.metrics.ConfusionMatrix object at 0x7a39b44e0290>\n",
              "curves: ['Precision-Recall(B)', 'F1-Confidence(B)', 'Precision-Confidence(B)', 'Recall-Confidence(B)']\n",
              "curves_results: [[array([          0,    0.001001,    0.002002,    0.003003,    0.004004,    0.005005,    0.006006,    0.007007,    0.008008,    0.009009,     0.01001,    0.011011,    0.012012,    0.013013,    0.014014,    0.015015,    0.016016,    0.017017,    0.018018,    0.019019,     0.02002,    0.021021,    0.022022,    0.023023,\n",
              "          0.024024,    0.025025,    0.026026,    0.027027,    0.028028,    0.029029,     0.03003,    0.031031,    0.032032,    0.033033,    0.034034,    0.035035,    0.036036,    0.037037,    0.038038,    0.039039,     0.04004,    0.041041,    0.042042,    0.043043,    0.044044,    0.045045,    0.046046,    0.047047,\n",
              "          0.048048,    0.049049,     0.05005,    0.051051,    0.052052,    0.053053,    0.054054,    0.055055,    0.056056,    0.057057,    0.058058,    0.059059,     0.06006,    0.061061,    0.062062,    0.063063,    0.064064,    0.065065,    0.066066,    0.067067,    0.068068,    0.069069,     0.07007,    0.071071,\n",
              "          0.072072,    0.073073,    0.074074,    0.075075,    0.076076,    0.077077,    0.078078,    0.079079,     0.08008,    0.081081,    0.082082,    0.083083,    0.084084,    0.085085,    0.086086,    0.087087,    0.088088,    0.089089,     0.09009,    0.091091,    0.092092,    0.093093,    0.094094,    0.095095,\n",
              "          0.096096,    0.097097,    0.098098,    0.099099,      0.1001,      0.1011,      0.1021,      0.1031,      0.1041,     0.10511,     0.10611,     0.10711,     0.10811,     0.10911,     0.11011,     0.11111,     0.11211,     0.11311,     0.11411,     0.11512,     0.11612,     0.11712,     0.11812,     0.11912,\n",
              "           0.12012,     0.12112,     0.12212,     0.12312,     0.12412,     0.12513,     0.12613,     0.12713,     0.12813,     0.12913,     0.13013,     0.13113,     0.13213,     0.13313,     0.13413,     0.13514,     0.13614,     0.13714,     0.13814,     0.13914,     0.14014,     0.14114,     0.14214,     0.14314,\n",
              "           0.14414,     0.14515,     0.14615,     0.14715,     0.14815,     0.14915,     0.15015,     0.15115,     0.15215,     0.15315,     0.15415,     0.15516,     0.15616,     0.15716,     0.15816,     0.15916,     0.16016,     0.16116,     0.16216,     0.16316,     0.16416,     0.16517,     0.16617,     0.16717,\n",
              "           0.16817,     0.16917,     0.17017,     0.17117,     0.17217,     0.17317,     0.17417,     0.17518,     0.17618,     0.17718,     0.17818,     0.17918,     0.18018,     0.18118,     0.18218,     0.18318,     0.18418,     0.18519,     0.18619,     0.18719,     0.18819,     0.18919,     0.19019,     0.19119,\n",
              "           0.19219,     0.19319,     0.19419,      0.1952,      0.1962,      0.1972,      0.1982,      0.1992,      0.2002,      0.2012,      0.2022,      0.2032,      0.2042,     0.20521,     0.20621,     0.20721,     0.20821,     0.20921,     0.21021,     0.21121,     0.21221,     0.21321,     0.21421,     0.21522,\n",
              "           0.21622,     0.21722,     0.21822,     0.21922,     0.22022,     0.22122,     0.22222,     0.22322,     0.22422,     0.22523,     0.22623,     0.22723,     0.22823,     0.22923,     0.23023,     0.23123,     0.23223,     0.23323,     0.23423,     0.23524,     0.23624,     0.23724,     0.23824,     0.23924,\n",
              "           0.24024,     0.24124,     0.24224,     0.24324,     0.24424,     0.24525,     0.24625,     0.24725,     0.24825,     0.24925,     0.25025,     0.25125,     0.25225,     0.25325,     0.25425,     0.25526,     0.25626,     0.25726,     0.25826,     0.25926,     0.26026,     0.26126,     0.26226,     0.26326,\n",
              "           0.26426,     0.26527,     0.26627,     0.26727,     0.26827,     0.26927,     0.27027,     0.27127,     0.27227,     0.27327,     0.27427,     0.27528,     0.27628,     0.27728,     0.27828,     0.27928,     0.28028,     0.28128,     0.28228,     0.28328,     0.28428,     0.28529,     0.28629,     0.28729,\n",
              "           0.28829,     0.28929,     0.29029,     0.29129,     0.29229,     0.29329,     0.29429,      0.2953,      0.2963,      0.2973,      0.2983,      0.2993,      0.3003,      0.3013,      0.3023,      0.3033,      0.3043,     0.30531,     0.30631,     0.30731,     0.30831,     0.30931,     0.31031,     0.31131,\n",
              "           0.31231,     0.31331,     0.31431,     0.31532,     0.31632,     0.31732,     0.31832,     0.31932,     0.32032,     0.32132,     0.32232,     0.32332,     0.32432,     0.32533,     0.32633,     0.32733,     0.32833,     0.32933,     0.33033,     0.33133,     0.33233,     0.33333,     0.33433,     0.33534,\n",
              "           0.33634,     0.33734,     0.33834,     0.33934,     0.34034,     0.34134,     0.34234,     0.34334,     0.34434,     0.34535,     0.34635,     0.34735,     0.34835,     0.34935,     0.35035,     0.35135,     0.35235,     0.35335,     0.35435,     0.35536,     0.35636,     0.35736,     0.35836,     0.35936,\n",
              "           0.36036,     0.36136,     0.36236,     0.36336,     0.36436,     0.36537,     0.36637,     0.36737,     0.36837,     0.36937,     0.37037,     0.37137,     0.37237,     0.37337,     0.37437,     0.37538,     0.37638,     0.37738,     0.37838,     0.37938,     0.38038,     0.38138,     0.38238,     0.38338,\n",
              "           0.38438,     0.38539,     0.38639,     0.38739,     0.38839,     0.38939,     0.39039,     0.39139,     0.39239,     0.39339,     0.39439,      0.3954,      0.3964,      0.3974,      0.3984,      0.3994,      0.4004,      0.4014,      0.4024,      0.4034,      0.4044,     0.40541,     0.40641,     0.40741,\n",
              "           0.40841,     0.40941,     0.41041,     0.41141,     0.41241,     0.41341,     0.41441,     0.41542,     0.41642,     0.41742,     0.41842,     0.41942,     0.42042,     0.42142,     0.42242,     0.42342,     0.42442,     0.42543,     0.42643,     0.42743,     0.42843,     0.42943,     0.43043,     0.43143,\n",
              "           0.43243,     0.43343,     0.43443,     0.43544,     0.43644,     0.43744,     0.43844,     0.43944,     0.44044,     0.44144,     0.44244,     0.44344,     0.44444,     0.44545,     0.44645,     0.44745,     0.44845,     0.44945,     0.45045,     0.45145,     0.45245,     0.45345,     0.45445,     0.45546,\n",
              "           0.45646,     0.45746,     0.45846,     0.45946,     0.46046,     0.46146,     0.46246,     0.46346,     0.46446,     0.46547,     0.46647,     0.46747,     0.46847,     0.46947,     0.47047,     0.47147,     0.47247,     0.47347,     0.47447,     0.47548,     0.47648,     0.47748,     0.47848,     0.47948,\n",
              "           0.48048,     0.48148,     0.48248,     0.48348,     0.48448,     0.48549,     0.48649,     0.48749,     0.48849,     0.48949,     0.49049,     0.49149,     0.49249,     0.49349,     0.49449,      0.4955,      0.4965,      0.4975,      0.4985,      0.4995,      0.5005,      0.5015,      0.5025,      0.5035,\n",
              "            0.5045,     0.50551,     0.50651,     0.50751,     0.50851,     0.50951,     0.51051,     0.51151,     0.51251,     0.51351,     0.51451,     0.51552,     0.51652,     0.51752,     0.51852,     0.51952,     0.52052,     0.52152,     0.52252,     0.52352,     0.52452,     0.52553,     0.52653,     0.52753,\n",
              "           0.52853,     0.52953,     0.53053,     0.53153,     0.53253,     0.53353,     0.53453,     0.53554,     0.53654,     0.53754,     0.53854,     0.53954,     0.54054,     0.54154,     0.54254,     0.54354,     0.54454,     0.54555,     0.54655,     0.54755,     0.54855,     0.54955,     0.55055,     0.55155,\n",
              "           0.55255,     0.55355,     0.55455,     0.55556,     0.55656,     0.55756,     0.55856,     0.55956,     0.56056,     0.56156,     0.56256,     0.56356,     0.56456,     0.56557,     0.56657,     0.56757,     0.56857,     0.56957,     0.57057,     0.57157,     0.57257,     0.57357,     0.57457,     0.57558,\n",
              "           0.57658,     0.57758,     0.57858,     0.57958,     0.58058,     0.58158,     0.58258,     0.58358,     0.58458,     0.58559,     0.58659,     0.58759,     0.58859,     0.58959,     0.59059,     0.59159,     0.59259,     0.59359,     0.59459,      0.5956,      0.5966,      0.5976,      0.5986,      0.5996,\n",
              "            0.6006,      0.6016,      0.6026,      0.6036,      0.6046,     0.60561,     0.60661,     0.60761,     0.60861,     0.60961,     0.61061,     0.61161,     0.61261,     0.61361,     0.61461,     0.61562,     0.61662,     0.61762,     0.61862,     0.61962,     0.62062,     0.62162,     0.62262,     0.62362,\n",
              "           0.62462,     0.62563,     0.62663,     0.62763,     0.62863,     0.62963,     0.63063,     0.63163,     0.63263,     0.63363,     0.63463,     0.63564,     0.63664,     0.63764,     0.63864,     0.63964,     0.64064,     0.64164,     0.64264,     0.64364,     0.64464,     0.64565,     0.64665,     0.64765,\n",
              "           0.64865,     0.64965,     0.65065,     0.65165,     0.65265,     0.65365,     0.65465,     0.65566,     0.65666,     0.65766,     0.65866,     0.65966,     0.66066,     0.66166,     0.66266,     0.66366,     0.66466,     0.66567,     0.66667,     0.66767,     0.66867,     0.66967,     0.67067,     0.67167,\n",
              "           0.67267,     0.67367,     0.67467,     0.67568,     0.67668,     0.67768,     0.67868,     0.67968,     0.68068,     0.68168,     0.68268,     0.68368,     0.68468,     0.68569,     0.68669,     0.68769,     0.68869,     0.68969,     0.69069,     0.69169,     0.69269,     0.69369,     0.69469,      0.6957,\n",
              "            0.6967,      0.6977,      0.6987,      0.6997,      0.7007,      0.7017,      0.7027,      0.7037,      0.7047,     0.70571,     0.70671,     0.70771,     0.70871,     0.70971,     0.71071,     0.71171,     0.71271,     0.71371,     0.71471,     0.71572,     0.71672,     0.71772,     0.71872,     0.71972,\n",
              "           0.72072,     0.72172,     0.72272,     0.72372,     0.72472,     0.72573,     0.72673,     0.72773,     0.72873,     0.72973,     0.73073,     0.73173,     0.73273,     0.73373,     0.73473,     0.73574,     0.73674,     0.73774,     0.73874,     0.73974,     0.74074,     0.74174,     0.74274,     0.74374,\n",
              "           0.74474,     0.74575,     0.74675,     0.74775,     0.74875,     0.74975,     0.75075,     0.75175,     0.75275,     0.75375,     0.75475,     0.75576,     0.75676,     0.75776,     0.75876,     0.75976,     0.76076,     0.76176,     0.76276,     0.76376,     0.76476,     0.76577,     0.76677,     0.76777,\n",
              "           0.76877,     0.76977,     0.77077,     0.77177,     0.77277,     0.77377,     0.77477,     0.77578,     0.77678,     0.77778,     0.77878,     0.77978,     0.78078,     0.78178,     0.78278,     0.78378,     0.78478,     0.78579,     0.78679,     0.78779,     0.78879,     0.78979,     0.79079,     0.79179,\n",
              "           0.79279,     0.79379,     0.79479,      0.7958,      0.7968,      0.7978,      0.7988,      0.7998,      0.8008,      0.8018,      0.8028,      0.8038,      0.8048,     0.80581,     0.80681,     0.80781,     0.80881,     0.80981,     0.81081,     0.81181,     0.81281,     0.81381,     0.81481,     0.81582,\n",
              "           0.81682,     0.81782,     0.81882,     0.81982,     0.82082,     0.82182,     0.82282,     0.82382,     0.82482,     0.82583,     0.82683,     0.82783,     0.82883,     0.82983,     0.83083,     0.83183,     0.83283,     0.83383,     0.83483,     0.83584,     0.83684,     0.83784,     0.83884,     0.83984,\n",
              "           0.84084,     0.84184,     0.84284,     0.84384,     0.84484,     0.84585,     0.84685,     0.84785,     0.84885,     0.84985,     0.85085,     0.85185,     0.85285,     0.85385,     0.85485,     0.85586,     0.85686,     0.85786,     0.85886,     0.85986,     0.86086,     0.86186,     0.86286,     0.86386,\n",
              "           0.86486,     0.86587,     0.86687,     0.86787,     0.86887,     0.86987,     0.87087,     0.87187,     0.87287,     0.87387,     0.87487,     0.87588,     0.87688,     0.87788,     0.87888,     0.87988,     0.88088,     0.88188,     0.88288,     0.88388,     0.88488,     0.88589,     0.88689,     0.88789,\n",
              "           0.88889,     0.88989,     0.89089,     0.89189,     0.89289,     0.89389,     0.89489,      0.8959,      0.8969,      0.8979,      0.8989,      0.8999,      0.9009,      0.9019,      0.9029,      0.9039,      0.9049,     0.90591,     0.90691,     0.90791,     0.90891,     0.90991,     0.91091,     0.91191,\n",
              "           0.91291,     0.91391,     0.91491,     0.91592,     0.91692,     0.91792,     0.91892,     0.91992,     0.92092,     0.92192,     0.92292,     0.92392,     0.92492,     0.92593,     0.92693,     0.92793,     0.92893,     0.92993,     0.93093,     0.93193,     0.93293,     0.93393,     0.93493,     0.93594,\n",
              "           0.93694,     0.93794,     0.93894,     0.93994,     0.94094,     0.94194,     0.94294,     0.94394,     0.94494,     0.94595,     0.94695,     0.94795,     0.94895,     0.94995,     0.95095,     0.95195,     0.95295,     0.95395,     0.95495,     0.95596,     0.95696,     0.95796,     0.95896,     0.95996,\n",
              "           0.96096,     0.96196,     0.96296,     0.96396,     0.96496,     0.96597,     0.96697,     0.96797,     0.96897,     0.96997,     0.97097,     0.97197,     0.97297,     0.97397,     0.97497,     0.97598,     0.97698,     0.97798,     0.97898,     0.97998,     0.98098,     0.98198,     0.98298,     0.98398,\n",
              "           0.98498,     0.98599,     0.98699,     0.98799,     0.98899,     0.98999,     0.99099,     0.99199,     0.99299,     0.99399,     0.99499,       0.996,       0.997,       0.998,       0.999,           1]), array([[          1,           1,           1, ...,    0.007061,   0.0035305,           0],\n",
              "       [          1,           1,           1, ...,    0.024126,    0.012063,           0]]), 'Recall', 'Precision'], [array([          0,    0.001001,    0.002002,    0.003003,    0.004004,    0.005005,    0.006006,    0.007007,    0.008008,    0.009009,     0.01001,    0.011011,    0.012012,    0.013013,    0.014014,    0.015015,    0.016016,    0.017017,    0.018018,    0.019019,     0.02002,    0.021021,    0.022022,    0.023023,\n",
              "          0.024024,    0.025025,    0.026026,    0.027027,    0.028028,    0.029029,     0.03003,    0.031031,    0.032032,    0.033033,    0.034034,    0.035035,    0.036036,    0.037037,    0.038038,    0.039039,     0.04004,    0.041041,    0.042042,    0.043043,    0.044044,    0.045045,    0.046046,    0.047047,\n",
              "          0.048048,    0.049049,     0.05005,    0.051051,    0.052052,    0.053053,    0.054054,    0.055055,    0.056056,    0.057057,    0.058058,    0.059059,     0.06006,    0.061061,    0.062062,    0.063063,    0.064064,    0.065065,    0.066066,    0.067067,    0.068068,    0.069069,     0.07007,    0.071071,\n",
              "          0.072072,    0.073073,    0.074074,    0.075075,    0.076076,    0.077077,    0.078078,    0.079079,     0.08008,    0.081081,    0.082082,    0.083083,    0.084084,    0.085085,    0.086086,    0.087087,    0.088088,    0.089089,     0.09009,    0.091091,    0.092092,    0.093093,    0.094094,    0.095095,\n",
              "          0.096096,    0.097097,    0.098098,    0.099099,      0.1001,      0.1011,      0.1021,      0.1031,      0.1041,     0.10511,     0.10611,     0.10711,     0.10811,     0.10911,     0.11011,     0.11111,     0.11211,     0.11311,     0.11411,     0.11512,     0.11612,     0.11712,     0.11812,     0.11912,\n",
              "           0.12012,     0.12112,     0.12212,     0.12312,     0.12412,     0.12513,     0.12613,     0.12713,     0.12813,     0.12913,     0.13013,     0.13113,     0.13213,     0.13313,     0.13413,     0.13514,     0.13614,     0.13714,     0.13814,     0.13914,     0.14014,     0.14114,     0.14214,     0.14314,\n",
              "           0.14414,     0.14515,     0.14615,     0.14715,     0.14815,     0.14915,     0.15015,     0.15115,     0.15215,     0.15315,     0.15415,     0.15516,     0.15616,     0.15716,     0.15816,     0.15916,     0.16016,     0.16116,     0.16216,     0.16316,     0.16416,     0.16517,     0.16617,     0.16717,\n",
              "           0.16817,     0.16917,     0.17017,     0.17117,     0.17217,     0.17317,     0.17417,     0.17518,     0.17618,     0.17718,     0.17818,     0.17918,     0.18018,     0.18118,     0.18218,     0.18318,     0.18418,     0.18519,     0.18619,     0.18719,     0.18819,     0.18919,     0.19019,     0.19119,\n",
              "           0.19219,     0.19319,     0.19419,      0.1952,      0.1962,      0.1972,      0.1982,      0.1992,      0.2002,      0.2012,      0.2022,      0.2032,      0.2042,     0.20521,     0.20621,     0.20721,     0.20821,     0.20921,     0.21021,     0.21121,     0.21221,     0.21321,     0.21421,     0.21522,\n",
              "           0.21622,     0.21722,     0.21822,     0.21922,     0.22022,     0.22122,     0.22222,     0.22322,     0.22422,     0.22523,     0.22623,     0.22723,     0.22823,     0.22923,     0.23023,     0.23123,     0.23223,     0.23323,     0.23423,     0.23524,     0.23624,     0.23724,     0.23824,     0.23924,\n",
              "           0.24024,     0.24124,     0.24224,     0.24324,     0.24424,     0.24525,     0.24625,     0.24725,     0.24825,     0.24925,     0.25025,     0.25125,     0.25225,     0.25325,     0.25425,     0.25526,     0.25626,     0.25726,     0.25826,     0.25926,     0.26026,     0.26126,     0.26226,     0.26326,\n",
              "           0.26426,     0.26527,     0.26627,     0.26727,     0.26827,     0.26927,     0.27027,     0.27127,     0.27227,     0.27327,     0.27427,     0.27528,     0.27628,     0.27728,     0.27828,     0.27928,     0.28028,     0.28128,     0.28228,     0.28328,     0.28428,     0.28529,     0.28629,     0.28729,\n",
              "           0.28829,     0.28929,     0.29029,     0.29129,     0.29229,     0.29329,     0.29429,      0.2953,      0.2963,      0.2973,      0.2983,      0.2993,      0.3003,      0.3013,      0.3023,      0.3033,      0.3043,     0.30531,     0.30631,     0.30731,     0.30831,     0.30931,     0.31031,     0.31131,\n",
              "           0.31231,     0.31331,     0.31431,     0.31532,     0.31632,     0.31732,     0.31832,     0.31932,     0.32032,     0.32132,     0.32232,     0.32332,     0.32432,     0.32533,     0.32633,     0.32733,     0.32833,     0.32933,     0.33033,     0.33133,     0.33233,     0.33333,     0.33433,     0.33534,\n",
              "           0.33634,     0.33734,     0.33834,     0.33934,     0.34034,     0.34134,     0.34234,     0.34334,     0.34434,     0.34535,     0.34635,     0.34735,     0.34835,     0.34935,     0.35035,     0.35135,     0.35235,     0.35335,     0.35435,     0.35536,     0.35636,     0.35736,     0.35836,     0.35936,\n",
              "           0.36036,     0.36136,     0.36236,     0.36336,     0.36436,     0.36537,     0.36637,     0.36737,     0.36837,     0.36937,     0.37037,     0.37137,     0.37237,     0.37337,     0.37437,     0.37538,     0.37638,     0.37738,     0.37838,     0.37938,     0.38038,     0.38138,     0.38238,     0.38338,\n",
              "           0.38438,     0.38539,     0.38639,     0.38739,     0.38839,     0.38939,     0.39039,     0.39139,     0.39239,     0.39339,     0.39439,      0.3954,      0.3964,      0.3974,      0.3984,      0.3994,      0.4004,      0.4014,      0.4024,      0.4034,      0.4044,     0.40541,     0.40641,     0.40741,\n",
              "           0.40841,     0.40941,     0.41041,     0.41141,     0.41241,     0.41341,     0.41441,     0.41542,     0.41642,     0.41742,     0.41842,     0.41942,     0.42042,     0.42142,     0.42242,     0.42342,     0.42442,     0.42543,     0.42643,     0.42743,     0.42843,     0.42943,     0.43043,     0.43143,\n",
              "           0.43243,     0.43343,     0.43443,     0.43544,     0.43644,     0.43744,     0.43844,     0.43944,     0.44044,     0.44144,     0.44244,     0.44344,     0.44444,     0.44545,     0.44645,     0.44745,     0.44845,     0.44945,     0.45045,     0.45145,     0.45245,     0.45345,     0.45445,     0.45546,\n",
              "           0.45646,     0.45746,     0.45846,     0.45946,     0.46046,     0.46146,     0.46246,     0.46346,     0.46446,     0.46547,     0.46647,     0.46747,     0.46847,     0.46947,     0.47047,     0.47147,     0.47247,     0.47347,     0.47447,     0.47548,     0.47648,     0.47748,     0.47848,     0.47948,\n",
              "           0.48048,     0.48148,     0.48248,     0.48348,     0.48448,     0.48549,     0.48649,     0.48749,     0.48849,     0.48949,     0.49049,     0.49149,     0.49249,     0.49349,     0.49449,      0.4955,      0.4965,      0.4975,      0.4985,      0.4995,      0.5005,      0.5015,      0.5025,      0.5035,\n",
              "            0.5045,     0.50551,     0.50651,     0.50751,     0.50851,     0.50951,     0.51051,     0.51151,     0.51251,     0.51351,     0.51451,     0.51552,     0.51652,     0.51752,     0.51852,     0.51952,     0.52052,     0.52152,     0.52252,     0.52352,     0.52452,     0.52553,     0.52653,     0.52753,\n",
              "           0.52853,     0.52953,     0.53053,     0.53153,     0.53253,     0.53353,     0.53453,     0.53554,     0.53654,     0.53754,     0.53854,     0.53954,     0.54054,     0.54154,     0.54254,     0.54354,     0.54454,     0.54555,     0.54655,     0.54755,     0.54855,     0.54955,     0.55055,     0.55155,\n",
              "           0.55255,     0.55355,     0.55455,     0.55556,     0.55656,     0.55756,     0.55856,     0.55956,     0.56056,     0.56156,     0.56256,     0.56356,     0.56456,     0.56557,     0.56657,     0.56757,     0.56857,     0.56957,     0.57057,     0.57157,     0.57257,     0.57357,     0.57457,     0.57558,\n",
              "           0.57658,     0.57758,     0.57858,     0.57958,     0.58058,     0.58158,     0.58258,     0.58358,     0.58458,     0.58559,     0.58659,     0.58759,     0.58859,     0.58959,     0.59059,     0.59159,     0.59259,     0.59359,     0.59459,      0.5956,      0.5966,      0.5976,      0.5986,      0.5996,\n",
              "            0.6006,      0.6016,      0.6026,      0.6036,      0.6046,     0.60561,     0.60661,     0.60761,     0.60861,     0.60961,     0.61061,     0.61161,     0.61261,     0.61361,     0.61461,     0.61562,     0.61662,     0.61762,     0.61862,     0.61962,     0.62062,     0.62162,     0.62262,     0.62362,\n",
              "           0.62462,     0.62563,     0.62663,     0.62763,     0.62863,     0.62963,     0.63063,     0.63163,     0.63263,     0.63363,     0.63463,     0.63564,     0.63664,     0.63764,     0.63864,     0.63964,     0.64064,     0.64164,     0.64264,     0.64364,     0.64464,     0.64565,     0.64665,     0.64765,\n",
              "           0.64865,     0.64965,     0.65065,     0.65165,     0.65265,     0.65365,     0.65465,     0.65566,     0.65666,     0.65766,     0.65866,     0.65966,     0.66066,     0.66166,     0.66266,     0.66366,     0.66466,     0.66567,     0.66667,     0.66767,     0.66867,     0.66967,     0.67067,     0.67167,\n",
              "           0.67267,     0.67367,     0.67467,     0.67568,     0.67668,     0.67768,     0.67868,     0.67968,     0.68068,     0.68168,     0.68268,     0.68368,     0.68468,     0.68569,     0.68669,     0.68769,     0.68869,     0.68969,     0.69069,     0.69169,     0.69269,     0.69369,     0.69469,      0.6957,\n",
              "            0.6967,      0.6977,      0.6987,      0.6997,      0.7007,      0.7017,      0.7027,      0.7037,      0.7047,     0.70571,     0.70671,     0.70771,     0.70871,     0.70971,     0.71071,     0.71171,     0.71271,     0.71371,     0.71471,     0.71572,     0.71672,     0.71772,     0.71872,     0.71972,\n",
              "           0.72072,     0.72172,     0.72272,     0.72372,     0.72472,     0.72573,     0.72673,     0.72773,     0.72873,     0.72973,     0.73073,     0.73173,     0.73273,     0.73373,     0.73473,     0.73574,     0.73674,     0.73774,     0.73874,     0.73974,     0.74074,     0.74174,     0.74274,     0.74374,\n",
              "           0.74474,     0.74575,     0.74675,     0.74775,     0.74875,     0.74975,     0.75075,     0.75175,     0.75275,     0.75375,     0.75475,     0.75576,     0.75676,     0.75776,     0.75876,     0.75976,     0.76076,     0.76176,     0.76276,     0.76376,     0.76476,     0.76577,     0.76677,     0.76777,\n",
              "           0.76877,     0.76977,     0.77077,     0.77177,     0.77277,     0.77377,     0.77477,     0.77578,     0.77678,     0.77778,     0.77878,     0.77978,     0.78078,     0.78178,     0.78278,     0.78378,     0.78478,     0.78579,     0.78679,     0.78779,     0.78879,     0.78979,     0.79079,     0.79179,\n",
              "           0.79279,     0.79379,     0.79479,      0.7958,      0.7968,      0.7978,      0.7988,      0.7998,      0.8008,      0.8018,      0.8028,      0.8038,      0.8048,     0.80581,     0.80681,     0.80781,     0.80881,     0.80981,     0.81081,     0.81181,     0.81281,     0.81381,     0.81481,     0.81582,\n",
              "           0.81682,     0.81782,     0.81882,     0.81982,     0.82082,     0.82182,     0.82282,     0.82382,     0.82482,     0.82583,     0.82683,     0.82783,     0.82883,     0.82983,     0.83083,     0.83183,     0.83283,     0.83383,     0.83483,     0.83584,     0.83684,     0.83784,     0.83884,     0.83984,\n",
              "           0.84084,     0.84184,     0.84284,     0.84384,     0.84484,     0.84585,     0.84685,     0.84785,     0.84885,     0.84985,     0.85085,     0.85185,     0.85285,     0.85385,     0.85485,     0.85586,     0.85686,     0.85786,     0.85886,     0.85986,     0.86086,     0.86186,     0.86286,     0.86386,\n",
              "           0.86486,     0.86587,     0.86687,     0.86787,     0.86887,     0.86987,     0.87087,     0.87187,     0.87287,     0.87387,     0.87487,     0.87588,     0.87688,     0.87788,     0.87888,     0.87988,     0.88088,     0.88188,     0.88288,     0.88388,     0.88488,     0.88589,     0.88689,     0.88789,\n",
              "           0.88889,     0.88989,     0.89089,     0.89189,     0.89289,     0.89389,     0.89489,      0.8959,      0.8969,      0.8979,      0.8989,      0.8999,      0.9009,      0.9019,      0.9029,      0.9039,      0.9049,     0.90591,     0.90691,     0.90791,     0.90891,     0.90991,     0.91091,     0.91191,\n",
              "           0.91291,     0.91391,     0.91491,     0.91592,     0.91692,     0.91792,     0.91892,     0.91992,     0.92092,     0.92192,     0.92292,     0.92392,     0.92492,     0.92593,     0.92693,     0.92793,     0.92893,     0.92993,     0.93093,     0.93193,     0.93293,     0.93393,     0.93493,     0.93594,\n",
              "           0.93694,     0.93794,     0.93894,     0.93994,     0.94094,     0.94194,     0.94294,     0.94394,     0.94494,     0.94595,     0.94695,     0.94795,     0.94895,     0.94995,     0.95095,     0.95195,     0.95295,     0.95395,     0.95495,     0.95596,     0.95696,     0.95796,     0.95896,     0.95996,\n",
              "           0.96096,     0.96196,     0.96296,     0.96396,     0.96496,     0.96597,     0.96697,     0.96797,     0.96897,     0.96997,     0.97097,     0.97197,     0.97297,     0.97397,     0.97497,     0.97598,     0.97698,     0.97798,     0.97898,     0.97998,     0.98098,     0.98198,     0.98298,     0.98398,\n",
              "           0.98498,     0.98599,     0.98699,     0.98799,     0.98899,     0.98999,     0.99099,     0.99199,     0.99299,     0.99399,     0.99499,       0.996,       0.997,       0.998,       0.999,           1]), array([[     0.1292,      0.1292,     0.37606, ...,           0,           0,           0],\n",
              "       [    0.42786,     0.42786,     0.63856, ...,           0,           0,           0]]), 'Confidence', 'F1'], [array([          0,    0.001001,    0.002002,    0.003003,    0.004004,    0.005005,    0.006006,    0.007007,    0.008008,    0.009009,     0.01001,    0.011011,    0.012012,    0.013013,    0.014014,    0.015015,    0.016016,    0.017017,    0.018018,    0.019019,     0.02002,    0.021021,    0.022022,    0.023023,\n",
              "          0.024024,    0.025025,    0.026026,    0.027027,    0.028028,    0.029029,     0.03003,    0.031031,    0.032032,    0.033033,    0.034034,    0.035035,    0.036036,    0.037037,    0.038038,    0.039039,     0.04004,    0.041041,    0.042042,    0.043043,    0.044044,    0.045045,    0.046046,    0.047047,\n",
              "          0.048048,    0.049049,     0.05005,    0.051051,    0.052052,    0.053053,    0.054054,    0.055055,    0.056056,    0.057057,    0.058058,    0.059059,     0.06006,    0.061061,    0.062062,    0.063063,    0.064064,    0.065065,    0.066066,    0.067067,    0.068068,    0.069069,     0.07007,    0.071071,\n",
              "          0.072072,    0.073073,    0.074074,    0.075075,    0.076076,    0.077077,    0.078078,    0.079079,     0.08008,    0.081081,    0.082082,    0.083083,    0.084084,    0.085085,    0.086086,    0.087087,    0.088088,    0.089089,     0.09009,    0.091091,    0.092092,    0.093093,    0.094094,    0.095095,\n",
              "          0.096096,    0.097097,    0.098098,    0.099099,      0.1001,      0.1011,      0.1021,      0.1031,      0.1041,     0.10511,     0.10611,     0.10711,     0.10811,     0.10911,     0.11011,     0.11111,     0.11211,     0.11311,     0.11411,     0.11512,     0.11612,     0.11712,     0.11812,     0.11912,\n",
              "           0.12012,     0.12112,     0.12212,     0.12312,     0.12412,     0.12513,     0.12613,     0.12713,     0.12813,     0.12913,     0.13013,     0.13113,     0.13213,     0.13313,     0.13413,     0.13514,     0.13614,     0.13714,     0.13814,     0.13914,     0.14014,     0.14114,     0.14214,     0.14314,\n",
              "           0.14414,     0.14515,     0.14615,     0.14715,     0.14815,     0.14915,     0.15015,     0.15115,     0.15215,     0.15315,     0.15415,     0.15516,     0.15616,     0.15716,     0.15816,     0.15916,     0.16016,     0.16116,     0.16216,     0.16316,     0.16416,     0.16517,     0.16617,     0.16717,\n",
              "           0.16817,     0.16917,     0.17017,     0.17117,     0.17217,     0.17317,     0.17417,     0.17518,     0.17618,     0.17718,     0.17818,     0.17918,     0.18018,     0.18118,     0.18218,     0.18318,     0.18418,     0.18519,     0.18619,     0.18719,     0.18819,     0.18919,     0.19019,     0.19119,\n",
              "           0.19219,     0.19319,     0.19419,      0.1952,      0.1962,      0.1972,      0.1982,      0.1992,      0.2002,      0.2012,      0.2022,      0.2032,      0.2042,     0.20521,     0.20621,     0.20721,     0.20821,     0.20921,     0.21021,     0.21121,     0.21221,     0.21321,     0.21421,     0.21522,\n",
              "           0.21622,     0.21722,     0.21822,     0.21922,     0.22022,     0.22122,     0.22222,     0.22322,     0.22422,     0.22523,     0.22623,     0.22723,     0.22823,     0.22923,     0.23023,     0.23123,     0.23223,     0.23323,     0.23423,     0.23524,     0.23624,     0.23724,     0.23824,     0.23924,\n",
              "           0.24024,     0.24124,     0.24224,     0.24324,     0.24424,     0.24525,     0.24625,     0.24725,     0.24825,     0.24925,     0.25025,     0.25125,     0.25225,     0.25325,     0.25425,     0.25526,     0.25626,     0.25726,     0.25826,     0.25926,     0.26026,     0.26126,     0.26226,     0.26326,\n",
              "           0.26426,     0.26527,     0.26627,     0.26727,     0.26827,     0.26927,     0.27027,     0.27127,     0.27227,     0.27327,     0.27427,     0.27528,     0.27628,     0.27728,     0.27828,     0.27928,     0.28028,     0.28128,     0.28228,     0.28328,     0.28428,     0.28529,     0.28629,     0.28729,\n",
              "           0.28829,     0.28929,     0.29029,     0.29129,     0.29229,     0.29329,     0.29429,      0.2953,      0.2963,      0.2973,      0.2983,      0.2993,      0.3003,      0.3013,      0.3023,      0.3033,      0.3043,     0.30531,     0.30631,     0.30731,     0.30831,     0.30931,     0.31031,     0.31131,\n",
              "           0.31231,     0.31331,     0.31431,     0.31532,     0.31632,     0.31732,     0.31832,     0.31932,     0.32032,     0.32132,     0.32232,     0.32332,     0.32432,     0.32533,     0.32633,     0.32733,     0.32833,     0.32933,     0.33033,     0.33133,     0.33233,     0.33333,     0.33433,     0.33534,\n",
              "           0.33634,     0.33734,     0.33834,     0.33934,     0.34034,     0.34134,     0.34234,     0.34334,     0.34434,     0.34535,     0.34635,     0.34735,     0.34835,     0.34935,     0.35035,     0.35135,     0.35235,     0.35335,     0.35435,     0.35536,     0.35636,     0.35736,     0.35836,     0.35936,\n",
              "           0.36036,     0.36136,     0.36236,     0.36336,     0.36436,     0.36537,     0.36637,     0.36737,     0.36837,     0.36937,     0.37037,     0.37137,     0.37237,     0.37337,     0.37437,     0.37538,     0.37638,     0.37738,     0.37838,     0.37938,     0.38038,     0.38138,     0.38238,     0.38338,\n",
              "           0.38438,     0.38539,     0.38639,     0.38739,     0.38839,     0.38939,     0.39039,     0.39139,     0.39239,     0.39339,     0.39439,      0.3954,      0.3964,      0.3974,      0.3984,      0.3994,      0.4004,      0.4014,      0.4024,      0.4034,      0.4044,     0.40541,     0.40641,     0.40741,\n",
              "           0.40841,     0.40941,     0.41041,     0.41141,     0.41241,     0.41341,     0.41441,     0.41542,     0.41642,     0.41742,     0.41842,     0.41942,     0.42042,     0.42142,     0.42242,     0.42342,     0.42442,     0.42543,     0.42643,     0.42743,     0.42843,     0.42943,     0.43043,     0.43143,\n",
              "           0.43243,     0.43343,     0.43443,     0.43544,     0.43644,     0.43744,     0.43844,     0.43944,     0.44044,     0.44144,     0.44244,     0.44344,     0.44444,     0.44545,     0.44645,     0.44745,     0.44845,     0.44945,     0.45045,     0.45145,     0.45245,     0.45345,     0.45445,     0.45546,\n",
              "           0.45646,     0.45746,     0.45846,     0.45946,     0.46046,     0.46146,     0.46246,     0.46346,     0.46446,     0.46547,     0.46647,     0.46747,     0.46847,     0.46947,     0.47047,     0.47147,     0.47247,     0.47347,     0.47447,     0.47548,     0.47648,     0.47748,     0.47848,     0.47948,\n",
              "           0.48048,     0.48148,     0.48248,     0.48348,     0.48448,     0.48549,     0.48649,     0.48749,     0.48849,     0.48949,     0.49049,     0.49149,     0.49249,     0.49349,     0.49449,      0.4955,      0.4965,      0.4975,      0.4985,      0.4995,      0.5005,      0.5015,      0.5025,      0.5035,\n",
              "            0.5045,     0.50551,     0.50651,     0.50751,     0.50851,     0.50951,     0.51051,     0.51151,     0.51251,     0.51351,     0.51451,     0.51552,     0.51652,     0.51752,     0.51852,     0.51952,     0.52052,     0.52152,     0.52252,     0.52352,     0.52452,     0.52553,     0.52653,     0.52753,\n",
              "           0.52853,     0.52953,     0.53053,     0.53153,     0.53253,     0.53353,     0.53453,     0.53554,     0.53654,     0.53754,     0.53854,     0.53954,     0.54054,     0.54154,     0.54254,     0.54354,     0.54454,     0.54555,     0.54655,     0.54755,     0.54855,     0.54955,     0.55055,     0.55155,\n",
              "           0.55255,     0.55355,     0.55455,     0.55556,     0.55656,     0.55756,     0.55856,     0.55956,     0.56056,     0.56156,     0.56256,     0.56356,     0.56456,     0.56557,     0.56657,     0.56757,     0.56857,     0.56957,     0.57057,     0.57157,     0.57257,     0.57357,     0.57457,     0.57558,\n",
              "           0.57658,     0.57758,     0.57858,     0.57958,     0.58058,     0.58158,     0.58258,     0.58358,     0.58458,     0.58559,     0.58659,     0.58759,     0.58859,     0.58959,     0.59059,     0.59159,     0.59259,     0.59359,     0.59459,      0.5956,      0.5966,      0.5976,      0.5986,      0.5996,\n",
              "            0.6006,      0.6016,      0.6026,      0.6036,      0.6046,     0.60561,     0.60661,     0.60761,     0.60861,     0.60961,     0.61061,     0.61161,     0.61261,     0.61361,     0.61461,     0.61562,     0.61662,     0.61762,     0.61862,     0.61962,     0.62062,     0.62162,     0.62262,     0.62362,\n",
              "           0.62462,     0.62563,     0.62663,     0.62763,     0.62863,     0.62963,     0.63063,     0.63163,     0.63263,     0.63363,     0.63463,     0.63564,     0.63664,     0.63764,     0.63864,     0.63964,     0.64064,     0.64164,     0.64264,     0.64364,     0.64464,     0.64565,     0.64665,     0.64765,\n",
              "           0.64865,     0.64965,     0.65065,     0.65165,     0.65265,     0.65365,     0.65465,     0.65566,     0.65666,     0.65766,     0.65866,     0.65966,     0.66066,     0.66166,     0.66266,     0.66366,     0.66466,     0.66567,     0.66667,     0.66767,     0.66867,     0.66967,     0.67067,     0.67167,\n",
              "           0.67267,     0.67367,     0.67467,     0.67568,     0.67668,     0.67768,     0.67868,     0.67968,     0.68068,     0.68168,     0.68268,     0.68368,     0.68468,     0.68569,     0.68669,     0.68769,     0.68869,     0.68969,     0.69069,     0.69169,     0.69269,     0.69369,     0.69469,      0.6957,\n",
              "            0.6967,      0.6977,      0.6987,      0.6997,      0.7007,      0.7017,      0.7027,      0.7037,      0.7047,     0.70571,     0.70671,     0.70771,     0.70871,     0.70971,     0.71071,     0.71171,     0.71271,     0.71371,     0.71471,     0.71572,     0.71672,     0.71772,     0.71872,     0.71972,\n",
              "           0.72072,     0.72172,     0.72272,     0.72372,     0.72472,     0.72573,     0.72673,     0.72773,     0.72873,     0.72973,     0.73073,     0.73173,     0.73273,     0.73373,     0.73473,     0.73574,     0.73674,     0.73774,     0.73874,     0.73974,     0.74074,     0.74174,     0.74274,     0.74374,\n",
              "           0.74474,     0.74575,     0.74675,     0.74775,     0.74875,     0.74975,     0.75075,     0.75175,     0.75275,     0.75375,     0.75475,     0.75576,     0.75676,     0.75776,     0.75876,     0.75976,     0.76076,     0.76176,     0.76276,     0.76376,     0.76476,     0.76577,     0.76677,     0.76777,\n",
              "           0.76877,     0.76977,     0.77077,     0.77177,     0.77277,     0.77377,     0.77477,     0.77578,     0.77678,     0.77778,     0.77878,     0.77978,     0.78078,     0.78178,     0.78278,     0.78378,     0.78478,     0.78579,     0.78679,     0.78779,     0.78879,     0.78979,     0.79079,     0.79179,\n",
              "           0.79279,     0.79379,     0.79479,      0.7958,      0.7968,      0.7978,      0.7988,      0.7998,      0.8008,      0.8018,      0.8028,      0.8038,      0.8048,     0.80581,     0.80681,     0.80781,     0.80881,     0.80981,     0.81081,     0.81181,     0.81281,     0.81381,     0.81481,     0.81582,\n",
              "           0.81682,     0.81782,     0.81882,     0.81982,     0.82082,     0.82182,     0.82282,     0.82382,     0.82482,     0.82583,     0.82683,     0.82783,     0.82883,     0.82983,     0.83083,     0.83183,     0.83283,     0.83383,     0.83483,     0.83584,     0.83684,     0.83784,     0.83884,     0.83984,\n",
              "           0.84084,     0.84184,     0.84284,     0.84384,     0.84484,     0.84585,     0.84685,     0.84785,     0.84885,     0.84985,     0.85085,     0.85185,     0.85285,     0.85385,     0.85485,     0.85586,     0.85686,     0.85786,     0.85886,     0.85986,     0.86086,     0.86186,     0.86286,     0.86386,\n",
              "           0.86486,     0.86587,     0.86687,     0.86787,     0.86887,     0.86987,     0.87087,     0.87187,     0.87287,     0.87387,     0.87487,     0.87588,     0.87688,     0.87788,     0.87888,     0.87988,     0.88088,     0.88188,     0.88288,     0.88388,     0.88488,     0.88589,     0.88689,     0.88789,\n",
              "           0.88889,     0.88989,     0.89089,     0.89189,     0.89289,     0.89389,     0.89489,      0.8959,      0.8969,      0.8979,      0.8989,      0.8999,      0.9009,      0.9019,      0.9029,      0.9039,      0.9049,     0.90591,     0.90691,     0.90791,     0.90891,     0.90991,     0.91091,     0.91191,\n",
              "           0.91291,     0.91391,     0.91491,     0.91592,     0.91692,     0.91792,     0.91892,     0.91992,     0.92092,     0.92192,     0.92292,     0.92392,     0.92492,     0.92593,     0.92693,     0.92793,     0.92893,     0.92993,     0.93093,     0.93193,     0.93293,     0.93393,     0.93493,     0.93594,\n",
              "           0.93694,     0.93794,     0.93894,     0.93994,     0.94094,     0.94194,     0.94294,     0.94394,     0.94494,     0.94595,     0.94695,     0.94795,     0.94895,     0.94995,     0.95095,     0.95195,     0.95295,     0.95395,     0.95495,     0.95596,     0.95696,     0.95796,     0.95896,     0.95996,\n",
              "           0.96096,     0.96196,     0.96296,     0.96396,     0.96496,     0.96597,     0.96697,     0.96797,     0.96897,     0.96997,     0.97097,     0.97197,     0.97297,     0.97397,     0.97497,     0.97598,     0.97698,     0.97798,     0.97898,     0.97998,     0.98098,     0.98198,     0.98298,     0.98398,\n",
              "           0.98498,     0.98599,     0.98699,     0.98799,     0.98899,     0.98999,     0.99099,     0.99199,     0.99299,     0.99399,     0.99499,       0.996,       0.997,       0.998,       0.999,           1]), array([[   0.069156,    0.069156,     0.23265, ...,           1,           1,           1],\n",
              "       [    0.27389,     0.27389,     0.47421, ...,           1,           1,           1]]), 'Confidence', 'Precision'], [array([          0,    0.001001,    0.002002,    0.003003,    0.004004,    0.005005,    0.006006,    0.007007,    0.008008,    0.009009,     0.01001,    0.011011,    0.012012,    0.013013,    0.014014,    0.015015,    0.016016,    0.017017,    0.018018,    0.019019,     0.02002,    0.021021,    0.022022,    0.023023,\n",
              "          0.024024,    0.025025,    0.026026,    0.027027,    0.028028,    0.029029,     0.03003,    0.031031,    0.032032,    0.033033,    0.034034,    0.035035,    0.036036,    0.037037,    0.038038,    0.039039,     0.04004,    0.041041,    0.042042,    0.043043,    0.044044,    0.045045,    0.046046,    0.047047,\n",
              "          0.048048,    0.049049,     0.05005,    0.051051,    0.052052,    0.053053,    0.054054,    0.055055,    0.056056,    0.057057,    0.058058,    0.059059,     0.06006,    0.061061,    0.062062,    0.063063,    0.064064,    0.065065,    0.066066,    0.067067,    0.068068,    0.069069,     0.07007,    0.071071,\n",
              "          0.072072,    0.073073,    0.074074,    0.075075,    0.076076,    0.077077,    0.078078,    0.079079,     0.08008,    0.081081,    0.082082,    0.083083,    0.084084,    0.085085,    0.086086,    0.087087,    0.088088,    0.089089,     0.09009,    0.091091,    0.092092,    0.093093,    0.094094,    0.095095,\n",
              "          0.096096,    0.097097,    0.098098,    0.099099,      0.1001,      0.1011,      0.1021,      0.1031,      0.1041,     0.10511,     0.10611,     0.10711,     0.10811,     0.10911,     0.11011,     0.11111,     0.11211,     0.11311,     0.11411,     0.11512,     0.11612,     0.11712,     0.11812,     0.11912,\n",
              "           0.12012,     0.12112,     0.12212,     0.12312,     0.12412,     0.12513,     0.12613,     0.12713,     0.12813,     0.12913,     0.13013,     0.13113,     0.13213,     0.13313,     0.13413,     0.13514,     0.13614,     0.13714,     0.13814,     0.13914,     0.14014,     0.14114,     0.14214,     0.14314,\n",
              "           0.14414,     0.14515,     0.14615,     0.14715,     0.14815,     0.14915,     0.15015,     0.15115,     0.15215,     0.15315,     0.15415,     0.15516,     0.15616,     0.15716,     0.15816,     0.15916,     0.16016,     0.16116,     0.16216,     0.16316,     0.16416,     0.16517,     0.16617,     0.16717,\n",
              "           0.16817,     0.16917,     0.17017,     0.17117,     0.17217,     0.17317,     0.17417,     0.17518,     0.17618,     0.17718,     0.17818,     0.17918,     0.18018,     0.18118,     0.18218,     0.18318,     0.18418,     0.18519,     0.18619,     0.18719,     0.18819,     0.18919,     0.19019,     0.19119,\n",
              "           0.19219,     0.19319,     0.19419,      0.1952,      0.1962,      0.1972,      0.1982,      0.1992,      0.2002,      0.2012,      0.2022,      0.2032,      0.2042,     0.20521,     0.20621,     0.20721,     0.20821,     0.20921,     0.21021,     0.21121,     0.21221,     0.21321,     0.21421,     0.21522,\n",
              "           0.21622,     0.21722,     0.21822,     0.21922,     0.22022,     0.22122,     0.22222,     0.22322,     0.22422,     0.22523,     0.22623,     0.22723,     0.22823,     0.22923,     0.23023,     0.23123,     0.23223,     0.23323,     0.23423,     0.23524,     0.23624,     0.23724,     0.23824,     0.23924,\n",
              "           0.24024,     0.24124,     0.24224,     0.24324,     0.24424,     0.24525,     0.24625,     0.24725,     0.24825,     0.24925,     0.25025,     0.25125,     0.25225,     0.25325,     0.25425,     0.25526,     0.25626,     0.25726,     0.25826,     0.25926,     0.26026,     0.26126,     0.26226,     0.26326,\n",
              "           0.26426,     0.26527,     0.26627,     0.26727,     0.26827,     0.26927,     0.27027,     0.27127,     0.27227,     0.27327,     0.27427,     0.27528,     0.27628,     0.27728,     0.27828,     0.27928,     0.28028,     0.28128,     0.28228,     0.28328,     0.28428,     0.28529,     0.28629,     0.28729,\n",
              "           0.28829,     0.28929,     0.29029,     0.29129,     0.29229,     0.29329,     0.29429,      0.2953,      0.2963,      0.2973,      0.2983,      0.2993,      0.3003,      0.3013,      0.3023,      0.3033,      0.3043,     0.30531,     0.30631,     0.30731,     0.30831,     0.30931,     0.31031,     0.31131,\n",
              "           0.31231,     0.31331,     0.31431,     0.31532,     0.31632,     0.31732,     0.31832,     0.31932,     0.32032,     0.32132,     0.32232,     0.32332,     0.32432,     0.32533,     0.32633,     0.32733,     0.32833,     0.32933,     0.33033,     0.33133,     0.33233,     0.33333,     0.33433,     0.33534,\n",
              "           0.33634,     0.33734,     0.33834,     0.33934,     0.34034,     0.34134,     0.34234,     0.34334,     0.34434,     0.34535,     0.34635,     0.34735,     0.34835,     0.34935,     0.35035,     0.35135,     0.35235,     0.35335,     0.35435,     0.35536,     0.35636,     0.35736,     0.35836,     0.35936,\n",
              "           0.36036,     0.36136,     0.36236,     0.36336,     0.36436,     0.36537,     0.36637,     0.36737,     0.36837,     0.36937,     0.37037,     0.37137,     0.37237,     0.37337,     0.37437,     0.37538,     0.37638,     0.37738,     0.37838,     0.37938,     0.38038,     0.38138,     0.38238,     0.38338,\n",
              "           0.38438,     0.38539,     0.38639,     0.38739,     0.38839,     0.38939,     0.39039,     0.39139,     0.39239,     0.39339,     0.39439,      0.3954,      0.3964,      0.3974,      0.3984,      0.3994,      0.4004,      0.4014,      0.4024,      0.4034,      0.4044,     0.40541,     0.40641,     0.40741,\n",
              "           0.40841,     0.40941,     0.41041,     0.41141,     0.41241,     0.41341,     0.41441,     0.41542,     0.41642,     0.41742,     0.41842,     0.41942,     0.42042,     0.42142,     0.42242,     0.42342,     0.42442,     0.42543,     0.42643,     0.42743,     0.42843,     0.42943,     0.43043,     0.43143,\n",
              "           0.43243,     0.43343,     0.43443,     0.43544,     0.43644,     0.43744,     0.43844,     0.43944,     0.44044,     0.44144,     0.44244,     0.44344,     0.44444,     0.44545,     0.44645,     0.44745,     0.44845,     0.44945,     0.45045,     0.45145,     0.45245,     0.45345,     0.45445,     0.45546,\n",
              "           0.45646,     0.45746,     0.45846,     0.45946,     0.46046,     0.46146,     0.46246,     0.46346,     0.46446,     0.46547,     0.46647,     0.46747,     0.46847,     0.46947,     0.47047,     0.47147,     0.47247,     0.47347,     0.47447,     0.47548,     0.47648,     0.47748,     0.47848,     0.47948,\n",
              "           0.48048,     0.48148,     0.48248,     0.48348,     0.48448,     0.48549,     0.48649,     0.48749,     0.48849,     0.48949,     0.49049,     0.49149,     0.49249,     0.49349,     0.49449,      0.4955,      0.4965,      0.4975,      0.4985,      0.4995,      0.5005,      0.5015,      0.5025,      0.5035,\n",
              "            0.5045,     0.50551,     0.50651,     0.50751,     0.50851,     0.50951,     0.51051,     0.51151,     0.51251,     0.51351,     0.51451,     0.51552,     0.51652,     0.51752,     0.51852,     0.51952,     0.52052,     0.52152,     0.52252,     0.52352,     0.52452,     0.52553,     0.52653,     0.52753,\n",
              "           0.52853,     0.52953,     0.53053,     0.53153,     0.53253,     0.53353,     0.53453,     0.53554,     0.53654,     0.53754,     0.53854,     0.53954,     0.54054,     0.54154,     0.54254,     0.54354,     0.54454,     0.54555,     0.54655,     0.54755,     0.54855,     0.54955,     0.55055,     0.55155,\n",
              "           0.55255,     0.55355,     0.55455,     0.55556,     0.55656,     0.55756,     0.55856,     0.55956,     0.56056,     0.56156,     0.56256,     0.56356,     0.56456,     0.56557,     0.56657,     0.56757,     0.56857,     0.56957,     0.57057,     0.57157,     0.57257,     0.57357,     0.57457,     0.57558,\n",
              "           0.57658,     0.57758,     0.57858,     0.57958,     0.58058,     0.58158,     0.58258,     0.58358,     0.58458,     0.58559,     0.58659,     0.58759,     0.58859,     0.58959,     0.59059,     0.59159,     0.59259,     0.59359,     0.59459,      0.5956,      0.5966,      0.5976,      0.5986,      0.5996,\n",
              "            0.6006,      0.6016,      0.6026,      0.6036,      0.6046,     0.60561,     0.60661,     0.60761,     0.60861,     0.60961,     0.61061,     0.61161,     0.61261,     0.61361,     0.61461,     0.61562,     0.61662,     0.61762,     0.61862,     0.61962,     0.62062,     0.62162,     0.62262,     0.62362,\n",
              "           0.62462,     0.62563,     0.62663,     0.62763,     0.62863,     0.62963,     0.63063,     0.63163,     0.63263,     0.63363,     0.63463,     0.63564,     0.63664,     0.63764,     0.63864,     0.63964,     0.64064,     0.64164,     0.64264,     0.64364,     0.64464,     0.64565,     0.64665,     0.64765,\n",
              "           0.64865,     0.64965,     0.65065,     0.65165,     0.65265,     0.65365,     0.65465,     0.65566,     0.65666,     0.65766,     0.65866,     0.65966,     0.66066,     0.66166,     0.66266,     0.66366,     0.66466,     0.66567,     0.66667,     0.66767,     0.66867,     0.66967,     0.67067,     0.67167,\n",
              "           0.67267,     0.67367,     0.67467,     0.67568,     0.67668,     0.67768,     0.67868,     0.67968,     0.68068,     0.68168,     0.68268,     0.68368,     0.68468,     0.68569,     0.68669,     0.68769,     0.68869,     0.68969,     0.69069,     0.69169,     0.69269,     0.69369,     0.69469,      0.6957,\n",
              "            0.6967,      0.6977,      0.6987,      0.6997,      0.7007,      0.7017,      0.7027,      0.7037,      0.7047,     0.70571,     0.70671,     0.70771,     0.70871,     0.70971,     0.71071,     0.71171,     0.71271,     0.71371,     0.71471,     0.71572,     0.71672,     0.71772,     0.71872,     0.71972,\n",
              "           0.72072,     0.72172,     0.72272,     0.72372,     0.72472,     0.72573,     0.72673,     0.72773,     0.72873,     0.72973,     0.73073,     0.73173,     0.73273,     0.73373,     0.73473,     0.73574,     0.73674,     0.73774,     0.73874,     0.73974,     0.74074,     0.74174,     0.74274,     0.74374,\n",
              "           0.74474,     0.74575,     0.74675,     0.74775,     0.74875,     0.74975,     0.75075,     0.75175,     0.75275,     0.75375,     0.75475,     0.75576,     0.75676,     0.75776,     0.75876,     0.75976,     0.76076,     0.76176,     0.76276,     0.76376,     0.76476,     0.76577,     0.76677,     0.76777,\n",
              "           0.76877,     0.76977,     0.77077,     0.77177,     0.77277,     0.77377,     0.77477,     0.77578,     0.77678,     0.77778,     0.77878,     0.77978,     0.78078,     0.78178,     0.78278,     0.78378,     0.78478,     0.78579,     0.78679,     0.78779,     0.78879,     0.78979,     0.79079,     0.79179,\n",
              "           0.79279,     0.79379,     0.79479,      0.7958,      0.7968,      0.7978,      0.7988,      0.7998,      0.8008,      0.8018,      0.8028,      0.8038,      0.8048,     0.80581,     0.80681,     0.80781,     0.80881,     0.80981,     0.81081,     0.81181,     0.81281,     0.81381,     0.81481,     0.81582,\n",
              "           0.81682,     0.81782,     0.81882,     0.81982,     0.82082,     0.82182,     0.82282,     0.82382,     0.82482,     0.82583,     0.82683,     0.82783,     0.82883,     0.82983,     0.83083,     0.83183,     0.83283,     0.83383,     0.83483,     0.83584,     0.83684,     0.83784,     0.83884,     0.83984,\n",
              "           0.84084,     0.84184,     0.84284,     0.84384,     0.84484,     0.84585,     0.84685,     0.84785,     0.84885,     0.84985,     0.85085,     0.85185,     0.85285,     0.85385,     0.85485,     0.85586,     0.85686,     0.85786,     0.85886,     0.85986,     0.86086,     0.86186,     0.86286,     0.86386,\n",
              "           0.86486,     0.86587,     0.86687,     0.86787,     0.86887,     0.86987,     0.87087,     0.87187,     0.87287,     0.87387,     0.87487,     0.87588,     0.87688,     0.87788,     0.87888,     0.87988,     0.88088,     0.88188,     0.88288,     0.88388,     0.88488,     0.88589,     0.88689,     0.88789,\n",
              "           0.88889,     0.88989,     0.89089,     0.89189,     0.89289,     0.89389,     0.89489,      0.8959,      0.8969,      0.8979,      0.8989,      0.8999,      0.9009,      0.9019,      0.9029,      0.9039,      0.9049,     0.90591,     0.90691,     0.90791,     0.90891,     0.90991,     0.91091,     0.91191,\n",
              "           0.91291,     0.91391,     0.91491,     0.91592,     0.91692,     0.91792,     0.91892,     0.91992,     0.92092,     0.92192,     0.92292,     0.92392,     0.92492,     0.92593,     0.92693,     0.92793,     0.92893,     0.92993,     0.93093,     0.93193,     0.93293,     0.93393,     0.93493,     0.93594,\n",
              "           0.93694,     0.93794,     0.93894,     0.93994,     0.94094,     0.94194,     0.94294,     0.94394,     0.94494,     0.94595,     0.94695,     0.94795,     0.94895,     0.94995,     0.95095,     0.95195,     0.95295,     0.95395,     0.95495,     0.95596,     0.95696,     0.95796,     0.95896,     0.95996,\n",
              "           0.96096,     0.96196,     0.96296,     0.96396,     0.96496,     0.96597,     0.96697,     0.96797,     0.96897,     0.96997,     0.97097,     0.97197,     0.97297,     0.97397,     0.97497,     0.97598,     0.97698,     0.97798,     0.97898,     0.97998,     0.98098,     0.98198,     0.98298,     0.98398,\n",
              "           0.98498,     0.98599,     0.98699,     0.98799,     0.98899,     0.98999,     0.99099,     0.99199,     0.99299,     0.99399,     0.99499,       0.996,       0.997,       0.998,       0.999,           1]), array([[    0.98039,     0.98039,     0.98039, ...,           0,           0,           0],\n",
              "       [    0.97727,     0.97727,     0.97727, ...,           0,           0,           0]]), 'Confidence', 'Recall']]\n",
              "fitness: np.float64(0.8367605275646648)\n",
              "keys: ['metrics/precision(B)', 'metrics/recall(B)', 'metrics/mAP50(B)', 'metrics/mAP50-95(B)']\n",
              "maps: array([    0.81322,     0.83374])\n",
              "names: {0: 'helmet', 1: 'no_helmet'}\n",
              "nt_per_class: array([51, 44])\n",
              "nt_per_image: array([42, 39])\n",
              "results_dict: {'metrics/precision(B)': np.float64(0.9530343434339474), 'metrics/recall(B)': np.float64(0.9251675343754071), 'metrics/mAP50(B)': np.float64(0.9562734803536015), 'metrics/mAP50-95(B)': np.float64(0.8234813105881162), 'fitness': np.float64(0.8367605275646648)}\n",
              "save_dir: PosixPath('helmet_detect_v2/helmet_2class')\n",
              "speed: {'preprocess': 2.2648696874512098, 'inference': 249.91539648754042, 'loss': 7.231246854644269e-05, 'postprocess': 0.6071750625324057}\n",
              "stats: {'tp': [], 'conf': [], 'pred_cls': [], 'target_cls': [], 'target_img': []}\n",
              "task: 'detect'"
            ]
          },
          "metadata": {},
          "execution_count": 6
        }
      ]
    },
    {
      "cell_type": "code",
      "source": [
        "model = YOLO('helmet_detect_v2/helmet_2class/weights/best.pt')\n",
        "\n",
        "# Upload a test image\n",
        "uploaded = files.upload()\n",
        "\n",
        "# Run inference\n",
        "results = model.predict(list(uploaded.keys())[0], save=True)"
      ],
      "metadata": {
        "colab": {
          "base_uri": "https://localhost:8080/",
          "height": 146
        },
        "id": "4WHZI55AA8pm",
        "outputId": "2c180541-0c60-4308-eb95-71da6ef92f88"
      },
      "execution_count": 27,
      "outputs": [
        {
          "output_type": "display_data",
          "data": {
            "text/plain": [
              "<IPython.core.display.HTML object>"
            ],
            "text/html": [
              "\n",
              "     <input type=\"file\" id=\"files-ac998af9-1057-4e02-88da-a2f68915e19f\" name=\"files[]\" multiple disabled\n",
              "        style=\"border:none\" />\n",
              "     <output id=\"result-ac998af9-1057-4e02-88da-a2f68915e19f\">\n",
              "      Upload widget is only available when the cell has been executed in the\n",
              "      current browser session. Please rerun this cell to enable.\n",
              "      </output>\n",
              "      <script>// Copyright 2017 Google LLC\n",
              "//\n",
              "// Licensed under the Apache License, Version 2.0 (the \"License\");\n",
              "// you may not use this file except in compliance with the License.\n",
              "// You may obtain a copy of the License at\n",
              "//\n",
              "//      http://www.apache.org/licenses/LICENSE-2.0\n",
              "//\n",
              "// Unless required by applicable law or agreed to in writing, software\n",
              "// distributed under the License is distributed on an \"AS IS\" BASIS,\n",
              "// WITHOUT WARRANTIES OR CONDITIONS OF ANY KIND, either express or implied.\n",
              "// See the License for the specific language governing permissions and\n",
              "// limitations under the License.\n",
              "\n",
              "/**\n",
              " * @fileoverview Helpers for google.colab Python module.\n",
              " */\n",
              "(function(scope) {\n",
              "function span(text, styleAttributes = {}) {\n",
              "  const element = document.createElement('span');\n",
              "  element.textContent = text;\n",
              "  for (const key of Object.keys(styleAttributes)) {\n",
              "    element.style[key] = styleAttributes[key];\n",
              "  }\n",
              "  return element;\n",
              "}\n",
              "\n",
              "// Max number of bytes which will be uploaded at a time.\n",
              "const MAX_PAYLOAD_SIZE = 100 * 1024;\n",
              "\n",
              "function _uploadFiles(inputId, outputId) {\n",
              "  const steps = uploadFilesStep(inputId, outputId);\n",
              "  const outputElement = document.getElementById(outputId);\n",
              "  // Cache steps on the outputElement to make it available for the next call\n",
              "  // to uploadFilesContinue from Python.\n",
              "  outputElement.steps = steps;\n",
              "\n",
              "  return _uploadFilesContinue(outputId);\n",
              "}\n",
              "\n",
              "// This is roughly an async generator (not supported in the browser yet),\n",
              "// where there are multiple asynchronous steps and the Python side is going\n",
              "// to poll for completion of each step.\n",
              "// This uses a Promise to block the python side on completion of each step,\n",
              "// then passes the result of the previous step as the input to the next step.\n",
              "function _uploadFilesContinue(outputId) {\n",
              "  const outputElement = document.getElementById(outputId);\n",
              "  const steps = outputElement.steps;\n",
              "\n",
              "  const next = steps.next(outputElement.lastPromiseValue);\n",
              "  return Promise.resolve(next.value.promise).then((value) => {\n",
              "    // Cache the last promise value to make it available to the next\n",
              "    // step of the generator.\n",
              "    outputElement.lastPromiseValue = value;\n",
              "    return next.value.response;\n",
              "  });\n",
              "}\n",
              "\n",
              "/**\n",
              " * Generator function which is called between each async step of the upload\n",
              " * process.\n",
              " * @param {string} inputId Element ID of the input file picker element.\n",
              " * @param {string} outputId Element ID of the output display.\n",
              " * @return {!Iterable<!Object>} Iterable of next steps.\n",
              " */\n",
              "function* uploadFilesStep(inputId, outputId) {\n",
              "  const inputElement = document.getElementById(inputId);\n",
              "  inputElement.disabled = false;\n",
              "\n",
              "  const outputElement = document.getElementById(outputId);\n",
              "  outputElement.innerHTML = '';\n",
              "\n",
              "  const pickedPromise = new Promise((resolve) => {\n",
              "    inputElement.addEventListener('change', (e) => {\n",
              "      resolve(e.target.files);\n",
              "    });\n",
              "  });\n",
              "\n",
              "  const cancel = document.createElement('button');\n",
              "  inputElement.parentElement.appendChild(cancel);\n",
              "  cancel.textContent = 'Cancel upload';\n",
              "  const cancelPromise = new Promise((resolve) => {\n",
              "    cancel.onclick = () => {\n",
              "      resolve(null);\n",
              "    };\n",
              "  });\n",
              "\n",
              "  // Wait for the user to pick the files.\n",
              "  const files = yield {\n",
              "    promise: Promise.race([pickedPromise, cancelPromise]),\n",
              "    response: {\n",
              "      action: 'starting',\n",
              "    }\n",
              "  };\n",
              "\n",
              "  cancel.remove();\n",
              "\n",
              "  // Disable the input element since further picks are not allowed.\n",
              "  inputElement.disabled = true;\n",
              "\n",
              "  if (!files) {\n",
              "    return {\n",
              "      response: {\n",
              "        action: 'complete',\n",
              "      }\n",
              "    };\n",
              "  }\n",
              "\n",
              "  for (const file of files) {\n",
              "    const li = document.createElement('li');\n",
              "    li.append(span(file.name, {fontWeight: 'bold'}));\n",
              "    li.append(span(\n",
              "        `(${file.type || 'n/a'}) - ${file.size} bytes, ` +\n",
              "        `last modified: ${\n",
              "            file.lastModifiedDate ? file.lastModifiedDate.toLocaleDateString() :\n",
              "                                    'n/a'} - `));\n",
              "    const percent = span('0% done');\n",
              "    li.appendChild(percent);\n",
              "\n",
              "    outputElement.appendChild(li);\n",
              "\n",
              "    const fileDataPromise = new Promise((resolve) => {\n",
              "      const reader = new FileReader();\n",
              "      reader.onload = (e) => {\n",
              "        resolve(e.target.result);\n",
              "      };\n",
              "      reader.readAsArrayBuffer(file);\n",
              "    });\n",
              "    // Wait for the data to be ready.\n",
              "    let fileData = yield {\n",
              "      promise: fileDataPromise,\n",
              "      response: {\n",
              "        action: 'continue',\n",
              "      }\n",
              "    };\n",
              "\n",
              "    // Use a chunked sending to avoid message size limits. See b/62115660.\n",
              "    let position = 0;\n",
              "    do {\n",
              "      const length = Math.min(fileData.byteLength - position, MAX_PAYLOAD_SIZE);\n",
              "      const chunk = new Uint8Array(fileData, position, length);\n",
              "      position += length;\n",
              "\n",
              "      const base64 = btoa(String.fromCharCode.apply(null, chunk));\n",
              "      yield {\n",
              "        response: {\n",
              "          action: 'append',\n",
              "          file: file.name,\n",
              "          data: base64,\n",
              "        },\n",
              "      };\n",
              "\n",
              "      let percentDone = fileData.byteLength === 0 ?\n",
              "          100 :\n",
              "          Math.round((position / fileData.byteLength) * 100);\n",
              "      percent.textContent = `${percentDone}% done`;\n",
              "\n",
              "    } while (position < fileData.byteLength);\n",
              "  }\n",
              "\n",
              "  // All done.\n",
              "  yield {\n",
              "    response: {\n",
              "      action: 'complete',\n",
              "    }\n",
              "  };\n",
              "}\n",
              "\n",
              "scope.google = scope.google || {};\n",
              "scope.google.colab = scope.google.colab || {};\n",
              "scope.google.colab._files = {\n",
              "  _uploadFiles,\n",
              "  _uploadFilesContinue,\n",
              "};\n",
              "})(self);\n",
              "</script> "
            ]
          },
          "metadata": {}
        },
        {
          "output_type": "stream",
          "name": "stdout",
          "text": [
            "Saving 290.jpeg to 290.jpeg\n",
            "\n",
            "image 1/1 /content/290.jpeg: 640x576 1 no_helmet, 208.4ms\n",
            "Speed: 6.4ms preprocess, 208.4ms inference, 1.4ms postprocess per image at shape (1, 3, 640, 576)\n",
            "Results saved to \u001b[1mruns/detect/predict7\u001b[0m\n"
          ]
        }
      ]
    },
    {
      "cell_type": "code",
      "source": [
        "results = model.predict(\n",
        "    source=list(uploaded.keys())[0],\n",
        "    save=True,\n",
        "    project='runs/detect',\n",
        "    name='helmet_test',\n",
        "    exist_ok=False  # ✅ force new folder each time\n",
        ")"
      ],
      "metadata": {
        "colab": {
          "base_uri": "https://localhost:8080/"
        },
        "id": "VaG5N5_4BkYJ",
        "outputId": "373b5354-cea6-4c48-9ca0-700f13e0204b"
      },
      "execution_count": 28,
      "outputs": [
        {
          "output_type": "stream",
          "name": "stdout",
          "text": [
            "\n",
            "image 1/1 /content/290.jpeg: 640x576 1 no_helmet, 203.5ms\n",
            "Speed: 4.5ms preprocess, 203.5ms inference, 1.4ms postprocess per image at shape (1, 3, 640, 576)\n",
            "Results saved to \u001b[1mruns/detect/helmet_test4\u001b[0m\n"
          ]
        }
      ]
    },
    {
      "cell_type": "code",
      "source": [
        "from IPython.display import Image, display\n",
        "import os\n",
        "\n",
        "# Get the first result from the list\n",
        "result = results[0]  # ✅ this is a single prediction result\n",
        "\n",
        "# Get the output directory where the image is saved\n",
        "output_dir = result.save_dir\n",
        "\n",
        "# List the files in that folder (should be 1 image)\n",
        "predicted_files = os.listdir(output_dir)\n",
        "\n",
        "# Build full path to the predicted image\n",
        "predicted_image_path = os.path.join(output_dir, predicted_files[0])\n",
        "\n",
        "# Show the image\n",
        "display(Image(filename=predicted_image_path))\n"
      ],
      "metadata": {
        "colab": {
          "base_uri": "https://localhost:8080/",
          "height": 848
        },
        "id": "NsZDW2WiDuxj",
        "outputId": "a2839164-9295-4c43-ea72-bf7dcbec6ff5"
      },
      "execution_count": 29,
      "outputs": [
        {
          "output_type": "display_data",
          "data": {
            "image/jpeg": "[encoded data removed]",
            "text/plain": [
              "<IPython.core.display.Image object>"
            ]
          },
          "metadata": {}
        }
      ]
    }
  ]
}